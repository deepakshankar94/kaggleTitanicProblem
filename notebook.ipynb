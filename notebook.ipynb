{
 "cells": [
  {
   "cell_type": "markdown",
   "metadata": {
    "_cell_guid": "12fd6515-b983-45bd-bf2e-508d871301d6",
    "_uuid": "82c78cb4c2aeab0a3d0b857295315c42e4a09d6b"
   },
   "source": [
    "# This Notebook still in progress. Feedback is welcome.\n",
    "\n",
    "**Note: ** The mathematical descriptions are very precise and often unambiguous. Describing ML algorithms using Linear Algebra, Prob, Statistic  is not the only way to describe ML algorithms. \n",
    "\n",
    "### ~~このノートを見ると，塾にいくのをいらない。~~\n",
    "### ~~看完後，就不要去報名什麼機器學習補習班了。~~\n",
    "### ~~이 책을 읽고나면 학원에 갈 필요가 없다。~~\n",
    "![](http://quiz.shwemom.com/wp-content/uploads/2016/02/1-22.jpg)\n"
   ]
  },
  {
   "cell_type": "markdown",
   "metadata": {
    "_cell_guid": "e8806d0f-95a0-43f5-ac1a-2716f58950b8",
    "_uuid": "47f91d183494e5d118ff836bbe8e1cc12f9a6efe"
   },
   "source": [
    "# Titanic Explotory Data Analysis\n",
    "\n",
    "`Kueipo- Sept 2017`\n",
    "\n",
    "---\n",
    "## Outline:\n",
    "-   **1. Intoduction** ([completed]())\n",
    "-  **2. Data Visualization** ([completed]())\n",
    "-  **3. Feature Engineering** ([completed]())\n",
    "-  **4. Missing Values Imputation** ([completed]())\n",
    "-  **5. Data Analysis** (to be extended)\n",
    "    - 5.1 Categorical Encoding\n",
    "        - LabelEncoder\n",
    "        - get_dummy\n",
    "    - 5.2 Correlation Heatmap\n",
    "        - seaborn\n",
    "    - 5.3 Split into training & test sets\n",
    "    - 5.4 Feature Important\n",
    "        - Decision Tree\n",
    "        - RandomForest\n",
    "        - XGB\n",
    "        - LGB  \n",
    "-  **6. Cross Validation & Ensembling** (Coming soon)\n",
    "    - 6.1 CV\n",
    "    - 6.2 Ensembling\n",
    "        - Blending and Bagging\n",
    "        - Adaptive Boosting\n",
    "        - C&RT (Decision Tree)\n",
    "        - RandomForest\n",
    "        - Gradient Boosting\n",
    "        - Xgboost\n",
    "        - LightGBM\n",
    "    \n",
    "    - 6.3  Optimal hyperparameters (Coming soon)\n",
    "        - Grid Search\n",
    "        - Bayesian\n",
    "        \n",
    "    - 6.3 Neural Network Keras\n",
    "-  **7. Conclusion** \n",
    " \n"
   ]
  },
  {
   "cell_type": "markdown",
   "metadata": {
    "_cell_guid": "e8e8b40a-2fc0-4b4b-95ad-d327a3220dc1",
    "_uuid": "7d8bad072cc2a4d6c79c0f84cfd2ea9cc51b930c"
   },
   "source": [
    "# 1. Introduction\n",
    "\n",
    "Titanic data is **Binary classification** problem, the goal to win the game is teach machine to classify Dead and Alive.\n",
    "\n",
    "This script assume a background in basic Linear Algebra, Prob, Statistic. It helps if you know the broad strokes, but the goal of this script is to show you ML algorithms from scratch. \n",
    "I will also focus on doing some illustrative data visualizations by Plotly, and walk through popular Machine Learning Techniques. \n",
    "\n",
    "1. Blending and Bagging\n",
    "2. Adaptive Boosting\n",
    "3. C&RT (Decision Tree)\n",
    "4. RandomForest\n",
    "5. Gradient Boosting\n",
    "    - Xgboost\n",
    "    - LightGBM\n",
    "6. Neural Network Keras\n"
   ]
  },
  {
   "cell_type": "markdown",
   "metadata": {
    "_cell_guid": "e44b99ca-7913-4cd5-90fe-577e7848f7cb",
    "_uuid": "6801353b22dea2dd6ea8afd66fbfb5c084572968"
   },
   "source": [
    "\n",
    "## 1.1  Load Packages"
   ]
  },
  {
   "cell_type": "code",
   "execution_count": 51,
   "metadata": {
    "_cell_guid": "d76021aa-d64e-4f7e-977c-fb1b69230744",
    "_uuid": "21e0be83cfa6cb2e2e8bb6f4787cde411ce80680",
    "collapsed": false
   },
   "outputs": [
    {
     "data": {
      "text/html": [
       "<script>requirejs.config({paths: { 'plotly': ['https://cdn.plot.ly/plotly-latest.min']},});if(!window.Plotly) {{require(['plotly'],function(plotly) {window.Plotly=plotly;});}}</script>"
      ],
      "text/vnd.plotly.v1+html": [
       "<script>requirejs.config({paths: { 'plotly': ['https://cdn.plot.ly/plotly-latest.min']},});if(!window.Plotly) {{require(['plotly'],function(plotly) {window.Plotly=plotly;});}}</script>"
      ]
     },
     "metadata": {},
     "output_type": "display_data"
    },
    {
     "ename": "OSError",
     "evalue": "/home/knolly/anaconda3/lib/python3.6/site-packages/zmq/backend/cython/../../../../.././libstdc++.so.6: version `GLIBCXX_3.4.20' not found (required by /home/knolly/anaconda3/lib/python3.6/site-packages/xgboost/./lib/libxgboost.so)",
     "output_type": "error",
     "traceback": [
      "\u001b[0;31m---------------------------------------------------------------------------\u001b[0m",
      "\u001b[0;31mOSError\u001b[0m                                   Traceback (most recent call last)",
      "\u001b[0;32m<ipython-input-51-50c85298a4f5>\u001b[0m in \u001b[0;36m<module>\u001b[0;34m()\u001b[0m\n\u001b[1;32m     24\u001b[0m \u001b[0;32mfrom\u001b[0m \u001b[0msklearn\u001b[0m\u001b[0;34m.\u001b[0m\u001b[0mensemble\u001b[0m \u001b[0;32mimport\u001b[0m \u001b[0mBaggingClassifier\u001b[0m\u001b[0;34m,\u001b[0m \u001b[0mRandomForestClassifier\u001b[0m\u001b[0;34m\u001b[0m\u001b[0m\n\u001b[1;32m     25\u001b[0m \u001b[0;32mfrom\u001b[0m \u001b[0msklearn\u001b[0m\u001b[0;34m.\u001b[0m\u001b[0mensemble\u001b[0m \u001b[0;32mimport\u001b[0m \u001b[0mAdaBoostClassifier\u001b[0m\u001b[0;34m,\u001b[0m \u001b[0mGradientBoostingClassifier\u001b[0m\u001b[0;34m,\u001b[0m \u001b[0mExtraTreesClassifier\u001b[0m\u001b[0;34m\u001b[0m\u001b[0m\n\u001b[0;32m---> 26\u001b[0;31m \u001b[0;32mimport\u001b[0m \u001b[0mxgboost\u001b[0m \u001b[0;32mas\u001b[0m \u001b[0mxgb\u001b[0m \u001b[0;31m# Gradeint Boosting\u001b[0m\u001b[0;34m\u001b[0m\u001b[0m\n\u001b[0m\u001b[1;32m     27\u001b[0m \u001b[0;32mfrom\u001b[0m \u001b[0mxgboost\u001b[0m \u001b[0;32mimport\u001b[0m \u001b[0mXGBClassifier\u001b[0m \u001b[0;31m# Gradeint Boosting\u001b[0m\u001b[0;34m\u001b[0m\u001b[0m\n\u001b[1;32m     28\u001b[0m \u001b[0;32mimport\u001b[0m \u001b[0mlightgbm\u001b[0m \u001b[0;32mas\u001b[0m \u001b[0mlgb\u001b[0m \u001b[0;31m# Gradeint Boosting\u001b[0m\u001b[0;34m\u001b[0m\u001b[0m\n",
      "\u001b[0;32m/home/knolly/anaconda3/lib/python3.6/site-packages/xgboost/__init__.py\u001b[0m in \u001b[0;36m<module>\u001b[0;34m()\u001b[0m\n\u001b[1;32m      9\u001b[0m \u001b[0;32mimport\u001b[0m \u001b[0mos\u001b[0m\u001b[0;34m\u001b[0m\u001b[0m\n\u001b[1;32m     10\u001b[0m \u001b[0;34m\u001b[0m\u001b[0m\n\u001b[0;32m---> 11\u001b[0;31m \u001b[0;32mfrom\u001b[0m \u001b[0;34m.\u001b[0m\u001b[0mcore\u001b[0m \u001b[0;32mimport\u001b[0m \u001b[0mDMatrix\u001b[0m\u001b[0;34m,\u001b[0m \u001b[0mBooster\u001b[0m\u001b[0;34m\u001b[0m\u001b[0m\n\u001b[0m\u001b[1;32m     12\u001b[0m \u001b[0;32mfrom\u001b[0m \u001b[0;34m.\u001b[0m\u001b[0mtraining\u001b[0m \u001b[0;32mimport\u001b[0m \u001b[0mtrain\u001b[0m\u001b[0;34m,\u001b[0m \u001b[0mcv\u001b[0m\u001b[0;34m\u001b[0m\u001b[0m\n\u001b[1;32m     13\u001b[0m \u001b[0;32mfrom\u001b[0m \u001b[0;34m.\u001b[0m \u001b[0;32mimport\u001b[0m \u001b[0mrabit\u001b[0m                   \u001b[0;31m# noqa\u001b[0m\u001b[0;34m\u001b[0m\u001b[0m\n",
      "\u001b[0;32m/home/knolly/anaconda3/lib/python3.6/site-packages/xgboost/core.py\u001b[0m in \u001b[0;36m<module>\u001b[0;34m()\u001b[0m\n\u001b[1;32m    110\u001b[0m \u001b[0;34m\u001b[0m\u001b[0m\n\u001b[1;32m    111\u001b[0m \u001b[0;31m# load the XGBoost library globally\u001b[0m\u001b[0;34m\u001b[0m\u001b[0;34m\u001b[0m\u001b[0m\n\u001b[0;32m--> 112\u001b[0;31m \u001b[0m_LIB\u001b[0m \u001b[0;34m=\u001b[0m \u001b[0m_load_lib\u001b[0m\u001b[0;34m(\u001b[0m\u001b[0;34m)\u001b[0m\u001b[0;34m\u001b[0m\u001b[0m\n\u001b[0m\u001b[1;32m    113\u001b[0m \u001b[0;34m\u001b[0m\u001b[0m\n\u001b[1;32m    114\u001b[0m \u001b[0;34m\u001b[0m\u001b[0m\n",
      "\u001b[0;32m/home/knolly/anaconda3/lib/python3.6/site-packages/xgboost/core.py\u001b[0m in \u001b[0;36m_load_lib\u001b[0;34m()\u001b[0m\n\u001b[1;32m    104\u001b[0m     \u001b[0;32mif\u001b[0m \u001b[0mlen\u001b[0m\u001b[0;34m(\u001b[0m\u001b[0mlib_path\u001b[0m\u001b[0;34m)\u001b[0m \u001b[0;34m==\u001b[0m \u001b[0;36m0\u001b[0m\u001b[0;34m:\u001b[0m\u001b[0;34m\u001b[0m\u001b[0m\n\u001b[1;32m    105\u001b[0m         \u001b[0;32mreturn\u001b[0m \u001b[0;32mNone\u001b[0m\u001b[0;34m\u001b[0m\u001b[0m\n\u001b[0;32m--> 106\u001b[0;31m     \u001b[0mlib\u001b[0m \u001b[0;34m=\u001b[0m \u001b[0mctypes\u001b[0m\u001b[0;34m.\u001b[0m\u001b[0mcdll\u001b[0m\u001b[0;34m.\u001b[0m\u001b[0mLoadLibrary\u001b[0m\u001b[0;34m(\u001b[0m\u001b[0mlib_path\u001b[0m\u001b[0;34m[\u001b[0m\u001b[0;36m0\u001b[0m\u001b[0;34m]\u001b[0m\u001b[0;34m)\u001b[0m\u001b[0;34m\u001b[0m\u001b[0m\n\u001b[0m\u001b[1;32m    107\u001b[0m     \u001b[0mlib\u001b[0m\u001b[0;34m.\u001b[0m\u001b[0mXGBGetLastError\u001b[0m\u001b[0;34m.\u001b[0m\u001b[0mrestype\u001b[0m \u001b[0;34m=\u001b[0m \u001b[0mctypes\u001b[0m\u001b[0;34m.\u001b[0m\u001b[0mc_char_p\u001b[0m\u001b[0;34m\u001b[0m\u001b[0m\n\u001b[1;32m    108\u001b[0m     \u001b[0;32mreturn\u001b[0m \u001b[0mlib\u001b[0m\u001b[0;34m\u001b[0m\u001b[0m\n",
      "\u001b[0;32m/home/knolly/anaconda3/lib/python3.6/ctypes/__init__.py\u001b[0m in \u001b[0;36mLoadLibrary\u001b[0;34m(self, name)\u001b[0m\n\u001b[1;32m    420\u001b[0m \u001b[0;34m\u001b[0m\u001b[0m\n\u001b[1;32m    421\u001b[0m     \u001b[0;32mdef\u001b[0m \u001b[0mLoadLibrary\u001b[0m\u001b[0;34m(\u001b[0m\u001b[0mself\u001b[0m\u001b[0;34m,\u001b[0m \u001b[0mname\u001b[0m\u001b[0;34m)\u001b[0m\u001b[0;34m:\u001b[0m\u001b[0;34m\u001b[0m\u001b[0m\n\u001b[0;32m--> 422\u001b[0;31m         \u001b[0;32mreturn\u001b[0m \u001b[0mself\u001b[0m\u001b[0;34m.\u001b[0m\u001b[0m_dlltype\u001b[0m\u001b[0;34m(\u001b[0m\u001b[0mname\u001b[0m\u001b[0;34m)\u001b[0m\u001b[0;34m\u001b[0m\u001b[0m\n\u001b[0m\u001b[1;32m    423\u001b[0m \u001b[0;34m\u001b[0m\u001b[0m\n\u001b[1;32m    424\u001b[0m \u001b[0mcdll\u001b[0m \u001b[0;34m=\u001b[0m \u001b[0mLibraryLoader\u001b[0m\u001b[0;34m(\u001b[0m\u001b[0mCDLL\u001b[0m\u001b[0;34m)\u001b[0m\u001b[0;34m\u001b[0m\u001b[0m\n",
      "\u001b[0;32m/home/knolly/anaconda3/lib/python3.6/ctypes/__init__.py\u001b[0m in \u001b[0;36m__init__\u001b[0;34m(self, name, mode, handle, use_errno, use_last_error)\u001b[0m\n\u001b[1;32m    342\u001b[0m \u001b[0;34m\u001b[0m\u001b[0m\n\u001b[1;32m    343\u001b[0m         \u001b[0;32mif\u001b[0m \u001b[0mhandle\u001b[0m \u001b[0;32mis\u001b[0m \u001b[0;32mNone\u001b[0m\u001b[0;34m:\u001b[0m\u001b[0;34m\u001b[0m\u001b[0m\n\u001b[0;32m--> 344\u001b[0;31m             \u001b[0mself\u001b[0m\u001b[0;34m.\u001b[0m\u001b[0m_handle\u001b[0m \u001b[0;34m=\u001b[0m \u001b[0m_dlopen\u001b[0m\u001b[0;34m(\u001b[0m\u001b[0mself\u001b[0m\u001b[0;34m.\u001b[0m\u001b[0m_name\u001b[0m\u001b[0;34m,\u001b[0m \u001b[0mmode\u001b[0m\u001b[0;34m)\u001b[0m\u001b[0;34m\u001b[0m\u001b[0m\n\u001b[0m\u001b[1;32m    345\u001b[0m         \u001b[0;32melse\u001b[0m\u001b[0;34m:\u001b[0m\u001b[0;34m\u001b[0m\u001b[0m\n\u001b[1;32m    346\u001b[0m             \u001b[0mself\u001b[0m\u001b[0;34m.\u001b[0m\u001b[0m_handle\u001b[0m \u001b[0;34m=\u001b[0m \u001b[0mhandle\u001b[0m\u001b[0;34m\u001b[0m\u001b[0m\n",
      "\u001b[0;31mOSError\u001b[0m: /home/knolly/anaconda3/lib/python3.6/site-packages/zmq/backend/cython/../../../../.././libstdc++.so.6: version `GLIBCXX_3.4.20' not found (required by /home/knolly/anaconda3/lib/python3.6/site-packages/xgboost/./lib/libxgboost.so)"
     ]
    }
   ],
   "source": [
    "import pandas as pd\n",
    "import numpy as np\n",
    "\n",
    "import matplotlib\n",
    "import matplotlib.pyplot as plt # visualization\n",
    "import seaborn as sns # visualization\n",
    "%matplotlib inline\n",
    "import plotly # visualization\n",
    "import plotly.tools as tls # visualization\n",
    "import plotly.plotly as py # visualization\n",
    "from plotly.graph_objs import Scatter, Figure, Layout # visualization\n",
    "from plotly.offline import download_plotlyjs, init_notebook_mode, plot,iplot # visualization\n",
    "import plotly.figure_factory as ff # visualization\n",
    "import plotly.graph_objs as go # visualization\n",
    "init_notebook_mode(connected=True) # visualization\n",
    "import missingno as msno # visualization\n",
    "\n",
    "from sklearn.preprocessing import LabelEncoder \n",
    "from sklearn.cross_validation import KFold\n",
    "from sklearn.model_selection import GridSearchCV, train_test_split, cross_val_score\n",
    "from sklearn.metrics import confusion_matrix # Metric \n",
    "# Ensemble\n",
    "from sklearn.tree import DecisionTreeClassifier\n",
    "from sklearn.ensemble import BaggingClassifier, RandomForestClassifier \n",
    "from sklearn.ensemble import AdaBoostClassifier, GradientBoostingClassifier, ExtraTreesClassifier\n",
    "import xgboost as xgb # Gradeint Boosting\n",
    "from xgboost import XGBClassifier # Gradeint Boosting\n",
    "import lightgbm as lgb # Gradeint Boosting\n",
    "import catboost as cat  # Gradeint Boosting\n",
    "\n",
    "import warnings\n",
    "warnings.filterwarnings(\"ignore\")"
   ]
  },
  {
   "cell_type": "markdown",
   "metadata": {
    "_cell_guid": "53da8362-8e0a-414c-ad2b-2fd1b82761b0",
    "_uuid": "c61df81bfc4f98308312fbf4cfa2ff020e8d8a70"
   },
   "source": [
    "### Load input data"
   ]
  },
  {
   "cell_type": "code",
   "execution_count": 5,
   "metadata": {
    "_cell_guid": "6dceffb8-a082-43fa-ae8a-3d8fa6ae9e33",
    "_uuid": "53ac0bf24fd5f54f60b1cc2f2e7ac61d13d20245",
    "collapsed": false
   },
   "outputs": [],
   "source": [
    "train = pd.read_csv(\"data/train.csv\")\n",
    "test = pd.read_csv(\"data/test.csv\")\n",
    "\n",
    "combine = pd.concat([train.drop('Survived',1),test])"
   ]
  },
  {
   "cell_type": "code",
   "execution_count": 6,
   "metadata": {
    "_cell_guid": "3dd25f56-de36-467c-92e0-84f266488dd7",
    "_uuid": "836ab564d6f0ea781cacc6c011d24eb0741f2ad3",
    "collapsed": false
   },
   "outputs": [
    {
     "data": {
      "text/html": [
       "<div>\n",
       "<table border=\"1\" class=\"dataframe\">\n",
       "  <thead>\n",
       "    <tr style=\"text-align: right;\">\n",
       "      <th></th>\n",
       "      <th>PassengerId</th>\n",
       "      <th>Survived</th>\n",
       "      <th>Pclass</th>\n",
       "      <th>Name</th>\n",
       "      <th>Sex</th>\n",
       "      <th>Age</th>\n",
       "      <th>SibSp</th>\n",
       "      <th>Parch</th>\n",
       "      <th>Ticket</th>\n",
       "      <th>Fare</th>\n",
       "      <th>Cabin</th>\n",
       "      <th>Embarked</th>\n",
       "    </tr>\n",
       "  </thead>\n",
       "  <tbody>\n",
       "    <tr>\n",
       "      <th>0</th>\n",
       "      <td>1</td>\n",
       "      <td>0</td>\n",
       "      <td>3</td>\n",
       "      <td>Braund, Mr. Owen Harris</td>\n",
       "      <td>male</td>\n",
       "      <td>22.0</td>\n",
       "      <td>1</td>\n",
       "      <td>0</td>\n",
       "      <td>A/5 21171</td>\n",
       "      <td>7.2500</td>\n",
       "      <td>NaN</td>\n",
       "      <td>S</td>\n",
       "    </tr>\n",
       "    <tr>\n",
       "      <th>1</th>\n",
       "      <td>2</td>\n",
       "      <td>1</td>\n",
       "      <td>1</td>\n",
       "      <td>Cumings, Mrs. John Bradley (Florence Briggs Th...</td>\n",
       "      <td>female</td>\n",
       "      <td>38.0</td>\n",
       "      <td>1</td>\n",
       "      <td>0</td>\n",
       "      <td>PC 17599</td>\n",
       "      <td>71.2833</td>\n",
       "      <td>C85</td>\n",
       "      <td>C</td>\n",
       "    </tr>\n",
       "    <tr>\n",
       "      <th>2</th>\n",
       "      <td>3</td>\n",
       "      <td>1</td>\n",
       "      <td>3</td>\n",
       "      <td>Heikkinen, Miss. Laina</td>\n",
       "      <td>female</td>\n",
       "      <td>26.0</td>\n",
       "      <td>0</td>\n",
       "      <td>0</td>\n",
       "      <td>STON/O2. 3101282</td>\n",
       "      <td>7.9250</td>\n",
       "      <td>NaN</td>\n",
       "      <td>S</td>\n",
       "    </tr>\n",
       "    <tr>\n",
       "      <th>3</th>\n",
       "      <td>4</td>\n",
       "      <td>1</td>\n",
       "      <td>1</td>\n",
       "      <td>Futrelle, Mrs. Jacques Heath (Lily May Peel)</td>\n",
       "      <td>female</td>\n",
       "      <td>35.0</td>\n",
       "      <td>1</td>\n",
       "      <td>0</td>\n",
       "      <td>113803</td>\n",
       "      <td>53.1000</td>\n",
       "      <td>C123</td>\n",
       "      <td>S</td>\n",
       "    </tr>\n",
       "    <tr>\n",
       "      <th>4</th>\n",
       "      <td>5</td>\n",
       "      <td>0</td>\n",
       "      <td>3</td>\n",
       "      <td>Allen, Mr. William Henry</td>\n",
       "      <td>male</td>\n",
       "      <td>35.0</td>\n",
       "      <td>0</td>\n",
       "      <td>0</td>\n",
       "      <td>373450</td>\n",
       "      <td>8.0500</td>\n",
       "      <td>NaN</td>\n",
       "      <td>S</td>\n",
       "    </tr>\n",
       "  </tbody>\n",
       "</table>\n",
       "</div>"
      ],
      "text/plain": [
       "   PassengerId  Survived  Pclass  \\\n",
       "0            1         0       3   \n",
       "1            2         1       1   \n",
       "2            3         1       3   \n",
       "3            4         1       1   \n",
       "4            5         0       3   \n",
       "\n",
       "                                                Name     Sex   Age  SibSp  \\\n",
       "0                            Braund, Mr. Owen Harris    male  22.0      1   \n",
       "1  Cumings, Mrs. John Bradley (Florence Briggs Th...  female  38.0      1   \n",
       "2                             Heikkinen, Miss. Laina  female  26.0      0   \n",
       "3       Futrelle, Mrs. Jacques Heath (Lily May Peel)  female  35.0      1   \n",
       "4                           Allen, Mr. William Henry    male  35.0      0   \n",
       "\n",
       "   Parch            Ticket     Fare Cabin Embarked  \n",
       "0      0         A/5 21171   7.2500   NaN        S  \n",
       "1      0          PC 17599  71.2833   C85        C  \n",
       "2      0  STON/O2. 3101282   7.9250   NaN        S  \n",
       "3      0            113803  53.1000  C123        S  \n",
       "4      0            373450   8.0500   NaN        S  "
      ]
     },
     "execution_count": 6,
     "metadata": {},
     "output_type": "execute_result"
    }
   ],
   "source": [
    "train.head()"
   ]
  },
  {
   "cell_type": "markdown",
   "metadata": {
    "_cell_guid": "1077024f-fbad-4722-b20d-ba29a3b39e07",
    "_uuid": "fc7fea9229ebfa1197e8392fd30dc549f7567c8b"
   },
   "source": [
    "# 2. Data Visualization"
   ]
  },
  {
   "cell_type": "markdown",
   "metadata": {
    "_cell_guid": "dbcd1981-458c-46d4-aed5-d39fff5cb8e4",
    "_uuid": "4893dda934178bc9fef9b65452ecdc3f0811d426"
   },
   "source": [
    "## 2.1 Do Nobles are easier to survive ?/貴族真的比較容易活下去嗎？\n",
    "- From the film Titanic, we knew The First class/The Nobility have first priority to take the lifeboat.\n",
    "- In other word, poor have little chance to take the lifeboat.\n",
    "- 從電影，貴族具有絕對優先權搭乘救生筏，沒錢的閃邊去，是真的嗎？\n",
    "- Let's find out.\n",
    "\n",
    "![](http://media2.intoday.in/indiatoday/images/stories//2017April/titanic4-mos_042017035113.jpg)"
   ]
  },
  {
   "cell_type": "code",
   "execution_count": 7,
   "metadata": {
    "_cell_guid": "48ce25cc-c393-4a7d-97ce-aa5979a17f2a",
    "_uuid": "b6514f1b2a450eda649b19a535be6edefbc41253",
    "collapsed": false
   },
   "outputs": [
    {
     "data": {
      "application/vnd.plotly.v1+json": {
       "data": [
        {
         "name": "Survive",
         "type": "bar",
         "x": [
          "First Class",
          "Bussiness Class",
          "Economy Class"
         ],
         "y": [
          136,
          87,
          87
         ]
        },
        {
         "marker": {
          "color": "rgb(58,200,225)",
          "line": {
           "color": "rgb(8,48,107)",
           "width": 1.5
          }
         },
         "name": "Be with God",
         "type": "bar",
         "x": [
          "First Class",
          "Bussiness Class",
          "Economy Class"
         ],
         "y": [
          80,
          97,
          97
         ]
        }
       ],
       "layout": {
        "barmode": "group",
        "yaxis": {
         "title": "Counts",
         "zeroline": false
        }
       }
      },
      "text/html": [
       "<div id=\"5ac83e70-1716-4194-9741-cab4ddb2cf98\" style=\"height: 525px; width: 100%;\" class=\"plotly-graph-div\"></div><script type=\"text/javascript\">require([\"plotly\"], function(Plotly) { window.PLOTLYENV=window.PLOTLYENV || {};window.PLOTLYENV.BASE_URL=\"https://plot.ly\";Plotly.newPlot(\"5ac83e70-1716-4194-9741-cab4ddb2cf98\", [{\"type\": \"bar\", \"x\": [\"First Class\", \"Bussiness Class\", \"Economy Class\"], \"y\": [136, 87, 87], \"name\": \"Survive\"}, {\"type\": \"bar\", \"x\": [\"First Class\", \"Bussiness Class\", \"Economy Class\"], \"y\": [80, 97, 97], \"name\": \"Be with God\", \"marker\": {\"color\": \"rgb(58,200,225)\", \"line\": {\"color\": \"rgb(8,48,107)\", \"width\": 1.5}}}], {\"barmode\": \"group\", \"yaxis\": {\"zeroline\": false, \"title\": \"Counts\"}}, {\"showLink\": true, \"linkText\": \"Export to plot.ly\"})});</script>"
      ],
      "text/vnd.plotly.v1+html": [
       "<div id=\"5ac83e70-1716-4194-9741-cab4ddb2cf98\" style=\"height: 525px; width: 100%;\" class=\"plotly-graph-div\"></div><script type=\"text/javascript\">require([\"plotly\"], function(Plotly) { window.PLOTLYENV=window.PLOTLYENV || {};window.PLOTLYENV.BASE_URL=\"https://plot.ly\";Plotly.newPlot(\"5ac83e70-1716-4194-9741-cab4ddb2cf98\", [{\"type\": \"bar\", \"x\": [\"First Class\", \"Bussiness Class\", \"Economy Class\"], \"y\": [136, 87, 87], \"name\": \"Survive\"}, {\"type\": \"bar\", \"x\": [\"First Class\", \"Bussiness Class\", \"Economy Class\"], \"y\": [80, 97, 97], \"name\": \"Be with God\", \"marker\": {\"color\": \"rgb(58,200,225)\", \"line\": {\"color\": \"rgb(8,48,107)\", \"width\": 1.5}}}], {\"barmode\": \"group\", \"yaxis\": {\"zeroline\": false, \"title\": \"Counts\"}}, {\"showLink\": true, \"linkText\": \"Export to plot.ly\"})});</script>"
      ]
     },
     "metadata": {},
     "output_type": "display_data"
    }
   ],
   "source": [
    "class1_s = len(train[(train['Pclass']==1) & (train['Survived']==1)])\n",
    "class1_d = len(train[(train['Pclass']==1) & (train['Survived']==0)])\n",
    "class2_s = len(train[(train['Pclass']==2) & (train['Survived']==1)])\n",
    "class2_d = len(train[(train['Pclass']==2) & (train['Survived']==0)])\n",
    "class3_s = len(train[(train['Pclass']==3) & (train['Survived']==1)])\n",
    "class3_d = len(train[(train['Pclass']==3) & (train['Survived']==0)])\n",
    "\n",
    "trace1 = go.Bar(\n",
    "    x=['First Class', 'Bussiness Class', 'Economy Class'],\n",
    "    y=[class1_s , class2_s , class2_s],\n",
    "    name='Survive')\n",
    "\n",
    "trace2 = go.Bar(\n",
    "    x=['First Class', 'Bussiness Class', 'Economy Class'],\n",
    "    y=[class1_d , class2_d , class2_d],\n",
    "    name='Be with God',\n",
    "    marker=dict(\n",
    "        color='rgb(58,200,225)',\n",
    "        line=dict(\n",
    "            color='rgb(8,48,107)',\n",
    "            width=1.5)))\n",
    "data = [trace1, trace2]\n",
    "layout = go.Layout(\n",
    "    barmode='group',\n",
    "    yaxis = dict(zeroline = False, title='Counts'))\n",
    "fig = go.Figure(data=data, layout=layout)\n",
    "plotly.offline.iplot(fig, filename='grouped-bar')"
   ]
  },
  {
   "cell_type": "code",
   "execution_count": 8,
   "metadata": {
    "_cell_guid": "456d5333-29e3-4270-90c8-64037fcc6ec0",
    "_uuid": "cac787ee842d2167253f846c30d0bb1f35fa5628",
    "collapsed": false
   },
   "outputs": [
    {
     "data": {
      "application/vnd.plotly.v1+json": {
       "data": [
        {
         "domain": {
          "x": [
           0,
           0.48
          ]
         },
         "hole": 0.4,
         "hoverinfo": "label+percent+name",
         "labels": [
          "Noble Class",
          "Bussiness Class",
          "Poor Class"
         ],
         "marker": {
          "colors": [
           "rgb(58,200,225)",
           "rgb(129, 180, 179)"
          ]
         },
         "name": "Survived",
         "type": "pie",
         "values": [
          136,
          87,
          119
         ]
        },
        {
         "domain": {
          "x": [
           0.52,
           1
          ]
         },
         "hole": 0.4,
         "hoverinfo": "label+percent+name",
         "labels": [
          "Noble Class",
          "Bussiness Class",
          "Poor Class"
         ],
         "name": "In Heaven",
         "text": "Be with God",
         "textposition": "inside",
         "type": "pie",
         "values": [
          80,
          97,
          372
         ]
        }
       ],
       "layout": {
        "annotations": [
         {
          "font": {
           "size": 20
          },
          "showarrow": false,
          "text": "Alive",
          "x": 0.2,
          "y": 0.5
         },
         {
          "font": {
           "size": 20
          },
          "showarrow": false,
          "text": "Dead",
          "x": 0.8,
          "y": 0.5
         }
        ],
        "title": "Titanic Survival/Dead Ratio"
       }
      },
      "text/html": [
       "<div id=\"493962c9-e5f6-4be7-b5a9-b824b6e3d45c\" style=\"height: 525px; width: 100%;\" class=\"plotly-graph-div\"></div><script type=\"text/javascript\">require([\"plotly\"], function(Plotly) { window.PLOTLYENV=window.PLOTLYENV || {};window.PLOTLYENV.BASE_URL=\"https://plot.ly\";Plotly.newPlot(\"493962c9-e5f6-4be7-b5a9-b824b6e3d45c\", [{\"values\": [136, 87, 119], \"labels\": [\"Noble Class\", \"Bussiness Class\", \"Poor Class\"], \"domain\": {\"x\": [0, 0.48]}, \"name\": \"Survived\", \"hoverinfo\": \"label+percent+name\", \"hole\": 0.4, \"marker\": {\"colors\": [\"rgb(58,200,225)\", \"rgb(129, 180, 179)\"]}, \"type\": \"pie\"}, {\"values\": [80, 97, 372], \"labels\": [\"Noble Class\", \"Bussiness Class\", \"Poor Class\"], \"text\": \"Be with God\", \"textposition\": \"inside\", \"domain\": {\"x\": [0.52, 1]}, \"name\": \"In Heaven\", \"hoverinfo\": \"label+percent+name\", \"hole\": 0.4, \"type\": \"pie\"}], {\"title\": \"Titanic Survival/Dead Ratio\", \"annotations\": [{\"font\": {\"size\": 20}, \"showarrow\": false, \"text\": \"Alive\", \"x\": 0.2, \"y\": 0.5}, {\"font\": {\"size\": 20}, \"showarrow\": false, \"text\": \"Dead\", \"x\": 0.8, \"y\": 0.5}]}, {\"showLink\": true, \"linkText\": \"Export to plot.ly\"})});</script>"
      ],
      "text/vnd.plotly.v1+html": [
       "<div id=\"493962c9-e5f6-4be7-b5a9-b824b6e3d45c\" style=\"height: 525px; width: 100%;\" class=\"plotly-graph-div\"></div><script type=\"text/javascript\">require([\"plotly\"], function(Plotly) { window.PLOTLYENV=window.PLOTLYENV || {};window.PLOTLYENV.BASE_URL=\"https://plot.ly\";Plotly.newPlot(\"493962c9-e5f6-4be7-b5a9-b824b6e3d45c\", [{\"values\": [136, 87, 119], \"labels\": [\"Noble Class\", \"Bussiness Class\", \"Poor Class\"], \"domain\": {\"x\": [0, 0.48]}, \"name\": \"Survived\", \"hoverinfo\": \"label+percent+name\", \"hole\": 0.4, \"marker\": {\"colors\": [\"rgb(58,200,225)\", \"rgb(129, 180, 179)\"]}, \"type\": \"pie\"}, {\"values\": [80, 97, 372], \"labels\": [\"Noble Class\", \"Bussiness Class\", \"Poor Class\"], \"text\": \"Be with God\", \"textposition\": \"inside\", \"domain\": {\"x\": [0.52, 1]}, \"name\": \"In Heaven\", \"hoverinfo\": \"label+percent+name\", \"hole\": 0.4, \"type\": \"pie\"}], {\"title\": \"Titanic Survival/Dead Ratio\", \"annotations\": [{\"font\": {\"size\": 20}, \"showarrow\": false, \"text\": \"Alive\", \"x\": 0.2, \"y\": 0.5}, {\"font\": {\"size\": 20}, \"showarrow\": false, \"text\": \"Dead\", \"x\": 0.8, \"y\": 0.5}]}, {\"showLink\": true, \"linkText\": \"Export to plot.ly\"})});</script>"
      ]
     },
     "metadata": {},
     "output_type": "display_data"
    }
   ],
   "source": [
    "fig = {\n",
    "  \"data\": [\n",
    "    {\n",
    "      \"values\": [class1_s ,class2_s ,class3_s],\n",
    "      \"labels\": ['Noble Class', 'Bussiness Class', 'Poor Class'],\n",
    "      \"domain\": {\"x\": [0, .48]},\n",
    "      \"name\": \"Survived\",\n",
    "      \"hoverinfo\":\"label+percent+name\",\n",
    "      \"hole\": .4,\n",
    "      'marker': {'colors': ['rgb(58,200,225)','rgb(129, 180, 179)']},\n",
    "      \"type\": \"pie\"\n",
    "    },     \n",
    "    {\n",
    "      \"values\": [class1_d ,class2_d ,class3_d],\n",
    "      \"labels\": ['Noble Class', 'Bussiness Class', 'Poor Class'],\n",
    "      \"text\":\"Be with God\",\n",
    "      \"textposition\":\"inside\",\n",
    "      \"domain\": {\"x\": [.52, 1]},\n",
    "      \"name\": \"In Heaven\",\n",
    "      \"hoverinfo\":\"label+percent+name\",\n",
    "      \"hole\": .4,\n",
    "      \"type\": \"pie\"\n",
    "    }],\n",
    "  \"layout\": {\n",
    "        \"title\":\"Titanic Survival/Dead Ratio\",\n",
    "        \"annotations\": [\n",
    "            {\n",
    "                \"font\": {\"size\": 20},\n",
    "                \"showarrow\": False,\n",
    "                \"text\": \"Alive\",\n",
    "                \"x\": 0.20,\n",
    "                \"y\": 0.5\n",
    "            },\n",
    "            {\n",
    "                \"font\": {\"size\": 20},\n",
    "                \"showarrow\": False,\n",
    "                \"text\": \"Dead\",\n",
    "                \"x\": 0.8,\n",
    "                \"y\": 0.5\n",
    "            }\n",
    "        ]\n",
    "    }\n",
    "}\n",
    "plotly.offline.iplot(fig, filename='donut')"
   ]
  },
  {
   "cell_type": "markdown",
   "metadata": {
    "_cell_guid": "46e87947-6f2f-4ffd-9d52-c06ed2b07d2a",
    "_uuid": "95ab9a7fd25577ce6780bc16b8bbe6caed6f3409"
   },
   "source": [
    "From Pie plot, over 2/3 people died who are poor\n",
    "- As **Donald Trump** says he doesn't want a 'poor person'\n"
   ]
  },
  {
   "cell_type": "markdown",
   "metadata": {
    "_cell_guid": "cc2a60bb-dd84-48ca-8028-44223df04131",
    "_uuid": "67f6c020bd67595a8eddc4ad846369b2d43b8421"
   },
   "source": [
    " ## 2.2 When the death comes, the lady is given priority ? \n"
   ]
  },
  {
   "cell_type": "code",
   "execution_count": 9,
   "metadata": {
    "_cell_guid": "2cd5fbe9-1542-4b24-9e34-95c1f98e686c",
    "_uuid": "5d73a854a3aba897f406adf0f12d5bf4ec09ade7",
    "collapsed": false
   },
   "outputs": [
    {
     "data": {
      "application/vnd.plotly.v1+json": {
       "data": [
        {
         "marker": {
          "line": {
           "color": "rgb(8,48,107)",
           "width": 1.5
          }
         },
         "name": "Female",
         "type": "bar",
         "x": [
          "Young",
          "Adult",
          "Elder"
         ],
         "y": [
          46,
          130,
          29
         ]
        },
        {
         "marker": {
          "color": "rgb(58,200,225)",
          "line": {
           "color": "rgb(8,48,107)",
           "width": 1.5
          }
         },
         "name": "Male",
         "type": "bar",
         "x": [
          "Young",
          "Adult",
          "Elder"
         ],
         "y": [
          24,
          56,
          14
         ]
        }
       ],
       "layout": {
        "barmode": "stack",
        "title": "Titanic Suvival Gender Ratio",
        "yaxis": {
         "title": "Counts"
        }
       }
      },
      "text/html": [
       "<div id=\"f993a6e7-49af-43cc-a44b-aea15529c6b2\" style=\"height: 525px; width: 100%;\" class=\"plotly-graph-div\"></div><script type=\"text/javascript\">require([\"plotly\"], function(Plotly) { window.PLOTLYENV=window.PLOTLYENV || {};window.PLOTLYENV.BASE_URL=\"https://plot.ly\";Plotly.newPlot(\"f993a6e7-49af-43cc-a44b-aea15529c6b2\", [{\"type\": \"bar\", \"x\": [\"Young\", \"Adult\", \"Elder\"], \"y\": [46, 130, 29], \"name\": \"Female\", \"marker\": {\"line\": {\"color\": \"rgb(8,48,107)\", \"width\": 1.5}}}, {\"type\": \"bar\", \"x\": [\"Young\", \"Adult\", \"Elder\"], \"y\": [24, 56, 14], \"name\": \"Male\", \"marker\": {\"color\": \"rgb(58,200,225)\", \"line\": {\"color\": \"rgb(8,48,107)\", \"width\": 1.5}}}], {\"title\": \"Titanic Suvival Gender Ratio\", \"barmode\": \"stack\", \"yaxis\": {\"title\": \"Counts\"}}, {\"showLink\": true, \"linkText\": \"Export to plot.ly\"})});</script>"
      ],
      "text/vnd.plotly.v1+html": [
       "<div id=\"f993a6e7-49af-43cc-a44b-aea15529c6b2\" style=\"height: 525px; width: 100%;\" class=\"plotly-graph-div\"></div><script type=\"text/javascript\">require([\"plotly\"], function(Plotly) { window.PLOTLYENV=window.PLOTLYENV || {};window.PLOTLYENV.BASE_URL=\"https://plot.ly\";Plotly.newPlot(\"f993a6e7-49af-43cc-a44b-aea15529c6b2\", [{\"type\": \"bar\", \"x\": [\"Young\", \"Adult\", \"Elder\"], \"y\": [46, 130, 29], \"name\": \"Female\", \"marker\": {\"line\": {\"color\": \"rgb(8,48,107)\", \"width\": 1.5}}}, {\"type\": \"bar\", \"x\": [\"Young\", \"Adult\", \"Elder\"], \"y\": [24, 56, 14], \"name\": \"Male\", \"marker\": {\"color\": \"rgb(58,200,225)\", \"line\": {\"color\": \"rgb(8,48,107)\", \"width\": 1.5}}}], {\"title\": \"Titanic Suvival Gender Ratio\", \"barmode\": \"stack\", \"yaxis\": {\"title\": \"Counts\"}}, {\"showLink\": true, \"linkText\": \"Export to plot.ly\"})});</script>"
      ]
     },
     "metadata": {},
     "output_type": "display_data"
    }
   ],
   "source": [
    "c1_y = len(train[(train['Sex']=='female')&(train['Age']<=18)& (train['Survived']==1)])\n",
    "c1_a = len(train[(train['Sex']=='female')&((train['Age']>=18)&(train['Age']<45))& (train['Survived']==1)])\n",
    "c1_e = len(train[(train['Sex']=='female')&(train['Age']>=45)& (train['Survived']==1)])\n",
    "\n",
    "c2_y = len(train[(train['Sex']=='male')&(train['Age']<=18)& (train['Survived']==1)])\n",
    "c2_a = len(train[(train['Sex']=='male')&((train['Age']>=18)&(train['Age']<45))& (train['Survived']==1)])\n",
    "c2_e = len(train[(train['Sex']=='male')&(train['Age']>=45)& (train['Survived']==1)])\n",
    "\n",
    "\n",
    "trace1 = go.Bar(\n",
    "    x=['Young', 'Adult', 'Elder'],\n",
    "    y=[c1_y, c1_a, c1_e],\n",
    "    name='Female',\n",
    "    marker=dict(\n",
    "        line=dict(\n",
    "            color='rgb(8,48,107)',\n",
    "            width=1.5),\n",
    "        )\n",
    ")\n",
    "trace2 = go.Bar(\n",
    "    x=['Young', 'Adult', 'Elder'],\n",
    "    y=[c2_y, c2_a, c2_e],\n",
    "    name='Male',\n",
    "    marker=dict(\n",
    "        color='rgb(58,200,225)',\n",
    "        line=dict(\n",
    "            color='rgb(8,48,107)',\n",
    "            width=1.5),\n",
    "        )\n",
    ")\n",
    "\n",
    "data = [trace1, trace2]\n",
    "layout = go.Layout(\n",
    "    title = 'Titanic Suvival Gender Ratio',\n",
    "    barmode='stack',\n",
    "    yaxis = dict(title='Counts')\n",
    ")\n",
    "\n",
    "fig = go.Figure(data=data, layout=layout)\n",
    "plotly.offline.iplot(fig, filename='stacked-bar')\n"
   ]
  },
  {
   "cell_type": "markdown",
   "metadata": {
    "_cell_guid": "2759680c-8f75-4c78-b1ca-ce050d9f7000",
    "_uuid": "0c62a58f728e3038d9a045db284d04b0a5a54d0b"
   },
   "source": [
    "Wow! There were no people similiar to Donal Trump in Titanic, even they struggled to survive.\n",
    "\n",
    "\"_We elected our oldest president ever, and he tweets like a kindergartner._\"  \n",
    "said **13-year-old** Ethan Sonneborn, a gubernatorial candidate in Vermont. \""
   ]
  },
  {
   "cell_type": "markdown",
   "metadata": {
    "_cell_guid": "952ab169-5487-49c3-a4bb-16c677ed4350",
    "_uuid": "8163de228d71d5b9a41cb4a6ad6648df844a7ad4"
   },
   "source": [
    "## 2.3 The more you paid, the easier to survive?\n"
   ]
  },
  {
   "cell_type": "code",
   "execution_count": 10,
   "metadata": {
    "_cell_guid": "45da57d5-10f8-4ebf-a43a-56d37d42abbf",
    "_uuid": "55b9c6f3c4376f2ff9eb99ddff577209b65e77ed",
    "collapsed": false
   },
   "outputs": [
    {
     "data": {
      "application/vnd.plotly.v1+json": {
       "data": [
        {
         "marker": {
          "color": "rgb(58,200,225)",
          "line": {
           "color": "rgb(0, 0, 0)",
           "width": 2
          },
          "size": 8
         },
         "mode": "markers",
         "name": "Survived",
         "type": "scatter",
         "x": [
          38,
          26,
          35,
          27,
          14,
          4,
          58,
          55,
          null,
          null,
          34,
          15,
          28,
          38,
          null,
          null,
          null,
          null,
          14,
          3,
          19,
          null,
          49,
          29,
          null,
          21,
          5,
          38,
          null,
          29,
          17,
          32,
          0.83,
          30,
          29,
          null,
          17,
          33,
          23,
          23,
          34,
          21,
          null,
          null,
          32.5,
          12,
          24,
          null,
          29,
          19,
          22,
          24,
          27,
          22,
          16,
          40,
          9,
          null,
          1,
          1,
          4,
          null,
          45,
          32,
          19,
          3,
          44,
          58,
          null,
          18,
          26,
          16,
          40,
          35,
          31,
          27,
          32,
          16,
          38,
          19,
          35,
          5,
          8,
          null,
          24,
          37,
          29,
          null,
          30,
          35,
          50,
          3,
          25,
          58,
          35,
          25,
          41,
          null,
          63,
          35,
          19,
          30,
          42,
          22,
          26,
          19,
          null,
          50,
          null,
          null,
          null,
          0.92,
          null,
          17,
          30,
          24,
          18,
          26,
          24,
          31,
          40,
          30,
          22,
          36,
          36,
          31,
          16,
          null,
          null,
          41,
          45,
          2,
          24,
          24,
          40,
          null,
          3,
          22,
          null,
          null,
          60,
          null,
          null,
          24,
          25,
          null,
          22,
          42,
          1,
          35,
          36,
          17,
          36,
          21,
          23,
          24,
          28,
          39,
          3,
          33,
          44,
          34,
          18,
          28,
          19,
          32,
          28,
          null,
          42,
          14,
          24,
          45,
          28,
          null,
          4,
          13,
          34,
          5,
          52,
          49,
          29,
          null,
          50,
          48,
          0.75,
          33,
          23,
          2,
          63,
          25,
          35,
          9,
          54,
          16,
          33,
          null,
          26,
          29,
          36,
          54,
          34,
          36,
          30,
          44,
          50,
          2,
          null,
          7,
          30,
          22,
          36,
          32,
          19,
          null,
          8,
          17,
          22,
          22,
          48,
          39,
          36,
          32,
          62,
          53,
          36,
          null,
          34,
          39,
          32,
          25,
          39,
          18,
          60,
          52,
          null,
          49,
          24,
          35,
          27,
          22,
          40,
          null,
          24,
          4,
          42,
          20,
          21,
          80,
          32,
          28,
          24,
          null,
          0.75,
          48,
          56,
          23,
          18,
          null,
          50,
          20,
          null,
          40,
          31,
          18,
          36,
          27,
          15,
          31,
          4,
          null,
          null,
          18,
          35,
          45,
          42,
          22,
          null,
          24,
          48,
          38,
          27,
          6,
          27,
          30,
          null,
          29,
          35,
          null,
          21,
          31,
          30,
          4,
          6,
          48,
          0.67,
          33,
          20,
          36,
          51,
          54,
          5,
          43,
          13,
          17,
          18,
          1,
          49,
          31,
          31,
          11,
          0.42,
          27,
          33,
          52,
          27,
          27,
          1,
          null,
          62,
          15,
          0.83,
          39,
          32,
          null,
          30,
          null,
          16,
          18,
          45,
          51,
          24,
          48,
          42,
          27,
          4,
          47,
          28,
          15,
          56,
          25,
          19,
          26
         ],
         "y": [
          71.2833,
          7.925,
          53.1,
          11.1333,
          30.0708,
          16.7,
          26.55,
          16,
          13,
          7.225,
          13,
          8.0292,
          35.5,
          31.3875,
          7.8792,
          146.5208,
          7.75,
          7.2292,
          11.2417,
          41.5792,
          7.8792,
          7.75,
          76.7292,
          26,
          35.5,
          10.5,
          27.75,
          80,
          15.2458,
          10.5,
          7.925,
          56.4958,
          29,
          12.475,
          9.5,
          7.7875,
          10.5,
          15.85,
          263,
          63.3583,
          23,
          7.65,
          7.775,
          24.15,
          13,
          11.2417,
          7.1417,
          22.3583,
          26,
          26.2833,
          7.75,
          15.85,
          7.7958,
          66.6,
          7.7333,
          15.75,
          20.525,
          55,
          11.1333,
          39,
          22.025,
          15.5,
          26.55,
          13,
          7.8542,
          26,
          27.7208,
          146.5208,
          7.75,
          8.05,
          18.7875,
          7.75,
          31,
          21,
          113.275,
          7.925,
          76.2917,
          8.05,
          90,
          10.5,
          83.475,
          31.3875,
          26.25,
          15.5,
          14.5,
          52.5542,
          15.2458,
          79.2,
          86.5,
          512.3292,
          26,
          31.3875,
          7.775,
          153.4625,
          135.6333,
          0,
          19.5,
          7.75,
          77.9583,
          20.25,
          8.05,
          9.5,
          13,
          7.75,
          78.85,
          91.0792,
          30.5,
          247.5208,
          7.75,
          23.25,
          12.35,
          151.55,
          110.8833,
          108.9,
          56.9292,
          83.1583,
          262.375,
          7.8542,
          26,
          164.8667,
          134.5,
          12.35,
          29,
          135.6333,
          13,
          20.525,
          57.9792,
          23.25,
          133.65,
          134.5,
          8.05,
          26,
          263,
          13,
          13,
          16.1,
          15.9,
          55,
          7.8792,
          7.8792,
          75.25,
          7.2292,
          7.75,
          69.3,
          55.4417,
          82.1708,
          7.25,
          227.525,
          15.7417,
          52,
          13,
          12,
          120,
          7.7958,
          113.275,
          16.7,
          12.65,
          7.925,
          18.75,
          90,
          7.925,
          32.5,
          13,
          26,
          26,
          8.05,
          26.55,
          16.1,
          26,
          120,
          18.75,
          26.25,
          13,
          8.1125,
          81.8583,
          19.5,
          26.55,
          19.2583,
          30.5,
          89.1042,
          7.8958,
          51.8625,
          10.5,
          26.55,
          19.2583,
          27.75,
          13.7917,
          12.2875,
          9.5875,
          91.0792,
          90,
          15.9,
          78.2667,
          86.5,
          26,
          26.55,
          56.4958,
          7.75,
          26.2875,
          59.4,
          10.5,
          26,
          93.5,
          57.9792,
          10.5,
          26,
          22.3583,
          26.25,
          106.425,
          49.5,
          71,
          26,
          26,
          13.8625,
          36.75,
          110.8833,
          7.225,
          7.775,
          39.6,
          79.65,
          17.4,
          7.8542,
          10.5,
          51.4792,
          26.3875,
          7.75,
          13,
          55.9,
          7.925,
          30,
          110.8833,
          79.65,
          79.2,
          78.2667,
          33,
          56.9292,
          27,
          26.55,
          30.5,
          41.5792,
          153.4625,
          15.5,
          65,
          39,
          52.5542,
          15.7417,
          77.9583,
          30,
          30.5,
          13,
          69.3,
          56.4958,
          19.2583,
          76.7292,
          35.5,
          7.55,
          23,
          7.8292,
          133.65,
          7.925,
          52,
          39,
          13,
          9.8417,
          512.3292,
          76.7292,
          211.3375,
          57,
          13.4167,
          56.4958,
          7.7333,
          227.525,
          26.2875,
          13.5,
          26.2875,
          151.55,
          15.2458,
          49.5042,
          52,
          227.525,
          10.5,
          33,
          53.1,
          21,
          7.7375,
          211.3375,
          512.3292,
          30,
          262.375,
          7.925,
          13,
          23,
          12.475,
          65,
          14.5,
          86.5,
          7.2292,
          120,
          77.9583,
          23,
          12.475,
          211.3375,
          7.2292,
          57,
          7.4958,
          20.575,
          25.9292,
          8.6833,
          26.25,
          120,
          8.5167,
          6.975,
          53.1,
          93.5,
          8.6625,
          12.475,
          37.0042,
          7.75,
          80,
          14.4542,
          18.75,
          83.1583,
          56.4958,
          29.7,
          31,
          89.1042,
          39.4,
          9.35,
          164.8667,
          26.55,
          19.2583,
          25.9292,
          13,
          13.8583,
          11.1333,
          52.5542,
          24,
          7.225,
          83.1583,
          26,
          30,
          30
         ]
        },
        {
         "marker": {
          "color": "rgba(255, 182, 193, .9)",
          "line": {
           "width": 2
          },
          "size": 6
         },
         "mode": "markers",
         "name": "Dead",
         "type": "scatter",
         "x": [
          22,
          35,
          null,
          54,
          2,
          20,
          39,
          14,
          2,
          31,
          35,
          8,
          null,
          19,
          null,
          40,
          66,
          28,
          42,
          21,
          18,
          40,
          27,
          null,
          null,
          null,
          null,
          18,
          7,
          21,
          65,
          28.5,
          11,
          22,
          45,
          4,
          null,
          19,
          26,
          32,
          16,
          21,
          26,
          25,
          null,
          null,
          22,
          28,
          16,
          null,
          24,
          29,
          20,
          46,
          26,
          59,
          null,
          71,
          34,
          28,
          null,
          21,
          33,
          37,
          28,
          38,
          47,
          14.5,
          22,
          20,
          17,
          21,
          70.5,
          29,
          24,
          2,
          21,
          null,
          32.5,
          54,
          null,
          45,
          33,
          20,
          47,
          25,
          23,
          37,
          16,
          24,
          null,
          19,
          18,
          19,
          9,
          36.5,
          42,
          51,
          55.5,
          40.5,
          null,
          51,
          30,
          null,
          null,
          44,
          26,
          17,
          1,
          45,
          null,
          28,
          61,
          4,
          21,
          56,
          18,
          null,
          50,
          30,
          36,
          null,
          null,
          9,
          null,
          40,
          36,
          19,
          null,
          42,
          24,
          28,
          null,
          34,
          45.5,
          2,
          32,
          24,
          22,
          30,
          null,
          42,
          30,
          27,
          51,
          null,
          22,
          20.5,
          18,
          null,
          29,
          59,
          24,
          null,
          44,
          19,
          33,
          null,
          29,
          22,
          30,
          44,
          25,
          54,
          null,
          29,
          62,
          30,
          41,
          null,
          52,
          40,
          null,
          36,
          16,
          null,
          37,
          45,
          null,
          7,
          65,
          28,
          16,
          null,
          33,
          22,
          36,
          24,
          24,
          null,
          23.5,
          2,
          19,
          null,
          30,
          26,
          28,
          43,
          54,
          22,
          27,
          null,
          61,
          45.5,
          38,
          16,
          null,
          29,
          45,
          28,
          25,
          36,
          42,
          23,
          null,
          15,
          25,
          null,
          28,
          38,
          40,
          29,
          45,
          35,
          null,
          30,
          18,
          19,
          22,
          3,
          27,
          20,
          19,
          32,
          null,
          18,
          1,
          null,
          28,
          22,
          31,
          46,
          23,
          26,
          21,
          28,
          20,
          34,
          51,
          21,
          null,
          null,
          null,
          null,
          null,
          30,
          10,
          null,
          21,
          29,
          28,
          18,
          null,
          null,
          17,
          50,
          21,
          64,
          31,
          20,
          25,
          36,
          null,
          30,
          null,
          65,
          null,
          34,
          47,
          48,
          null,
          38,
          null,
          56,
          null,
          null,
          38,
          22,
          null,
          34,
          29,
          22,
          9,
          null,
          50,
          null,
          58,
          30,
          null,
          21,
          55,
          71,
          21,
          null,
          null,
          25,
          24,
          17,
          21,
          null,
          37,
          18,
          28,
          null,
          24,
          47,
          null,
          32,
          22,
          null,
          null,
          40.5,
          null,
          39,
          23,
          null,
          17,
          30,
          45,
          null,
          9,
          11,
          50,
          64,
          33,
          27,
          null,
          62,
          null,
          null,
          40,
          28,
          null,
          null,
          24,
          19,
          29,
          null,
          16,
          19,
          null,
          54,
          36,
          null,
          47,
          22,
          null,
          35,
          47,
          null,
          37,
          36,
          49,
          null,
          null,
          null,
          44,
          36,
          30,
          39,
          null,
          null,
          35,
          34,
          26,
          26,
          27,
          21,
          21,
          61,
          57,
          26,
          null,
          51,
          null,
          9,
          32,
          31,
          41,
          null,
          20,
          2,
          19,
          null,
          null,
          21,
          18,
          24,
          null,
          32,
          23,
          58,
          40,
          47,
          36,
          32,
          25,
          null,
          43,
          31,
          70,
          null,
          18,
          24.5,
          43,
          null,
          20,
          14,
          60,
          25,
          14,
          19,
          18,
          25,
          60,
          52,
          44,
          49,
          42,
          18,
          25,
          26,
          39,
          null,
          29,
          52,
          19,
          null,
          33,
          17,
          34,
          50,
          20,
          25,
          25,
          11,
          null,
          23,
          23,
          28.5,
          48,
          null,
          null,
          36,
          24,
          70,
          16,
          19,
          31,
          33,
          23,
          28,
          18,
          34,
          null,
          41,
          16,
          null,
          30.5,
          null,
          32,
          24,
          48,
          57,
          null,
          18,
          null,
          null,
          29,
          null,
          25,
          25,
          8,
          46,
          null,
          16,
          null,
          null,
          25,
          39,
          30,
          30,
          34,
          31,
          39,
          18,
          39,
          26,
          39,
          35,
          6,
          30.5,
          null,
          23,
          31,
          43,
          10,
          38,
          2,
          null,
          null,
          null,
          23,
          18,
          21,
          null,
          20,
          16,
          34.5,
          17,
          42,
          null,
          35,
          28,
          4,
          74,
          9,
          44,
          null,
          41,
          21,
          null,
          24,
          31,
          null,
          26,
          33,
          47,
          20,
          19,
          null,
          33,
          22,
          28,
          25,
          39,
          27,
          null,
          32
         ],
         "y": [
          7.25,
          8.05,
          8.4583,
          51.8625,
          21.075,
          8.05,
          31.275,
          7.8542,
          29.125,
          18,
          26,
          21.075,
          7.225,
          263,
          7.8958,
          27.7208,
          10.5,
          82.1708,
          52,
          8.05,
          18,
          9.475,
          21,
          7.8958,
          8.05,
          15.5,
          21.6792,
          17.8,
          39.6875,
          7.8,
          61.9792,
          7.2292,
          46.9,
          7.2292,
          83.475,
          27.9,
          27.7208,
          8.1583,
          8.6625,
          10.5,
          46.9,
          73.5,
          14.4542,
          7.65,
          7.8958,
          8.05,
          9,
          47.1,
          34.375,
          8.05,
          8.05,
          8.05,
          7.8542,
          61.175,
          20.575,
          7.25,
          8.05,
          34.6542,
          26,
          7.8958,
          7.8958,
          77.2875,
          8.6542,
          7.925,
          7.8958,
          7.8958,
          52,
          14.4542,
          8.05,
          9.825,
          14.4583,
          7.925,
          7.75,
          21,
          247.5208,
          31.275,
          73.5,
          8.05,
          30.0708,
          77.2875,
          7.75,
          6.975,
          7.8958,
          7.05,
          14.5,
          13,
          15.0458,
          53.1,
          9.2167,
          79.2,
          15.2458,
          6.75,
          11.5,
          36.75,
          34.375,
          26,
          13,
          12.525,
          8.05,
          14.5,
          7.3125,
          61.3792,
          8.05,
          8.6625,
          69.55,
          16.1,
          7.775,
          8.6625,
          39.6875,
          27.9,
          25.925,
          56.4958,
          33.5,
          29.125,
          7.925,
          30.6958,
          7.8542,
          25.4667,
          28.7125,
          13,
          0,
          69.55,
          15.05,
          31.3875,
          50,
          15.5,
          7.8958,
          13,
          7.75,
          8.4042,
          13,
          9.5,
          69.55,
          6.4958,
          7.225,
          10.4625,
          15.85,
          7.05,
          7.25,
          13,
          7.75,
          27,
          10.5,
          13,
          8.05,
          7.8958,
          9.35,
          7.25,
          13,
          25.4667,
          7.775,
          13.5,
          10.5,
          7.55,
          26,
          10.5,
          12.275,
          14.4542,
          10.5,
          7.125,
          7.225,
          90,
          7.775,
          26,
          7.25,
          10.4625,
          26.55,
          16.1,
          20.2125,
          7.75,
          79.65,
          0,
          7.75,
          10.5,
          39.6875,
          31,
          29.7,
          7.75,
          0,
          29.125,
          7.75,
          7.8542,
          9.5,
          26,
          8.6625,
          7.8958,
          12.875,
          8.85,
          7.8958,
          27.7208,
          7.2292,
          151.55,
          0,
          8.05,
          24,
          26,
          7.8958,
          26.25,
          14,
          7.25,
          7.8958,
          69.55,
          6.2375,
          28.5,
          153.4625,
          18,
          7.8958,
          66.6,
          35.5,
          13,
          13,
          13,
          8.6625,
          9.225,
          35,
          7.2292,
          17.8,
          7.225,
          9.5,
          13,
          27.9,
          27.7208,
          14.4542,
          7.05,
          15.5,
          7.25,
          6.4958,
          8.05,
          135.6333,
          21.075,
          211.5,
          4.0125,
          7.775,
          7.925,
          7.8958,
          73.5,
          46.9,
          7.7292,
          7.925,
          7.7958,
          7.8542,
          26,
          10.5,
          8.05,
          9.825,
          15.85,
          8.6625,
          21,
          7.75,
          7.775,
          25.4667,
          7.8958,
          6.8583,
          0,
          8.05,
          13,
          24.15,
          7.8958,
          7.7333,
          7.875,
          14.4,
          20.2125,
          7.25,
          7.75,
          7.125,
          55.9,
          34.375,
          263,
          10.5,
          9.5,
          7.775,
          27.75,
          19.9667,
          27.75,
          8.05,
          26.55,
          7.75,
          8.05,
          38.5,
          13,
          8.05,
          7.05,
          0,
          26.55,
          7.725,
          7.25,
          8.6625,
          9.8375,
          52,
          21,
          7.0458,
          7.5208,
          46.9,
          0,
          8.05,
          25.4667,
          29.7,
          8.05,
          19.9667,
          7.25,
          30.5,
          49.5042,
          8.05,
          14.4583,
          15.1,
          151.55,
          7.7958,
          8.6625,
          7.75,
          7.6292,
          9.5875,
          108.9,
          22.525,
          8.05,
          7.4958,
          34.0208,
          24.15,
          7.8958,
          7.8958,
          7.225,
          7.2292,
          7.75,
          221.7792,
          7.925,
          11.5,
          7.2292,
          7.2292,
          8.6625,
          26.55,
          14.5,
          31.275,
          31.275,
          106.425,
          26,
          20.525,
          26,
          7.8292,
          26.55,
          227.525,
          7.75,
          7.8958,
          13.5,
          8.05,
          8.05,
          24.15,
          7.8958,
          21.075,
          7.2292,
          8.05,
          14.5,
          14.4583,
          26,
          40.125,
          8.7125,
          15,
          8.05,
          8.05,
          7.125,
          7.25,
          7.75,
          26,
          24.15,
          0,
          7.225,
          7.8958,
          42.4,
          8.05,
          15.55,
          7.8958,
          31.275,
          7.05,
          7.75,
          8.05,
          14.4,
          16.1,
          10.5,
          14.4542,
          7.8542,
          16.1,
          32.3208,
          12.35,
          7.8958,
          7.7333,
          7.0542,
          0,
          27.9,
          7.925,
          26.25,
          39.6875,
          16.1,
          7.8542,
          27.9,
          7.8958,
          7.55,
          7.8958,
          8.4333,
          6.75,
          73.5,
          7.8958,
          15.5,
          13,
          113.275,
          7.225,
          25.5875,
          7.4958,
          73.5,
          13,
          7.775,
          8.05,
          52,
          10.5,
          0,
          7.775,
          8.05,
          46.9,
          8.1375,
          9.225,
          46.9,
          39,
          41.5792,
          39.6875,
          10.1708,
          7.7958,
          7.225,
          26.55,
          13.5,
          8.05,
          110.8833,
          7.65,
          14.4542,
          7.7417,
          7.8542,
          26,
          26.55,
          9.4833,
          13,
          7.65,
          15.5,
          7.775,
          7.0542,
          13,
          13,
          8.6625,
          26,
          7.925,
          18.7875,
          0,
          13,
          13,
          16.1,
          34.375,
          7.8958,
          7.8958,
          78.85,
          16.1,
          71,
          20.25,
          53.1,
          7.75,
          9.5,
          7.8958,
          7.7958,
          11.5,
          8.05,
          14.5,
          7.125,
          7.775,
          39.6,
          7.75,
          24.15,
          8.3625,
          9.5,
          7.8542,
          10.5,
          7.225,
          7.75,
          7.75,
          7.7375,
          30,
          23.45,
          7.05,
          7.25,
          29.125,
          79.2,
          7.75,
          26,
          69.55,
          30.6958,
          7.8958,
          13,
          7.2292,
          24.15,
          13,
          7.775,
          0,
          7.775,
          13,
          7.8875,
          24.15,
          10.5,
          31.275,
          8.05,
          0,
          7.925,
          37.0042,
          6.45,
          27.9,
          0,
          39.6875,
          6.95,
          56.4958,
          7.2292,
          7.8542,
          8.3,
          8.6625,
          8.05,
          7.925,
          10.5,
          6.4375,
          8.6625,
          7.55,
          69.55,
          7.8958,
          33,
          31.275,
          7.775,
          15.2458,
          26,
          7.2292,
          14.1083,
          11.5,
          69.55,
          13,
          50.4958,
          9.5,
          7.8958,
          5,
          9,
          9.8458,
          7.8958,
          7.8958,
          7.8958,
          10.5167,
          10.5,
          7.05,
          29.125,
          13,
          23.45,
          7.75
         ]
        }
       ],
       "layout": {
        "title": "Styled Scatter of Fare Vs Age",
        "xaxis": {
         "title": "Age",
         "zeroline": false
        },
        "yaxis": {
         "title": "Fare",
         "zeroline": false
        }
       }
      },
      "text/html": [
       "<div id=\"b530afb4-9d96-4213-a254-48ed4a3da10b\" style=\"height: 525px; width: 100%;\" class=\"plotly-graph-div\"></div><script type=\"text/javascript\">require([\"plotly\"], function(Plotly) { window.PLOTLYENV=window.PLOTLYENV || {};window.PLOTLYENV.BASE_URL=\"https://plot.ly\";Plotly.newPlot(\"b530afb4-9d96-4213-a254-48ed4a3da10b\", [{\"type\": \"scatter\", \"y\": [71.2833, 7.925, 53.1, 11.1333, 30.0708, 16.7, 26.55, 16.0, 13.0, 7.225, 13.0, 8.0292, 35.5, 31.3875, 7.8792, 146.5208, 7.75, 7.2292, 11.2417, 41.5792, 7.8792, 7.75, 76.7292, 26.0, 35.5, 10.5, 27.75, 80.0, 15.2458, 10.5, 7.925, 56.4958, 29.0, 12.475, 9.5, 7.7875, 10.5, 15.85, 263.0, 63.3583, 23.0, 7.65, 7.775, 24.15, 13.0, 11.2417, 7.1417, 22.3583, 26.0, 26.2833, 7.75, 15.85, 7.7958, 66.6, 7.7333, 15.75, 20.525, 55.0, 11.1333, 39.0, 22.025, 15.5, 26.55, 13.0, 7.8542, 26.0, 27.7208, 146.5208, 7.75, 8.05, 18.7875, 7.75, 31.0, 21.0, 113.275, 7.925, 76.2917, 8.05, 90.0, 10.5, 83.475, 31.3875, 26.25, 15.5, 14.5, 52.5542, 15.2458, 79.2, 86.5, 512.3292, 26.0, 31.3875, 7.775, 153.4625, 135.6333, 0.0, 19.5, 7.75, 77.9583, 20.25, 8.05, 9.5, 13.0, 7.75, 78.85, 91.0792, 30.5, 247.5208, 7.75, 23.25, 12.35, 151.55, 110.8833, 108.9, 56.9292, 83.1583, 262.375, 7.8542, 26.0, 164.8667, 134.5, 12.35, 29.0, 135.6333, 13.0, 20.525, 57.9792, 23.25, 133.65, 134.5, 8.05, 26.0, 263.0, 13.0, 13.0, 16.1, 15.9, 55.0, 7.8792, 7.8792, 75.25, 7.2292, 7.75, 69.3, 55.4417, 82.1708, 7.25, 227.525, 15.7417, 52.0, 13.0, 12.0, 120.0, 7.7958, 113.275, 16.7, 12.65, 7.925, 18.75, 90.0, 7.925, 32.5, 13.0, 26.0, 26.0, 8.05, 26.55, 16.1, 26.0, 120.0, 18.75, 26.25, 13.0, 8.1125, 81.8583, 19.5, 26.55, 19.2583, 30.5, 89.1042, 7.8958, 51.8625, 10.5, 26.55, 19.2583, 27.75, 13.7917, 12.2875, 9.5875, 91.0792, 90.0, 15.9, 78.2667, 86.5, 26.0, 26.55, 56.4958, 7.75, 26.2875, 59.4, 10.5, 26.0, 93.5, 57.9792, 10.5, 26.0, 22.3583, 26.25, 106.425, 49.5, 71.0, 26.0, 26.0, 13.8625, 36.75, 110.8833, 7.225, 7.775, 39.6, 79.65, 17.4, 7.8542, 10.5, 51.4792, 26.3875, 7.75, 13.0, 55.9, 7.925, 30.0, 110.8833, 79.65, 79.2, 78.2667, 33.0, 56.9292, 27.0, 26.55, 30.5, 41.5792, 153.4625, 15.5, 65.0, 39.0, 52.5542, 15.7417, 77.9583, 30.0, 30.5, 13.0, 69.3, 56.4958, 19.2583, 76.7292, 35.5, 7.55, 23.0, 7.8292, 133.65, 7.925, 52.0, 39.0, 13.0, 9.8417, 512.3292, 76.7292, 211.3375, 57.0, 13.4167, 56.4958, 7.7333, 227.525, 26.2875, 13.5, 26.2875, 151.55, 15.2458, 49.5042, 52.0, 227.525, 10.5, 33.0, 53.1, 21.0, 7.7375, 211.3375, 512.3292, 30.0, 262.375, 7.925, 13.0, 23.0, 12.475, 65.0, 14.5, 86.5, 7.2292, 120.0, 77.9583, 23.0, 12.475, 211.3375, 7.2292, 57.0, 7.4958, 20.575, 25.9292, 8.6833, 26.25, 120.0, 8.5167, 6.975, 53.1, 93.5, 8.6625, 12.475, 37.0042, 7.75, 80.0, 14.4542, 18.75, 83.1583, 56.4958, 29.7, 31.0, 89.1042, 39.4, 9.35, 164.8667, 26.55, 19.2583, 25.9292, 13.0, 13.8583, 11.1333, 52.5542, 24.0, 7.225, 83.1583, 26.0, 30.0, 30.0], \"x\": [38.0, 26.0, 35.0, 27.0, 14.0, 4.0, 58.0, 55.0, null, null, 34.0, 15.0, 28.0, 38.0, null, null, null, null, 14.0, 3.0, 19.0, null, 49.0, 29.0, null, 21.0, 5.0, 38.0, null, 29.0, 17.0, 32.0, 0.83, 30.0, 29.0, null, 17.0, 33.0, 23.0, 23.0, 34.0, 21.0, null, null, 32.5, 12.0, 24.0, null, 29.0, 19.0, 22.0, 24.0, 27.0, 22.0, 16.0, 40.0, 9.0, null, 1.0, 1.0, 4.0, null, 45.0, 32.0, 19.0, 3.0, 44.0, 58.0, null, 18.0, 26.0, 16.0, 40.0, 35.0, 31.0, 27.0, 32.0, 16.0, 38.0, 19.0, 35.0, 5.0, 8.0, null, 24.0, 37.0, 29.0, null, 30.0, 35.0, 50.0, 3.0, 25.0, 58.0, 35.0, 25.0, 41.0, null, 63.0, 35.0, 19.0, 30.0, 42.0, 22.0, 26.0, 19.0, null, 50.0, null, null, null, 0.92, null, 17.0, 30.0, 24.0, 18.0, 26.0, 24.0, 31.0, 40.0, 30.0, 22.0, 36.0, 36.0, 31.0, 16.0, null, null, 41.0, 45.0, 2.0, 24.0, 24.0, 40.0, null, 3.0, 22.0, null, null, 60.0, null, null, 24.0, 25.0, null, 22.0, 42.0, 1.0, 35.0, 36.0, 17.0, 36.0, 21.0, 23.0, 24.0, 28.0, 39.0, 3.0, 33.0, 44.0, 34.0, 18.0, 28.0, 19.0, 32.0, 28.0, null, 42.0, 14.0, 24.0, 45.0, 28.0, null, 4.0, 13.0, 34.0, 5.0, 52.0, 49.0, 29.0, null, 50.0, 48.0, 0.75, 33.0, 23.0, 2.0, 63.0, 25.0, 35.0, 9.0, 54.0, 16.0, 33.0, null, 26.0, 29.0, 36.0, 54.0, 34.0, 36.0, 30.0, 44.0, 50.0, 2.0, null, 7.0, 30.0, 22.0, 36.0, 32.0, 19.0, null, 8.0, 17.0, 22.0, 22.0, 48.0, 39.0, 36.0, 32.0, 62.0, 53.0, 36.0, null, 34.0, 39.0, 32.0, 25.0, 39.0, 18.0, 60.0, 52.0, null, 49.0, 24.0, 35.0, 27.0, 22.0, 40.0, null, 24.0, 4.0, 42.0, 20.0, 21.0, 80.0, 32.0, 28.0, 24.0, null, 0.75, 48.0, 56.0, 23.0, 18.0, null, 50.0, 20.0, null, 40.0, 31.0, 18.0, 36.0, 27.0, 15.0, 31.0, 4.0, null, null, 18.0, 35.0, 45.0, 42.0, 22.0, null, 24.0, 48.0, 38.0, 27.0, 6.0, 27.0, 30.0, null, 29.0, 35.0, null, 21.0, 31.0, 30.0, 4.0, 6.0, 48.0, 0.67, 33.0, 20.0, 36.0, 51.0, 54.0, 5.0, 43.0, 13.0, 17.0, 18.0, 1.0, 49.0, 31.0, 31.0, 11.0, 0.42, 27.0, 33.0, 52.0, 27.0, 27.0, 1.0, null, 62.0, 15.0, 0.83, 39.0, 32.0, null, 30.0, null, 16.0, 18.0, 45.0, 51.0, 24.0, 48.0, 42.0, 27.0, 4.0, 47.0, 28.0, 15.0, 56.0, 25.0, 19.0, 26.0], \"name\": \"Survived\", \"mode\": \"markers\", \"marker\": {\"size\": 8, \"color\": \"rgb(58,200,225)\", \"line\": {\"width\": 2, \"color\": \"rgb(0, 0, 0)\"}}}, {\"type\": \"scatter\", \"y\": [7.25, 8.05, 8.4583, 51.8625, 21.075, 8.05, 31.275, 7.8542, 29.125, 18.0, 26.0, 21.075, 7.225, 263.0, 7.8958, 27.7208, 10.5, 82.1708, 52.0, 8.05, 18.0, 9.475, 21.0, 7.8958, 8.05, 15.5, 21.6792, 17.8, 39.6875, 7.8, 61.9792, 7.2292, 46.9, 7.2292, 83.475, 27.9, 27.7208, 8.1583, 8.6625, 10.5, 46.9, 73.5, 14.4542, 7.65, 7.8958, 8.05, 9.0, 47.1, 34.375, 8.05, 8.05, 8.05, 7.8542, 61.175, 20.575, 7.25, 8.05, 34.6542, 26.0, 7.8958, 7.8958, 77.2875, 8.6542, 7.925, 7.8958, 7.8958, 52.0, 14.4542, 8.05, 9.825, 14.4583, 7.925, 7.75, 21.0, 247.5208, 31.275, 73.5, 8.05, 30.0708, 77.2875, 7.75, 6.975, 7.8958, 7.05, 14.5, 13.0, 15.0458, 53.1, 9.2167, 79.2, 15.2458, 6.75, 11.5, 36.75, 34.375, 26.0, 13.0, 12.525, 8.05, 14.5, 7.3125, 61.3792, 8.05, 8.6625, 69.55, 16.1, 7.775, 8.6625, 39.6875, 27.9, 25.925, 56.4958, 33.5, 29.125, 7.925, 30.6958, 7.8542, 25.4667, 28.7125, 13.0, 0.0, 69.55, 15.05, 31.3875, 50.0, 15.5, 7.8958, 13.0, 7.75, 8.4042, 13.0, 9.5, 69.55, 6.4958, 7.225, 10.4625, 15.85, 7.05, 7.25, 13.0, 7.75, 27.0, 10.5, 13.0, 8.05, 7.8958, 9.35, 7.25, 13.0, 25.4667, 7.775, 13.5, 10.5, 7.55, 26.0, 10.5, 12.275, 14.4542, 10.5, 7.125, 7.225, 90.0, 7.775, 26.0, 7.25, 10.4625, 26.55, 16.1, 20.2125, 7.75, 79.65, 0.0, 7.75, 10.5, 39.6875, 31.0, 29.7, 7.75, 0.0, 29.125, 7.75, 7.8542, 9.5, 26.0, 8.6625, 7.8958, 12.875, 8.85, 7.8958, 27.7208, 7.2292, 151.55, 0.0, 8.05, 24.0, 26.0, 7.8958, 26.25, 14.0, 7.25, 7.8958, 69.55, 6.2375, 28.5, 153.4625, 18.0, 7.8958, 66.6, 35.5, 13.0, 13.0, 13.0, 8.6625, 9.225, 35.0, 7.2292, 17.8, 7.225, 9.5, 13.0, 27.9, 27.7208, 14.4542, 7.05, 15.5, 7.25, 6.4958, 8.05, 135.6333, 21.075, 211.5, 4.0125, 7.775, 7.925, 7.8958, 73.5, 46.9, 7.7292, 7.925, 7.7958, 7.8542, 26.0, 10.5, 8.05, 9.825, 15.85, 8.6625, 21.0, 7.75, 7.775, 25.4667, 7.8958, 6.8583, 0.0, 8.05, 13.0, 24.15, 7.8958, 7.7333, 7.875, 14.4, 20.2125, 7.25, 7.75, 7.125, 55.9, 34.375, 263.0, 10.5, 9.5, 7.775, 27.75, 19.9667, 27.75, 8.05, 26.55, 7.75, 8.05, 38.5, 13.0, 8.05, 7.05, 0.0, 26.55, 7.725, 7.25, 8.6625, 9.8375, 52.0, 21.0, 7.0458, 7.5208, 46.9, 0.0, 8.05, 25.4667, 29.7, 8.05, 19.9667, 7.25, 30.5, 49.5042, 8.05, 14.4583, 15.1, 151.55, 7.7958, 8.6625, 7.75, 7.6292, 9.5875, 108.9, 22.525, 8.05, 7.4958, 34.0208, 24.15, 7.8958, 7.8958, 7.225, 7.2292, 7.75, 221.7792, 7.925, 11.5, 7.2292, 7.2292, 8.6625, 26.55, 14.5, 31.275, 31.275, 106.425, 26.0, 20.525, 26.0, 7.8292, 26.55, 227.525, 7.75, 7.8958, 13.5, 8.05, 8.05, 24.15, 7.8958, 21.075, 7.2292, 8.05, 14.5, 14.4583, 26.0, 40.125, 8.7125, 15.0, 8.05, 8.05, 7.125, 7.25, 7.75, 26.0, 24.15, 0.0, 7.225, 7.8958, 42.4, 8.05, 15.55, 7.8958, 31.275, 7.05, 7.75, 8.05, 14.4, 16.1, 10.5, 14.4542, 7.8542, 16.1, 32.3208, 12.35, 7.8958, 7.7333, 7.0542, 0.0, 27.9, 7.925, 26.25, 39.6875, 16.1, 7.8542, 27.9, 7.8958, 7.55, 7.8958, 8.4333, 6.75, 73.5, 7.8958, 15.5, 13.0, 113.275, 7.225, 25.5875, 7.4958, 73.5, 13.0, 7.775, 8.05, 52.0, 10.5, 0.0, 7.775, 8.05, 46.9, 8.1375, 9.225, 46.9, 39.0, 41.5792, 39.6875, 10.1708, 7.7958, 7.225, 26.55, 13.5, 8.05, 110.8833, 7.65, 14.4542, 7.7417, 7.8542, 26.0, 26.55, 9.4833, 13.0, 7.65, 15.5, 7.775, 7.0542, 13.0, 13.0, 8.6625, 26.0, 7.925, 18.7875, 0.0, 13.0, 13.0, 16.1, 34.375, 7.8958, 7.8958, 78.85, 16.1, 71.0, 20.25, 53.1, 7.75, 9.5, 7.8958, 7.7958, 11.5, 8.05, 14.5, 7.125, 7.775, 39.6, 7.75, 24.15, 8.3625, 9.5, 7.8542, 10.5, 7.225, 7.75, 7.75, 7.7375, 30.0, 23.45, 7.05, 7.25, 29.125, 79.2, 7.75, 26.0, 69.55, 30.6958, 7.8958, 13.0, 7.2292, 24.15, 13.0, 7.775, 0.0, 7.775, 13.0, 7.8875, 24.15, 10.5, 31.275, 8.05, 0.0, 7.925, 37.0042, 6.45, 27.9, 0.0, 39.6875, 6.95, 56.4958, 7.2292, 7.8542, 8.3, 8.6625, 8.05, 7.925, 10.5, 6.4375, 8.6625, 7.55, 69.55, 7.8958, 33.0, 31.275, 7.775, 15.2458, 26.0, 7.2292, 14.1083, 11.5, 69.55, 13.0, 50.4958, 9.5, 7.8958, 5.0, 9.0, 9.8458, 7.8958, 7.8958, 7.8958, 10.5167, 10.5, 7.05, 29.125, 13.0, 23.45, 7.75], \"x\": [22.0, 35.0, null, 54.0, 2.0, 20.0, 39.0, 14.0, 2.0, 31.0, 35.0, 8.0, null, 19.0, null, 40.0, 66.0, 28.0, 42.0, 21.0, 18.0, 40.0, 27.0, null, null, null, null, 18.0, 7.0, 21.0, 65.0, 28.5, 11.0, 22.0, 45.0, 4.0, null, 19.0, 26.0, 32.0, 16.0, 21.0, 26.0, 25.0, null, null, 22.0, 28.0, 16.0, null, 24.0, 29.0, 20.0, 46.0, 26.0, 59.0, null, 71.0, 34.0, 28.0, null, 21.0, 33.0, 37.0, 28.0, 38.0, 47.0, 14.5, 22.0, 20.0, 17.0, 21.0, 70.5, 29.0, 24.0, 2.0, 21.0, null, 32.5, 54.0, null, 45.0, 33.0, 20.0, 47.0, 25.0, 23.0, 37.0, 16.0, 24.0, null, 19.0, 18.0, 19.0, 9.0, 36.5, 42.0, 51.0, 55.5, 40.5, null, 51.0, 30.0, null, null, 44.0, 26.0, 17.0, 1.0, 45.0, null, 28.0, 61.0, 4.0, 21.0, 56.0, 18.0, null, 50.0, 30.0, 36.0, null, null, 9.0, null, 40.0, 36.0, 19.0, null, 42.0, 24.0, 28.0, null, 34.0, 45.5, 2.0, 32.0, 24.0, 22.0, 30.0, null, 42.0, 30.0, 27.0, 51.0, null, 22.0, 20.5, 18.0, null, 29.0, 59.0, 24.0, null, 44.0, 19.0, 33.0, null, 29.0, 22.0, 30.0, 44.0, 25.0, 54.0, null, 29.0, 62.0, 30.0, 41.0, null, 52.0, 40.0, null, 36.0, 16.0, null, 37.0, 45.0, null, 7.0, 65.0, 28.0, 16.0, null, 33.0, 22.0, 36.0, 24.0, 24.0, null, 23.5, 2.0, 19.0, null, 30.0, 26.0, 28.0, 43.0, 54.0, 22.0, 27.0, null, 61.0, 45.5, 38.0, 16.0, null, 29.0, 45.0, 28.0, 25.0, 36.0, 42.0, 23.0, null, 15.0, 25.0, null, 28.0, 38.0, 40.0, 29.0, 45.0, 35.0, null, 30.0, 18.0, 19.0, 22.0, 3.0, 27.0, 20.0, 19.0, 32.0, null, 18.0, 1.0, null, 28.0, 22.0, 31.0, 46.0, 23.0, 26.0, 21.0, 28.0, 20.0, 34.0, 51.0, 21.0, null, null, null, null, null, 30.0, 10.0, null, 21.0, 29.0, 28.0, 18.0, null, null, 17.0, 50.0, 21.0, 64.0, 31.0, 20.0, 25.0, 36.0, null, 30.0, null, 65.0, null, 34.0, 47.0, 48.0, null, 38.0, null, 56.0, null, null, 38.0, 22.0, null, 34.0, 29.0, 22.0, 9.0, null, 50.0, null, 58.0, 30.0, null, 21.0, 55.0, 71.0, 21.0, null, null, 25.0, 24.0, 17.0, 21.0, null, 37.0, 18.0, 28.0, null, 24.0, 47.0, null, 32.0, 22.0, null, null, 40.5, null, 39.0, 23.0, null, 17.0, 30.0, 45.0, null, 9.0, 11.0, 50.0, 64.0, 33.0, 27.0, null, 62.0, null, null, 40.0, 28.0, null, null, 24.0, 19.0, 29.0, null, 16.0, 19.0, null, 54.0, 36.0, null, 47.0, 22.0, null, 35.0, 47.0, null, 37.0, 36.0, 49.0, null, null, null, 44.0, 36.0, 30.0, 39.0, null, null, 35.0, 34.0, 26.0, 26.0, 27.0, 21.0, 21.0, 61.0, 57.0, 26.0, null, 51.0, null, 9.0, 32.0, 31.0, 41.0, null, 20.0, 2.0, 19.0, null, null, 21.0, 18.0, 24.0, null, 32.0, 23.0, 58.0, 40.0, 47.0, 36.0, 32.0, 25.0, null, 43.0, 31.0, 70.0, null, 18.0, 24.5, 43.0, null, 20.0, 14.0, 60.0, 25.0, 14.0, 19.0, 18.0, 25.0, 60.0, 52.0, 44.0, 49.0, 42.0, 18.0, 25.0, 26.0, 39.0, null, 29.0, 52.0, 19.0, null, 33.0, 17.0, 34.0, 50.0, 20.0, 25.0, 25.0, 11.0, null, 23.0, 23.0, 28.5, 48.0, null, null, 36.0, 24.0, 70.0, 16.0, 19.0, 31.0, 33.0, 23.0, 28.0, 18.0, 34.0, null, 41.0, 16.0, null, 30.5, null, 32.0, 24.0, 48.0, 57.0, null, 18.0, null, null, 29.0, null, 25.0, 25.0, 8.0, 46.0, null, 16.0, null, null, 25.0, 39.0, 30.0, 30.0, 34.0, 31.0, 39.0, 18.0, 39.0, 26.0, 39.0, 35.0, 6.0, 30.5, null, 23.0, 31.0, 43.0, 10.0, 38.0, 2.0, null, null, null, 23.0, 18.0, 21.0, null, 20.0, 16.0, 34.5, 17.0, 42.0, null, 35.0, 28.0, 4.0, 74.0, 9.0, 44.0, null, 41.0, 21.0, null, 24.0, 31.0, null, 26.0, 33.0, 47.0, 20.0, 19.0, null, 33.0, 22.0, 28.0, 25.0, 39.0, 27.0, null, 32.0], \"name\": \"Dead\", \"mode\": \"markers\", \"marker\": {\"size\": 6, \"color\": \"rgba(255, 182, 193, .9)\", \"line\": {\"width\": 2}}}], {\"title\": \"Styled Scatter of Fare Vs Age\", \"yaxis\": {\"zeroline\": false, \"title\": \"Fare\"}, \"xaxis\": {\"zeroline\": false, \"title\": \"Age\"}}, {\"showLink\": true, \"linkText\": \"Export to plot.ly\"})});</script>"
      ],
      "text/vnd.plotly.v1+html": [
       "<div id=\"b530afb4-9d96-4213-a254-48ed4a3da10b\" style=\"height: 525px; width: 100%;\" class=\"plotly-graph-div\"></div><script type=\"text/javascript\">require([\"plotly\"], function(Plotly) { window.PLOTLYENV=window.PLOTLYENV || {};window.PLOTLYENV.BASE_URL=\"https://plot.ly\";Plotly.newPlot(\"b530afb4-9d96-4213-a254-48ed4a3da10b\", [{\"type\": \"scatter\", \"y\": [71.2833, 7.925, 53.1, 11.1333, 30.0708, 16.7, 26.55, 16.0, 13.0, 7.225, 13.0, 8.0292, 35.5, 31.3875, 7.8792, 146.5208, 7.75, 7.2292, 11.2417, 41.5792, 7.8792, 7.75, 76.7292, 26.0, 35.5, 10.5, 27.75, 80.0, 15.2458, 10.5, 7.925, 56.4958, 29.0, 12.475, 9.5, 7.7875, 10.5, 15.85, 263.0, 63.3583, 23.0, 7.65, 7.775, 24.15, 13.0, 11.2417, 7.1417, 22.3583, 26.0, 26.2833, 7.75, 15.85, 7.7958, 66.6, 7.7333, 15.75, 20.525, 55.0, 11.1333, 39.0, 22.025, 15.5, 26.55, 13.0, 7.8542, 26.0, 27.7208, 146.5208, 7.75, 8.05, 18.7875, 7.75, 31.0, 21.0, 113.275, 7.925, 76.2917, 8.05, 90.0, 10.5, 83.475, 31.3875, 26.25, 15.5, 14.5, 52.5542, 15.2458, 79.2, 86.5, 512.3292, 26.0, 31.3875, 7.775, 153.4625, 135.6333, 0.0, 19.5, 7.75, 77.9583, 20.25, 8.05, 9.5, 13.0, 7.75, 78.85, 91.0792, 30.5, 247.5208, 7.75, 23.25, 12.35, 151.55, 110.8833, 108.9, 56.9292, 83.1583, 262.375, 7.8542, 26.0, 164.8667, 134.5, 12.35, 29.0, 135.6333, 13.0, 20.525, 57.9792, 23.25, 133.65, 134.5, 8.05, 26.0, 263.0, 13.0, 13.0, 16.1, 15.9, 55.0, 7.8792, 7.8792, 75.25, 7.2292, 7.75, 69.3, 55.4417, 82.1708, 7.25, 227.525, 15.7417, 52.0, 13.0, 12.0, 120.0, 7.7958, 113.275, 16.7, 12.65, 7.925, 18.75, 90.0, 7.925, 32.5, 13.0, 26.0, 26.0, 8.05, 26.55, 16.1, 26.0, 120.0, 18.75, 26.25, 13.0, 8.1125, 81.8583, 19.5, 26.55, 19.2583, 30.5, 89.1042, 7.8958, 51.8625, 10.5, 26.55, 19.2583, 27.75, 13.7917, 12.2875, 9.5875, 91.0792, 90.0, 15.9, 78.2667, 86.5, 26.0, 26.55, 56.4958, 7.75, 26.2875, 59.4, 10.5, 26.0, 93.5, 57.9792, 10.5, 26.0, 22.3583, 26.25, 106.425, 49.5, 71.0, 26.0, 26.0, 13.8625, 36.75, 110.8833, 7.225, 7.775, 39.6, 79.65, 17.4, 7.8542, 10.5, 51.4792, 26.3875, 7.75, 13.0, 55.9, 7.925, 30.0, 110.8833, 79.65, 79.2, 78.2667, 33.0, 56.9292, 27.0, 26.55, 30.5, 41.5792, 153.4625, 15.5, 65.0, 39.0, 52.5542, 15.7417, 77.9583, 30.0, 30.5, 13.0, 69.3, 56.4958, 19.2583, 76.7292, 35.5, 7.55, 23.0, 7.8292, 133.65, 7.925, 52.0, 39.0, 13.0, 9.8417, 512.3292, 76.7292, 211.3375, 57.0, 13.4167, 56.4958, 7.7333, 227.525, 26.2875, 13.5, 26.2875, 151.55, 15.2458, 49.5042, 52.0, 227.525, 10.5, 33.0, 53.1, 21.0, 7.7375, 211.3375, 512.3292, 30.0, 262.375, 7.925, 13.0, 23.0, 12.475, 65.0, 14.5, 86.5, 7.2292, 120.0, 77.9583, 23.0, 12.475, 211.3375, 7.2292, 57.0, 7.4958, 20.575, 25.9292, 8.6833, 26.25, 120.0, 8.5167, 6.975, 53.1, 93.5, 8.6625, 12.475, 37.0042, 7.75, 80.0, 14.4542, 18.75, 83.1583, 56.4958, 29.7, 31.0, 89.1042, 39.4, 9.35, 164.8667, 26.55, 19.2583, 25.9292, 13.0, 13.8583, 11.1333, 52.5542, 24.0, 7.225, 83.1583, 26.0, 30.0, 30.0], \"x\": [38.0, 26.0, 35.0, 27.0, 14.0, 4.0, 58.0, 55.0, null, null, 34.0, 15.0, 28.0, 38.0, null, null, null, null, 14.0, 3.0, 19.0, null, 49.0, 29.0, null, 21.0, 5.0, 38.0, null, 29.0, 17.0, 32.0, 0.83, 30.0, 29.0, null, 17.0, 33.0, 23.0, 23.0, 34.0, 21.0, null, null, 32.5, 12.0, 24.0, null, 29.0, 19.0, 22.0, 24.0, 27.0, 22.0, 16.0, 40.0, 9.0, null, 1.0, 1.0, 4.0, null, 45.0, 32.0, 19.0, 3.0, 44.0, 58.0, null, 18.0, 26.0, 16.0, 40.0, 35.0, 31.0, 27.0, 32.0, 16.0, 38.0, 19.0, 35.0, 5.0, 8.0, null, 24.0, 37.0, 29.0, null, 30.0, 35.0, 50.0, 3.0, 25.0, 58.0, 35.0, 25.0, 41.0, null, 63.0, 35.0, 19.0, 30.0, 42.0, 22.0, 26.0, 19.0, null, 50.0, null, null, null, 0.92, null, 17.0, 30.0, 24.0, 18.0, 26.0, 24.0, 31.0, 40.0, 30.0, 22.0, 36.0, 36.0, 31.0, 16.0, null, null, 41.0, 45.0, 2.0, 24.0, 24.0, 40.0, null, 3.0, 22.0, null, null, 60.0, null, null, 24.0, 25.0, null, 22.0, 42.0, 1.0, 35.0, 36.0, 17.0, 36.0, 21.0, 23.0, 24.0, 28.0, 39.0, 3.0, 33.0, 44.0, 34.0, 18.0, 28.0, 19.0, 32.0, 28.0, null, 42.0, 14.0, 24.0, 45.0, 28.0, null, 4.0, 13.0, 34.0, 5.0, 52.0, 49.0, 29.0, null, 50.0, 48.0, 0.75, 33.0, 23.0, 2.0, 63.0, 25.0, 35.0, 9.0, 54.0, 16.0, 33.0, null, 26.0, 29.0, 36.0, 54.0, 34.0, 36.0, 30.0, 44.0, 50.0, 2.0, null, 7.0, 30.0, 22.0, 36.0, 32.0, 19.0, null, 8.0, 17.0, 22.0, 22.0, 48.0, 39.0, 36.0, 32.0, 62.0, 53.0, 36.0, null, 34.0, 39.0, 32.0, 25.0, 39.0, 18.0, 60.0, 52.0, null, 49.0, 24.0, 35.0, 27.0, 22.0, 40.0, null, 24.0, 4.0, 42.0, 20.0, 21.0, 80.0, 32.0, 28.0, 24.0, null, 0.75, 48.0, 56.0, 23.0, 18.0, null, 50.0, 20.0, null, 40.0, 31.0, 18.0, 36.0, 27.0, 15.0, 31.0, 4.0, null, null, 18.0, 35.0, 45.0, 42.0, 22.0, null, 24.0, 48.0, 38.0, 27.0, 6.0, 27.0, 30.0, null, 29.0, 35.0, null, 21.0, 31.0, 30.0, 4.0, 6.0, 48.0, 0.67, 33.0, 20.0, 36.0, 51.0, 54.0, 5.0, 43.0, 13.0, 17.0, 18.0, 1.0, 49.0, 31.0, 31.0, 11.0, 0.42, 27.0, 33.0, 52.0, 27.0, 27.0, 1.0, null, 62.0, 15.0, 0.83, 39.0, 32.0, null, 30.0, null, 16.0, 18.0, 45.0, 51.0, 24.0, 48.0, 42.0, 27.0, 4.0, 47.0, 28.0, 15.0, 56.0, 25.0, 19.0, 26.0], \"name\": \"Survived\", \"mode\": \"markers\", \"marker\": {\"size\": 8, \"color\": \"rgb(58,200,225)\", \"line\": {\"width\": 2, \"color\": \"rgb(0, 0, 0)\"}}}, {\"type\": \"scatter\", \"y\": [7.25, 8.05, 8.4583, 51.8625, 21.075, 8.05, 31.275, 7.8542, 29.125, 18.0, 26.0, 21.075, 7.225, 263.0, 7.8958, 27.7208, 10.5, 82.1708, 52.0, 8.05, 18.0, 9.475, 21.0, 7.8958, 8.05, 15.5, 21.6792, 17.8, 39.6875, 7.8, 61.9792, 7.2292, 46.9, 7.2292, 83.475, 27.9, 27.7208, 8.1583, 8.6625, 10.5, 46.9, 73.5, 14.4542, 7.65, 7.8958, 8.05, 9.0, 47.1, 34.375, 8.05, 8.05, 8.05, 7.8542, 61.175, 20.575, 7.25, 8.05, 34.6542, 26.0, 7.8958, 7.8958, 77.2875, 8.6542, 7.925, 7.8958, 7.8958, 52.0, 14.4542, 8.05, 9.825, 14.4583, 7.925, 7.75, 21.0, 247.5208, 31.275, 73.5, 8.05, 30.0708, 77.2875, 7.75, 6.975, 7.8958, 7.05, 14.5, 13.0, 15.0458, 53.1, 9.2167, 79.2, 15.2458, 6.75, 11.5, 36.75, 34.375, 26.0, 13.0, 12.525, 8.05, 14.5, 7.3125, 61.3792, 8.05, 8.6625, 69.55, 16.1, 7.775, 8.6625, 39.6875, 27.9, 25.925, 56.4958, 33.5, 29.125, 7.925, 30.6958, 7.8542, 25.4667, 28.7125, 13.0, 0.0, 69.55, 15.05, 31.3875, 50.0, 15.5, 7.8958, 13.0, 7.75, 8.4042, 13.0, 9.5, 69.55, 6.4958, 7.225, 10.4625, 15.85, 7.05, 7.25, 13.0, 7.75, 27.0, 10.5, 13.0, 8.05, 7.8958, 9.35, 7.25, 13.0, 25.4667, 7.775, 13.5, 10.5, 7.55, 26.0, 10.5, 12.275, 14.4542, 10.5, 7.125, 7.225, 90.0, 7.775, 26.0, 7.25, 10.4625, 26.55, 16.1, 20.2125, 7.75, 79.65, 0.0, 7.75, 10.5, 39.6875, 31.0, 29.7, 7.75, 0.0, 29.125, 7.75, 7.8542, 9.5, 26.0, 8.6625, 7.8958, 12.875, 8.85, 7.8958, 27.7208, 7.2292, 151.55, 0.0, 8.05, 24.0, 26.0, 7.8958, 26.25, 14.0, 7.25, 7.8958, 69.55, 6.2375, 28.5, 153.4625, 18.0, 7.8958, 66.6, 35.5, 13.0, 13.0, 13.0, 8.6625, 9.225, 35.0, 7.2292, 17.8, 7.225, 9.5, 13.0, 27.9, 27.7208, 14.4542, 7.05, 15.5, 7.25, 6.4958, 8.05, 135.6333, 21.075, 211.5, 4.0125, 7.775, 7.925, 7.8958, 73.5, 46.9, 7.7292, 7.925, 7.7958, 7.8542, 26.0, 10.5, 8.05, 9.825, 15.85, 8.6625, 21.0, 7.75, 7.775, 25.4667, 7.8958, 6.8583, 0.0, 8.05, 13.0, 24.15, 7.8958, 7.7333, 7.875, 14.4, 20.2125, 7.25, 7.75, 7.125, 55.9, 34.375, 263.0, 10.5, 9.5, 7.775, 27.75, 19.9667, 27.75, 8.05, 26.55, 7.75, 8.05, 38.5, 13.0, 8.05, 7.05, 0.0, 26.55, 7.725, 7.25, 8.6625, 9.8375, 52.0, 21.0, 7.0458, 7.5208, 46.9, 0.0, 8.05, 25.4667, 29.7, 8.05, 19.9667, 7.25, 30.5, 49.5042, 8.05, 14.4583, 15.1, 151.55, 7.7958, 8.6625, 7.75, 7.6292, 9.5875, 108.9, 22.525, 8.05, 7.4958, 34.0208, 24.15, 7.8958, 7.8958, 7.225, 7.2292, 7.75, 221.7792, 7.925, 11.5, 7.2292, 7.2292, 8.6625, 26.55, 14.5, 31.275, 31.275, 106.425, 26.0, 20.525, 26.0, 7.8292, 26.55, 227.525, 7.75, 7.8958, 13.5, 8.05, 8.05, 24.15, 7.8958, 21.075, 7.2292, 8.05, 14.5, 14.4583, 26.0, 40.125, 8.7125, 15.0, 8.05, 8.05, 7.125, 7.25, 7.75, 26.0, 24.15, 0.0, 7.225, 7.8958, 42.4, 8.05, 15.55, 7.8958, 31.275, 7.05, 7.75, 8.05, 14.4, 16.1, 10.5, 14.4542, 7.8542, 16.1, 32.3208, 12.35, 7.8958, 7.7333, 7.0542, 0.0, 27.9, 7.925, 26.25, 39.6875, 16.1, 7.8542, 27.9, 7.8958, 7.55, 7.8958, 8.4333, 6.75, 73.5, 7.8958, 15.5, 13.0, 113.275, 7.225, 25.5875, 7.4958, 73.5, 13.0, 7.775, 8.05, 52.0, 10.5, 0.0, 7.775, 8.05, 46.9, 8.1375, 9.225, 46.9, 39.0, 41.5792, 39.6875, 10.1708, 7.7958, 7.225, 26.55, 13.5, 8.05, 110.8833, 7.65, 14.4542, 7.7417, 7.8542, 26.0, 26.55, 9.4833, 13.0, 7.65, 15.5, 7.775, 7.0542, 13.0, 13.0, 8.6625, 26.0, 7.925, 18.7875, 0.0, 13.0, 13.0, 16.1, 34.375, 7.8958, 7.8958, 78.85, 16.1, 71.0, 20.25, 53.1, 7.75, 9.5, 7.8958, 7.7958, 11.5, 8.05, 14.5, 7.125, 7.775, 39.6, 7.75, 24.15, 8.3625, 9.5, 7.8542, 10.5, 7.225, 7.75, 7.75, 7.7375, 30.0, 23.45, 7.05, 7.25, 29.125, 79.2, 7.75, 26.0, 69.55, 30.6958, 7.8958, 13.0, 7.2292, 24.15, 13.0, 7.775, 0.0, 7.775, 13.0, 7.8875, 24.15, 10.5, 31.275, 8.05, 0.0, 7.925, 37.0042, 6.45, 27.9, 0.0, 39.6875, 6.95, 56.4958, 7.2292, 7.8542, 8.3, 8.6625, 8.05, 7.925, 10.5, 6.4375, 8.6625, 7.55, 69.55, 7.8958, 33.0, 31.275, 7.775, 15.2458, 26.0, 7.2292, 14.1083, 11.5, 69.55, 13.0, 50.4958, 9.5, 7.8958, 5.0, 9.0, 9.8458, 7.8958, 7.8958, 7.8958, 10.5167, 10.5, 7.05, 29.125, 13.0, 23.45, 7.75], \"x\": [22.0, 35.0, null, 54.0, 2.0, 20.0, 39.0, 14.0, 2.0, 31.0, 35.0, 8.0, null, 19.0, null, 40.0, 66.0, 28.0, 42.0, 21.0, 18.0, 40.0, 27.0, null, null, null, null, 18.0, 7.0, 21.0, 65.0, 28.5, 11.0, 22.0, 45.0, 4.0, null, 19.0, 26.0, 32.0, 16.0, 21.0, 26.0, 25.0, null, null, 22.0, 28.0, 16.0, null, 24.0, 29.0, 20.0, 46.0, 26.0, 59.0, null, 71.0, 34.0, 28.0, null, 21.0, 33.0, 37.0, 28.0, 38.0, 47.0, 14.5, 22.0, 20.0, 17.0, 21.0, 70.5, 29.0, 24.0, 2.0, 21.0, null, 32.5, 54.0, null, 45.0, 33.0, 20.0, 47.0, 25.0, 23.0, 37.0, 16.0, 24.0, null, 19.0, 18.0, 19.0, 9.0, 36.5, 42.0, 51.0, 55.5, 40.5, null, 51.0, 30.0, null, null, 44.0, 26.0, 17.0, 1.0, 45.0, null, 28.0, 61.0, 4.0, 21.0, 56.0, 18.0, null, 50.0, 30.0, 36.0, null, null, 9.0, null, 40.0, 36.0, 19.0, null, 42.0, 24.0, 28.0, null, 34.0, 45.5, 2.0, 32.0, 24.0, 22.0, 30.0, null, 42.0, 30.0, 27.0, 51.0, null, 22.0, 20.5, 18.0, null, 29.0, 59.0, 24.0, null, 44.0, 19.0, 33.0, null, 29.0, 22.0, 30.0, 44.0, 25.0, 54.0, null, 29.0, 62.0, 30.0, 41.0, null, 52.0, 40.0, null, 36.0, 16.0, null, 37.0, 45.0, null, 7.0, 65.0, 28.0, 16.0, null, 33.0, 22.0, 36.0, 24.0, 24.0, null, 23.5, 2.0, 19.0, null, 30.0, 26.0, 28.0, 43.0, 54.0, 22.0, 27.0, null, 61.0, 45.5, 38.0, 16.0, null, 29.0, 45.0, 28.0, 25.0, 36.0, 42.0, 23.0, null, 15.0, 25.0, null, 28.0, 38.0, 40.0, 29.0, 45.0, 35.0, null, 30.0, 18.0, 19.0, 22.0, 3.0, 27.0, 20.0, 19.0, 32.0, null, 18.0, 1.0, null, 28.0, 22.0, 31.0, 46.0, 23.0, 26.0, 21.0, 28.0, 20.0, 34.0, 51.0, 21.0, null, null, null, null, null, 30.0, 10.0, null, 21.0, 29.0, 28.0, 18.0, null, null, 17.0, 50.0, 21.0, 64.0, 31.0, 20.0, 25.0, 36.0, null, 30.0, null, 65.0, null, 34.0, 47.0, 48.0, null, 38.0, null, 56.0, null, null, 38.0, 22.0, null, 34.0, 29.0, 22.0, 9.0, null, 50.0, null, 58.0, 30.0, null, 21.0, 55.0, 71.0, 21.0, null, null, 25.0, 24.0, 17.0, 21.0, null, 37.0, 18.0, 28.0, null, 24.0, 47.0, null, 32.0, 22.0, null, null, 40.5, null, 39.0, 23.0, null, 17.0, 30.0, 45.0, null, 9.0, 11.0, 50.0, 64.0, 33.0, 27.0, null, 62.0, null, null, 40.0, 28.0, null, null, 24.0, 19.0, 29.0, null, 16.0, 19.0, null, 54.0, 36.0, null, 47.0, 22.0, null, 35.0, 47.0, null, 37.0, 36.0, 49.0, null, null, null, 44.0, 36.0, 30.0, 39.0, null, null, 35.0, 34.0, 26.0, 26.0, 27.0, 21.0, 21.0, 61.0, 57.0, 26.0, null, 51.0, null, 9.0, 32.0, 31.0, 41.0, null, 20.0, 2.0, 19.0, null, null, 21.0, 18.0, 24.0, null, 32.0, 23.0, 58.0, 40.0, 47.0, 36.0, 32.0, 25.0, null, 43.0, 31.0, 70.0, null, 18.0, 24.5, 43.0, null, 20.0, 14.0, 60.0, 25.0, 14.0, 19.0, 18.0, 25.0, 60.0, 52.0, 44.0, 49.0, 42.0, 18.0, 25.0, 26.0, 39.0, null, 29.0, 52.0, 19.0, null, 33.0, 17.0, 34.0, 50.0, 20.0, 25.0, 25.0, 11.0, null, 23.0, 23.0, 28.5, 48.0, null, null, 36.0, 24.0, 70.0, 16.0, 19.0, 31.0, 33.0, 23.0, 28.0, 18.0, 34.0, null, 41.0, 16.0, null, 30.5, null, 32.0, 24.0, 48.0, 57.0, null, 18.0, null, null, 29.0, null, 25.0, 25.0, 8.0, 46.0, null, 16.0, null, null, 25.0, 39.0, 30.0, 30.0, 34.0, 31.0, 39.0, 18.0, 39.0, 26.0, 39.0, 35.0, 6.0, 30.5, null, 23.0, 31.0, 43.0, 10.0, 38.0, 2.0, null, null, null, 23.0, 18.0, 21.0, null, 20.0, 16.0, 34.5, 17.0, 42.0, null, 35.0, 28.0, 4.0, 74.0, 9.0, 44.0, null, 41.0, 21.0, null, 24.0, 31.0, null, 26.0, 33.0, 47.0, 20.0, 19.0, null, 33.0, 22.0, 28.0, 25.0, 39.0, 27.0, null, 32.0], \"name\": \"Dead\", \"mode\": \"markers\", \"marker\": {\"size\": 6, \"color\": \"rgba(255, 182, 193, .9)\", \"line\": {\"width\": 2}}}], {\"title\": \"Styled Scatter of Fare Vs Age\", \"yaxis\": {\"zeroline\": false, \"title\": \"Fare\"}, \"xaxis\": {\"zeroline\": false, \"title\": \"Age\"}}, {\"showLink\": true, \"linkText\": \"Export to plot.ly\"})});</script>"
      ]
     },
     "metadata": {},
     "output_type": "display_data"
    }
   ],
   "source": [
    "\n",
    "trace0 = go.Scatter(\n",
    "    y = train[(train['Survived']==1)]['Fare'].values,\n",
    "    x = train[(train['Survived']==1)]['Age'].values,\n",
    "    name = 'Survived',\n",
    "    mode = 'markers',\n",
    "    marker = dict(\n",
    "        size = 8,\n",
    "        color = 'rgb(58,200,225)',\n",
    "        line = dict(\n",
    "            width = 2,\n",
    "            color = 'rgb(0, 0, 0)'\n",
    "        )\n",
    "    )\n",
    ")\n",
    "\n",
    "trace1 = go.Scatter(\n",
    "    y = train[(train['Survived']==0)]['Fare'].values,\n",
    "    x = train[(train['Survived']==0)]['Age'].values,\n",
    "    name = 'Dead',\n",
    "    mode = 'markers',\n",
    "    marker = dict(\n",
    "        size = 6,\n",
    "        color = 'rgba(255, 182, 193, .9)',\n",
    "        line = dict(\n",
    "            width = 2,\n",
    "        )\n",
    "    )\n",
    ")\n",
    "\n",
    "data = [trace0, trace1]\n",
    "\n",
    "layout = dict(title = 'Styled Scatter of Fare Vs Age',\n",
    "              yaxis = dict(zeroline = False, title='Fare'),\n",
    "              xaxis = dict(zeroline = False, title='Age')\n",
    "             )\n",
    "\n",
    "fig = dict(data=data, layout=layout)\n",
    "plotly.offline.iplot(fig, filename='styled-scatter')\n"
   ]
  },
  {
   "cell_type": "markdown",
   "metadata": {
    "_cell_guid": "61050b58-581c-4904-93e1-00552c3939b2",
    "_uuid": "54eae19f99c56329e014611963d5d07732121994"
   },
   "source": [
    "Reality is always cruel, from this plot, we know the important rule: **Money makes the world go round**."
   ]
  },
  {
   "cell_type": "code",
   "execution_count": 11,
   "metadata": {
    "_cell_guid": "1538c442-2be9-4baa-85af-3e9107561f5f",
    "_uuid": "b4b0e588f2dfb584c39295fb31336958bbd9dcec",
    "collapsed": false
   },
   "outputs": [
    {
     "data": {
      "text/plain": [
       "Fare    69.55\n",
       "dtype: float64"
      ]
     },
     "execution_count": 11,
     "metadata": {},
     "output_type": "execute_result"
    }
   ],
   "source": [
    "train[train['Pclass']==3][['Fare']].max()"
   ]
  },
  {
   "cell_type": "code",
   "execution_count": 12,
   "metadata": {
    "_cell_guid": "e7e1a552-6f0f-4bbd-b276-39b2b222182a",
    "_uuid": "813fda2d38a26c3d587be2e6ce1db10cdffeb5fd",
    "collapsed": false
   },
   "outputs": [
    {
     "name": "stdout",
     "output_type": "stream",
     "text": [
      "The survival Rate when Fare over 70$ is : 72.381 %\n"
     ]
    }
   ],
   "source": [
    "print('The survival Rate when Fare over 70$ is :',round(train[(train['Fare']>=70)&(train['Survived']==1)].shape[0]/train[(train['Fare']>=70)].shape[0],5)*100,'%')"
   ]
  },
  {
   "cell_type": "markdown",
   "metadata": {
    "_cell_guid": "06db068f-2c95-480a-8bc2-0c1f594255e4",
    "_uuid": "e14a5ad7c59df33918832c2540e414dfe1d757bd"
   },
   "source": [
    "# 3 Feature Engineer"
   ]
  },
  {
   "cell_type": "markdown",
   "metadata": {
    "_cell_guid": "c804cd89-8096-420f-9933-fb205298687d",
    "_uuid": "c00d78635a304333990b246ac619ea1e51266197"
   },
   "source": [
    "#### This Feature Extraction refer to [Megan L. Risdal](https://www.kaggle.com/mrisdal/exploring-survival-on-the-titanic).\n",
    "Thanks :-)\n",
    "## 3.1 Title Extraction"
   ]
  },
  {
   "cell_type": "code",
   "execution_count": 14,
   "metadata": {
    "_cell_guid": "2bdd016c-c485-4db6-b007-dce2e15dd142",
    "_uuid": "1d8b6a79d55daeee899911cc11c8000a278bf150",
    "collapsed": false
   },
   "outputs": [
    {
     "data": {
      "text/plain": [
       "Sex     Title   \n",
       "female  Miss        260\n",
       "        Mrs         197\n",
       "        Mlle          2\n",
       "        Ms            2\n",
       "        Countess      1\n",
       "        Dona          1\n",
       "        Dr            1\n",
       "        Lady          1\n",
       "        Mme           1\n",
       "male    Mr          757\n",
       "        Master       61\n",
       "        Rev           8\n",
       "        Dr            7\n",
       "        Col           4\n",
       "        Major         2\n",
       "        Capt          1\n",
       "        Don           1\n",
       "        Jonkheer      1\n",
       "        Sir           1\n",
       "Name: Title, dtype: int64"
      ]
     },
     "execution_count": 14,
     "metadata": {},
     "output_type": "execute_result"
    }
   ],
   "source": [
    "# Create a new feature Title\n",
    "combine['Title'] = combine.Name.str.extract(' ([A-Za-z]+)\\.', expand=False)\n",
    "combine.groupby(['Sex'])['Title'].value_counts()"
   ]
  },
  {
   "cell_type": "code",
   "execution_count": 15,
   "metadata": {
    "_cell_guid": "4e2aa12d-bd24-46ac-8f3b-ec83e99158f0",
    "_uuid": "5bcf2169def9195196279c84cb8d6b7cc8e2e510",
    "collapsed": true
   },
   "outputs": [],
   "source": [
    "combine['Title'] = combine['Title'].replace(['Lady', 'Countess','Capt', 'Col',\n",
    "                                             'Don', 'Dr', 'Major', 'Rev', 'Sir', \n",
    "                                             'Jonkheer', 'Dona'], 'Rare')\n",
    "\n",
    "combine['Title'] = combine['Title'].replace('Mlle', 'Miss')\n",
    "combine['Title'] = combine['Title'].replace('Ms', 'Miss')\n",
    "combine['Title'] = combine['Title'].replace('Mme', 'Mrs')\n",
    "    "
   ]
  },
  {
   "cell_type": "code",
   "execution_count": 16,
   "metadata": {
    "_cell_guid": "6263cc8b-7c2d-4183-9f64-3fde26b282e2",
    "_uuid": "54b2b1e22eb33e07fb188245149b8b757527f420",
    "collapsed": true
   },
   "outputs": [],
   "source": [
    "train['Title'] = train.Name.str.extract(' ([A-Za-z]+)\\.', expand=False)\n",
    "\n",
    "train['Title'] = train['Title'].replace(['Lady', 'Countess','Capt', 'Col',\n",
    "                                         'Don', 'Dr', 'Major', 'Rev', 'Sir', \n",
    "                                         'Jonkheer', 'Dona'], 'Rare')\n",
    "train['Title'] = train['Title'].replace('Mlle', 'Miss')\n",
    "train['Title'] = train['Title'].replace('Ms', 'Miss')\n",
    "train['Title'] = train['Title'].replace('Mme', 'Mrs')"
   ]
  },
  {
   "cell_type": "code",
   "execution_count": 17,
   "metadata": {
    "_cell_guid": "1e5cc541-e924-4191-a466-ffa700500030",
    "_uuid": "bf0320c3cfb10d307f135d11a694c8d594c252c6",
    "collapsed": true
   },
   "outputs": [],
   "source": [
    "# Gives the length of the name, exclude Title\n",
    "combine['Name_length'] = combine['Name'].apply(len) - combine['Title'].apply(len)"
   ]
  },
  {
   "cell_type": "markdown",
   "metadata": {
    "_cell_guid": "d56c2940-4555-45da-9e89-937fe936917d",
    "_uuid": "ff81c0f929d47d6a5ee9521da84a30d6ce470bc6"
   },
   "source": [
    "- Let's Dive deeper to visualze it."
   ]
  },
  {
   "cell_type": "code",
   "execution_count": 18,
   "metadata": {
    "_cell_guid": "a33ee6ce-3569-45cf-b5a8-7b6c255a180b",
    "_uuid": "12b6a45c86b9038e640d0fa50935a97140ec01ac",
    "collapsed": false
   },
   "outputs": [
    {
     "data": {
      "application/vnd.plotly.v1+json": {
       "data": [
        {
         "marker": {
          "color": "rgba(255, 182, 193, .9)"
         },
         "name": "Survived",
         "type": "bar",
         "x": [
          "Master",
          "Miss",
          "Mr",
          "Mrs",
          "Rare"
         ],
         "y": [
          23,
          130,
          81,
          100,
          8
         ]
        },
        {
         "marker": {
          "color": "rgb(255, 0, 0)"
         },
         "name": "Dead",
         "type": "bar",
         "x": [
          "Master",
          "Miss",
          "Mr",
          "Mrs",
          "Rare"
         ],
         "y": [
          17,
          55,
          436,
          26,
          15
         ]
        }
       ],
       "layout": {
        "barmode": "stack",
        "yaxis": {
         "title": "Count",
         "zeroline": false
        }
       }
      },
      "text/html": [
       "<div id=\"7d59ac7b-eef4-4b07-81b4-4369bd5cbd64\" style=\"height: 525px; width: 100%;\" class=\"plotly-graph-div\"></div><script type=\"text/javascript\">require([\"plotly\"], function(Plotly) { window.PLOTLYENV=window.PLOTLYENV || {};window.PLOTLYENV.BASE_URL=\"https://plot.ly\";Plotly.newPlot(\"7d59ac7b-eef4-4b07-81b4-4369bd5cbd64\", [{\"type\": \"bar\", \"x\": [\"Master\", \"Miss\", \"Mr\", \"Mrs\", \"Rare\"], \"y\": [23, 130, 81, 100, 8], \"name\": \"Survived\", \"marker\": {\"color\": \"rgba(255, 182, 193, .9)\"}}, {\"type\": \"bar\", \"x\": [\"Master\", \"Miss\", \"Mr\", \"Mrs\", \"Rare\"], \"y\": [17, 55, 436, 26, 15], \"name\": \"Dead\", \"marker\": {\"color\": \"rgb(255, 0, 0)\"}}], {\"barmode\": \"stack\", \"yaxis\": {\"zeroline\": false, \"title\": \"Count\"}}, {\"showLink\": true, \"linkText\": \"Export to plot.ly\"})});</script>"
      ],
      "text/vnd.plotly.v1+html": [
       "<div id=\"7d59ac7b-eef4-4b07-81b4-4369bd5cbd64\" style=\"height: 525px; width: 100%;\" class=\"plotly-graph-div\"></div><script type=\"text/javascript\">require([\"plotly\"], function(Plotly) { window.PLOTLYENV=window.PLOTLYENV || {};window.PLOTLYENV.BASE_URL=\"https://plot.ly\";Plotly.newPlot(\"7d59ac7b-eef4-4b07-81b4-4369bd5cbd64\", [{\"type\": \"bar\", \"x\": [\"Master\", \"Miss\", \"Mr\", \"Mrs\", \"Rare\"], \"y\": [23, 130, 81, 100, 8], \"name\": \"Survived\", \"marker\": {\"color\": \"rgba(255, 182, 193, .9)\"}}, {\"type\": \"bar\", \"x\": [\"Master\", \"Miss\", \"Mr\", \"Mrs\", \"Rare\"], \"y\": [17, 55, 436, 26, 15], \"name\": \"Dead\", \"marker\": {\"color\": \"rgb(255, 0, 0)\"}}], {\"barmode\": \"stack\", \"yaxis\": {\"zeroline\": false, \"title\": \"Count\"}}, {\"showLink\": true, \"linkText\": \"Export to plot.ly\"})});</script>"
      ]
     },
     "metadata": {},
     "output_type": "display_data"
    }
   ],
   "source": [
    "trace1 = go.Bar(\n",
    "    x=['Master', 'Miss', 'Mr', 'Mrs', 'Rare'],\n",
    "    y=train[train['Survived']==1][['Title', 'Survived']].groupby(['Title']).size(),\n",
    "    name='Survived',\n",
    "    marker = dict(\n",
    "        color = 'rgba(255, 182, 193, .9)',\n",
    "    )\n",
    ")\n",
    "trace2 = go.Bar(\n",
    "    x=['Master', 'Miss', 'Mr', 'Mrs', 'Rare'],\n",
    "    y=train[train['Survived']==0][['Title', 'Survived']].groupby(['Title']).size(),\n",
    "    name='Dead',\n",
    "    marker = dict(\n",
    "        color = 'rgb(255, 0, 0)',\n",
    "    )\n",
    ")\n",
    "\n",
    "data = [trace1, trace2]\n",
    "layout = go.Layout(\n",
    "    barmode='stack',\n",
    "    yaxis = dict(zeroline = False, title='Count')\n",
    ")\n",
    "fig = go.Figure(data=data, layout=layout)\n",
    "plotly.offline.iplot(fig, filename='stacked-bar')"
   ]
  },
  {
   "cell_type": "markdown",
   "metadata": {
    "_cell_guid": "7690b6f2-a710-436f-b69e-d5bdfbe28bb0",
    "_uuid": "1b8f06ab3ce923e642a01c5493f6a935b72b0f81"
   },
   "source": [
    "- Obviously, Miss, Mr and Mrs these three titles play an important rule, and may help to improve accuracy."
   ]
  },
  {
   "cell_type": "markdown",
   "metadata": {
    "_cell_guid": "e7cc4289-7e4a-4fa4-8b31-6d91350c5161",
    "_uuid": "4e83e6f16f548b85b6ebb9856b3b31e634f2bd6d"
   },
   "source": [
    "### Survival rate for those Lucky Name refer to  [Anthony](https://www.kaggle.com/antgoldbloom/lucky-names)'s amazing research"
   ]
  },
  {
   "cell_type": "code",
   "execution_count": 19,
   "metadata": {
    "_cell_guid": "c279b521-ae10-485b-9d7a-647f5b650453",
    "_uuid": "513c868335aacb4d86597f013207e1f1b1f4f165",
    "collapsed": false
   },
   "outputs": [
    {
     "name": "stderr",
     "output_type": "stream",
     "text": [
      "/home/knolly/anaconda3/lib/python3.6/site-packages/ipykernel/__main__.py:1: FutureWarning:\n",
      "\n",
      "currently extract(expand=None) means expand=False (return Index/Series/DataFrame) but in a future version of pandas this will be changed to expand=True (return DataFrame)\n",
      "\n"
     ]
    }
   ],
   "source": [
    "combine['FirstName'] = combine['Name'].str.extract('(Mr\\. |Miss\\. |Master. |Mrs\\.[A-Za-z ]*\\()([A-Za-z]*)')[1]"
   ]
  },
  {
   "cell_type": "code",
   "execution_count": 20,
   "metadata": {
    "_cell_guid": "312a01ab-6a77-43d1-bb52-ca7451f44275",
    "_uuid": "b5550661d45b2ef1949d232cf23d63c597092472",
    "collapsed": true
   },
   "outputs": [],
   "source": [
    "combine['LuckyElizabeth'] = np.where((combine['FirstName']=='Elizabeth'),1,0)\n",
    "combine['LuckyAnna'] = np.where((combine['FirstName']=='Anna'),1,0)\n",
    "combine['LuckyMary'] = np.where((combine['FirstName']=='Mary'),1,0)"
   ]
  },
  {
   "cell_type": "markdown",
   "metadata": {
    "_cell_guid": "231f5fa6-c3fe-4845-8d6c-86396a81c8a9",
    "_uuid": "db3ec7484b585d6676ecf795ded93484d5820189"
   },
   "source": [
    "## 3.2 Family Size\n"
   ]
  },
  {
   "cell_type": "code",
   "execution_count": 21,
   "metadata": {
    "_cell_guid": "c9a09329-778b-4a3b-a3e5-fea3ada53cee",
    "_uuid": "b7dc240d6c148d896b7e8e75f3f0c48a8436af65",
    "collapsed": true
   },
   "outputs": [],
   "source": [
    "combine['Family'] = combine[\"Parch\"] + combine[\"SibSp\"]\n",
    "train['Family'] = train[\"Parch\"] + train[\"SibSp\"]"
   ]
  },
  {
   "cell_type": "markdown",
   "metadata": {
    "_cell_guid": "ed75cc47-8462-4be1-9d12-830e38d698a4",
    "_uuid": "f6347d7f115530817a6685f0d6b4ae35bb7f7514"
   },
   "source": [
    "```\n",
    "combine.drop([\"Parch\",\"SibSp\"], axis=1, inplace=True)\n",
    "# equal to\n",
    "combine = combine.drop([\"Parch\",\"SibSp\"], axis=1)```\n",
    "Let’s plot the training data, to help us understand how it may relate to survival and dead, "
   ]
  },
  {
   "cell_type": "code",
   "execution_count": 22,
   "metadata": {
    "_cell_guid": "3866fe36-2620-46c0-8d43-eac5619ebaf6",
    "_uuid": "91ff4f1a89bbf44275bc9272056e1f9cf7451a2c",
    "collapsed": false
   },
   "outputs": [
    {
     "data": {
      "application/vnd.plotly.v1+json": {
       "data": [
        {
         "marker": {
          "color": "rgba(255, 182, 193, .9)"
         },
         "name": "Survived",
         "type": "bar",
         "x": [
          0,
          1,
          2,
          3,
          4,
          5,
          6
         ],
         "y": [
          163,
          89,
          59,
          21,
          3,
          3,
          4
         ]
        },
        {
         "marker": {
          "color": "rgb(255, 0, 0)"
         },
         "name": "Dead",
         "type": "bar",
         "x": [
          0,
          1,
          2,
          3,
          4,
          5,
          6,
          7,
          10
         ],
         "y": [
          374,
          72,
          43,
          8,
          12,
          19,
          8,
          6,
          7
         ]
        }
       ],
       "layout": {
        "barmode": "stack",
        "xaxis": {
         "dtick": 1,
         "title": "Family Size",
         "zeroline": false
        },
        "yaxis": {
         "title": "Count",
         "zeroline": false
        }
       }
      },
      "text/html": [
       "<div id=\"21a6949f-7e45-4972-8cf4-89283cacac0e\" style=\"height: 525px; width: 100%;\" class=\"plotly-graph-div\"></div><script type=\"text/javascript\">require([\"plotly\"], function(Plotly) { window.PLOTLYENV=window.PLOTLYENV || {};window.PLOTLYENV.BASE_URL=\"https://plot.ly\";Plotly.newPlot(\"21a6949f-7e45-4972-8cf4-89283cacac0e\", [{\"type\": \"bar\", \"x\": [0, 1, 2, 3, 4, 5, 6], \"y\": [163, 89, 59, 21, 3, 3, 4], \"name\": \"Survived\", \"marker\": {\"color\": \"rgba(255, 182, 193, .9)\"}}, {\"type\": \"bar\", \"x\": [0, 1, 2, 3, 4, 5, 6, 7, 10], \"y\": [374, 72, 43, 8, 12, 19, 8, 6, 7], \"name\": \"Dead\", \"marker\": {\"color\": \"rgb(255, 0, 0)\"}}], {\"barmode\": \"stack\", \"yaxis\": {\"zeroline\": false, \"title\": \"Count\"}, \"xaxis\": {\"zeroline\": false, \"title\": \"Family Size\", \"dtick\": 1}}, {\"showLink\": true, \"linkText\": \"Export to plot.ly\"})});</script>"
      ],
      "text/vnd.plotly.v1+html": [
       "<div id=\"21a6949f-7e45-4972-8cf4-89283cacac0e\" style=\"height: 525px; width: 100%;\" class=\"plotly-graph-div\"></div><script type=\"text/javascript\">require([\"plotly\"], function(Plotly) { window.PLOTLYENV=window.PLOTLYENV || {};window.PLOTLYENV.BASE_URL=\"https://plot.ly\";Plotly.newPlot(\"21a6949f-7e45-4972-8cf4-89283cacac0e\", [{\"type\": \"bar\", \"x\": [0, 1, 2, 3, 4, 5, 6], \"y\": [163, 89, 59, 21, 3, 3, 4], \"name\": \"Survived\", \"marker\": {\"color\": \"rgba(255, 182, 193, .9)\"}}, {\"type\": \"bar\", \"x\": [0, 1, 2, 3, 4, 5, 6, 7, 10], \"y\": [374, 72, 43, 8, 12, 19, 8, 6, 7], \"name\": \"Dead\", \"marker\": {\"color\": \"rgb(255, 0, 0)\"}}], {\"barmode\": \"stack\", \"yaxis\": {\"zeroline\": false, \"title\": \"Count\"}, \"xaxis\": {\"zeroline\": false, \"title\": \"Family Size\", \"dtick\": 1}}, {\"showLink\": true, \"linkText\": \"Export to plot.ly\"})});</script>"
      ]
     },
     "metadata": {},
     "output_type": "display_data"
    }
   ],
   "source": [
    "trace1 = go.Bar(\n",
    "    x=train[train['Survived']==1][['Family', 'Survived']].groupby(['Family']).size().index,\n",
    "    y=train[train['Survived']==1][['Family', 'Survived']].groupby(['Family']).size(),\n",
    "    name='Survived',\n",
    "    marker = dict(\n",
    "        color = 'rgba(255, 182, 193, .9)',\n",
    "    )\n",
    ")\n",
    "trace2 = go.Bar(\n",
    "    x=train[train['Survived']==0][['Family', 'Survived']].groupby(['Family']).size().index,\n",
    "    y=train[train['Survived']==0][['Family', 'Survived']].groupby(['Family']).size(),\n",
    "    name='Dead',\n",
    "    marker = dict(\n",
    "        color = 'rgb(255, 0, 0)',\n",
    "    )\n",
    ")\n",
    "\n",
    "data = [trace1, trace2]\n",
    "layout = go.Layout(\n",
    "    barmode='stack',\n",
    "    yaxis = dict(zeroline = False, title='Count'),\n",
    "    xaxis = dict(zeroline = False, title='Family Size',dtick=1)\n",
    ")\n",
    "fig = go.Figure(data=data, layout=layout)\n",
    "plotly.offline.iplot(fig, filename='stacked-bar')"
   ]
  },
  {
   "cell_type": "code",
   "execution_count": 23,
   "metadata": {
    "_cell_guid": "4042e2f4-62e6-44fc-b7cc-9b2df806df12",
    "_uuid": "e021b9eebee8cf487b8685c42252a71985bba8a1",
    "collapsed": false
   },
   "outputs": [
    {
     "name": "stdout",
     "output_type": "stream",
     "text": [
      "Has died, Male (Family Size: 0) proportion: 92.78 %\n",
      "Has died, Male (Family Size: 1) proportion: 77.78 %\n",
      "Has died, Male (Family Size: 2) proportion: 74.42 %\n",
      "Has died, Male (Family Size: 3) proportion: 62.5 %\n",
      "Has died, Male (Family Size: 4) proportion: 25.0 %\n",
      "Has died, Male (Family Size: 5) proportion: 73.68 %\n",
      "Has died, Male (Family Size: 6) proportion: 37.5 %\n",
      "Has died, Male (Family Size: 7) proportion: 66.67 %\n",
      "Has died, Male (Family Size: 10) proportion: 57.14 %\n"
     ]
    }
   ],
   "source": [
    "for i in np.sort(train['Family'].unique()):\n",
    "    print('Has died, Male (Family Size: {}) proportion: {}'.format(i,\n",
    "      round(train[(train['Sex']=='male')&(train['Survived']==0)&(train['Family']==i)].shape[0]/\\\n",
    "          train[(train['Survived']==0)&(train['Family']==i)].shape[0]*100,2)),'%')"
   ]
  },
  {
   "cell_type": "markdown",
   "metadata": {
    "_cell_guid": "86fd9923-be0b-4654-aa52-88591f9538ee",
    "_uuid": "6147a7b3527416da1238ee77b2d20cc5ca5f018a"
   },
   "source": [
    "Not cristal clear, but still could  show something intersting.\n",
    "\n",
    "1. Single has big death rate.\n",
    "2. Big size family prefer being in Heaven together.\n",
    " \n",
    "**Let’s create a quantiled family size feature.**"
   ]
  },
  {
   "cell_type": "code",
   "execution_count": 24,
   "metadata": {
    "_cell_guid": "660c661c-6f74-432e-bb4a-fb6f6b92a0f4",
    "_uuid": "ac397c893954a1eb2831bf31c8092b96e5156bd9",
    "collapsed": true
   },
   "outputs": [],
   "source": [
    "combine['Alone'] = 0\n",
    "combine.ix[combine['Family'] == 0, 'Alone'] = 1\n",
    "combine.ix[combine.Family==0,'Fsize'] = 'Single'\n",
    "combine.ix[(combine.Family>0)&(combine.Family<5),'Fsize'] = 'small'\n",
    "combine.ix[(combine.Family>4),'Fsize'] = 'big'"
   ]
  },
  {
   "cell_type": "markdown",
   "metadata": {
    "_cell_guid": "6885a6e3-7cac-486c-b4cf-9e04e83e3716",
    "_uuid": "1f35dbe1d92411dbc1cc29d8e0d0caf43c27579a"
   },
   "source": [
    "How old are those Single people ?"
   ]
  },
  {
   "cell_type": "code",
   "execution_count": 25,
   "metadata": {
    "_cell_guid": "f192f443-9187-4feb-9bd8-a5b58682b30c",
    "_uuid": "bb54c91f7db957e165a43bfe56274d4d900fc698",
    "collapsed": false
   },
   "outputs": [
    {
     "data": {
      "application/vnd.plotly.v1+json": {
       "data": [
        {
         "marker": {
          "color": "rgba(255, 182, 193, .9)"
         },
         "mode": "lines",
         "name": "lines",
         "type": "scatter",
         "x": [
          5,
          11,
          12,
          13,
          14,
          15,
          16,
          17,
          18,
          19,
          20,
          21,
          22,
          23,
          24,
          25,
          26,
          27,
          28,
          29,
          30,
          31,
          32,
          33,
          34,
          35,
          36,
          37,
          38,
          39,
          40,
          41,
          42,
          43,
          44,
          45,
          46,
          47,
          48,
          49,
          50,
          51,
          52,
          53,
          54,
          55,
          56,
          57,
          58,
          59,
          60,
          61,
          62,
          63,
          64,
          65,
          66,
          70,
          71,
          74,
          80
         ],
         "y": [
          1,
          1,
          1,
          1,
          3,
          2,
          11,
          12,
          24,
          20,
          19,
          30,
          32,
          18,
          30,
          22,
          21,
          18,
          27,
          16,
          32,
          13,
          23,
          14,
          11,
          17,
          18,
          2,
          9,
          10,
          12,
          6,
          12,
          3,
          5,
          10,
          7,
          9,
          5,
          4,
          6,
          5,
          3,
          2,
          3,
          5,
          4,
          3,
          3,
          2,
          3,
          4,
          5,
          1,
          1,
          2,
          1,
          2,
          2,
          1,
          1
         ]
        }
       ],
       "layout": {}
      },
      "text/html": [
       "<div id=\"51fb9dad-e054-4ebb-8ec9-bf96d61e472e\" style=\"height: 525px; width: 100%;\" class=\"plotly-graph-div\"></div><script type=\"text/javascript\">require([\"plotly\"], function(Plotly) { window.PLOTLYENV=window.PLOTLYENV || {};window.PLOTLYENV.BASE_URL=\"https://plot.ly\";Plotly.newPlot(\"51fb9dad-e054-4ebb-8ec9-bf96d61e472e\", [{\"type\": \"scatter\", \"x\": [5.0, 11.0, 12.0, 13.0, 14.0, 15.0, 16.0, 17.0, 18.0, 19.0, 20.0, 21.0, 22.0, 23.0, 24.0, 25.0, 26.0, 27.0, 28.0, 29.0, 30.0, 31.0, 32.0, 33.0, 34.0, 35.0, 36.0, 37.0, 38.0, 39.0, 40.0, 41.0, 42.0, 43.0, 44.0, 45.0, 46.0, 47.0, 48.0, 49.0, 50.0, 51.0, 52.0, 53.0, 54.0, 55.0, 56.0, 57.0, 58.0, 59.0, 60.0, 61.0, 62.0, 63.0, 64.0, 65.0, 66.0, 70.0, 71.0, 74.0, 80.0], \"y\": [1, 1, 1, 1, 3, 2, 11, 12, 24, 20, 19, 30, 32, 18, 30, 22, 21, 18, 27, 16, 32, 13, 23, 14, 11, 17, 18, 2, 9, 10, 12, 6, 12, 3, 5, 10, 7, 9, 5, 4, 6, 5, 3, 2, 3, 5, 4, 3, 3, 2, 3, 4, 5, 1, 1, 2, 1, 2, 2, 1, 1], \"mode\": \"lines\", \"name\": \"lines\", \"marker\": {\"color\": \"rgba(255, 182, 193, .9)\"}}], {}, {\"showLink\": true, \"linkText\": \"Export to plot.ly\"})});</script>"
      ],
      "text/vnd.plotly.v1+html": [
       "<div id=\"51fb9dad-e054-4ebb-8ec9-bf96d61e472e\" style=\"height: 525px; width: 100%;\" class=\"plotly-graph-div\"></div><script type=\"text/javascript\">require([\"plotly\"], function(Plotly) { window.PLOTLYENV=window.PLOTLYENV || {};window.PLOTLYENV.BASE_URL=\"https://plot.ly\";Plotly.newPlot(\"51fb9dad-e054-4ebb-8ec9-bf96d61e472e\", [{\"type\": \"scatter\", \"x\": [5.0, 11.0, 12.0, 13.0, 14.0, 15.0, 16.0, 17.0, 18.0, 19.0, 20.0, 21.0, 22.0, 23.0, 24.0, 25.0, 26.0, 27.0, 28.0, 29.0, 30.0, 31.0, 32.0, 33.0, 34.0, 35.0, 36.0, 37.0, 38.0, 39.0, 40.0, 41.0, 42.0, 43.0, 44.0, 45.0, 46.0, 47.0, 48.0, 49.0, 50.0, 51.0, 52.0, 53.0, 54.0, 55.0, 56.0, 57.0, 58.0, 59.0, 60.0, 61.0, 62.0, 63.0, 64.0, 65.0, 66.0, 70.0, 71.0, 74.0, 80.0], \"y\": [1, 1, 1, 1, 3, 2, 11, 12, 24, 20, 19, 30, 32, 18, 30, 22, 21, 18, 27, 16, 32, 13, 23, 14, 11, 17, 18, 2, 9, 10, 12, 6, 12, 3, 5, 10, 7, 9, 5, 4, 6, 5, 3, 2, 3, 5, 4, 3, 3, 2, 3, 4, 5, 1, 1, 2, 1, 2, 2, 1, 1], \"mode\": \"lines\", \"name\": \"lines\", \"marker\": {\"color\": \"rgba(255, 182, 193, .9)\"}}], {}, {\"showLink\": true, \"linkText\": \"Export to plot.ly\"})});</script>"
      ]
     },
     "metadata": {},
     "output_type": "display_data"
    }
   ],
   "source": [
    "x = combine[(combine['Alone']==1)][['Age']].round().dropna().groupby(['Age']).size() \n",
    "trace0 = go.Scatter(\n",
    "    x = x.index,\n",
    "    y = x,\n",
    "    mode = 'lines',\n",
    "    name = 'lines',\n",
    "    marker = dict(\n",
    "        color = 'rgba(255, 182, 193, .9)',\n",
    "    )\n",
    ")\n",
    "data = [trace0]\n",
    "plotly.offline.iplot(data, filename='line-mode')"
   ]
  },
  {
   "cell_type": "markdown",
   "metadata": {
    "_cell_guid": "648c8cee-bb44-45f7-b210-84b2bd1ae851",
    "_uuid": "bb83b831b35614fe857c9b19f7b40bb8a0601ee0"
   },
   "source": [
    "- Most young people has American dream because the great unrest in Britain during 1911-1914, make them leave British. (Maybe)"
   ]
  },
  {
   "cell_type": "markdown",
   "metadata": {
    "_cell_guid": "4e5e2477-ea43-4c01-be8b-6e745f2d4ef1",
    "_uuid": "471c6710ed2ce81687ca32f8ae8a0b94019b4f75"
   },
   "source": [
    "# 4 Missing Values Imputation\n",
    "It is very common in real-world that data can have missing values for a number of reasons such as observations that were not recorded, human error, data corruption.\n",
    "\n",
    "Handling missing data is important as many machine learning algorithms do not support data with missing values.\n"
   ]
  },
  {
   "cell_type": "code",
   "execution_count": 26,
   "metadata": {
    "_cell_guid": "d7b011dc-f0e4-487b-bcda-05c5483da951",
    "_uuid": "b670d1023fabc680fe9d965598d3f767d3eeba8c",
    "collapsed": false
   },
   "outputs": [
    {
     "data": {
      "text/plain": [
       "PassengerId          0\n",
       "Pclass               0\n",
       "Name                 0\n",
       "Sex                  0\n",
       "Age                263\n",
       "SibSp                0\n",
       "Parch                0\n",
       "Ticket               0\n",
       "Fare                 1\n",
       "Cabin             1014\n",
       "Embarked             2\n",
       "Title                0\n",
       "Name_length          0\n",
       "FirstName           38\n",
       "LuckyElizabeth       0\n",
       "LuckyAnna            0\n",
       "LuckyMary            0\n",
       "Family               0\n",
       "Alone                0\n",
       "Fsize                0\n",
       "dtype: int64"
      ]
     },
     "execution_count": 26,
     "metadata": {},
     "output_type": "execute_result"
    }
   ],
   "source": [
    "combine.isnull().sum()"
   ]
  },
  {
   "cell_type": "code",
   "execution_count": 27,
   "metadata": {
    "_cell_guid": "7e6a1ebe-7039-41d8-a672-9ce32dc1f205",
    "_uuid": "4b39a10e2a0826b4696953c483ba1ed3704f6897",
    "collapsed": false
   },
   "outputs": [
    {
     "data": {
      "image/png": "[encoded data removed]",
      "text/plain": [
       "<matplotlib.figure.Figure at 0x7ff45318bcc0>"
      ]
     },
     "metadata": {},
     "output_type": "display_data"
    }
   ],
   "source": [
    "# Using msno library to see the NaN distribution\n",
    "missingValueColumns = combine.columns[combine.isnull().any()].tolist()\n",
    "msno.matrix(combine[missingValueColumns],width_ratios=(10,1),\\\n",
    "            figsize=(20,8),color=(0,0, 0),fontsize=12,sparkline=True,labels=True)\n",
    "plt.show()"
   ]
  },
  {
   "cell_type": "markdown",
   "metadata": {
    "_cell_guid": "7b92c3e2-4204-44de-971d-c59921a4fcb8",
    "_uuid": "20db1bcff7ded3a62194fb5598e799211ad67129"
   },
   "source": [
    "#### There are no obviously NaN in common."
   ]
  },
  {
   "cell_type": "markdown",
   "metadata": {
    "_cell_guid": "2192a4ad-c76e-46f7-836a-e28b34988c37",
    "_uuid": "53509599b7f99186265acb3c06fb239848da5a96"
   },
   "source": [
    "## 4.1 Handle Fare Missing Value"
   ]
  },
  {
   "cell_type": "markdown",
   "metadata": {
    "_cell_guid": "14a12080-4945-44d1-9feb-349f08db1e14",
    "_uuid": "b42d381bbe2267842315ea8d99b36d5785b8abb2"
   },
   "source": [
    "```\n",
    "combine[combine['Fare'].isnull()]['Fsize'],\n",
    "combine[combine['Fare'].isnull()]['Age'],\n",
    "combine[combine['Fare'].isnull()]['Sex']\n",
    "combine[combine['Fare'].isnull()]['Embarked']\n",
    "combine[combine['Fare'].isnull()]['Pclass']\n",
    "```\n",
    "- He's a **single** 60.5 years-old **male**, embarked at **S**, lived in Pclass 3.\n",
    "- Under this condition, try to find the Fare range."
   ]
  },
  {
   "cell_type": "code",
   "execution_count": 28,
   "metadata": {
    "_cell_guid": "fc9990fb-a46d-4f7e-befe-23bf6afbc8fa",
    "_uuid": "bd8c98abd84b058bd946ef4e7c3e1f06c6251ecd",
    "collapsed": false
   },
   "outputs": [
    {
     "data": {
      "text/html": [
       "<div>\n",
       "<table border=\"1\" class=\"dataframe\">\n",
       "  <thead>\n",
       "    <tr style=\"text-align: right;\">\n",
       "      <th></th>\n",
       "      <th>Fare</th>\n",
       "    </tr>\n",
       "  </thead>\n",
       "  <tbody>\n",
       "    <tr>\n",
       "      <th>count</th>\n",
       "      <td>2.000000</td>\n",
       "    </tr>\n",
       "    <tr>\n",
       "      <th>mean</th>\n",
       "      <td>7.006250</td>\n",
       "    </tr>\n",
       "    <tr>\n",
       "      <th>std</th>\n",
       "      <td>1.087177</td>\n",
       "    </tr>\n",
       "    <tr>\n",
       "      <th>min</th>\n",
       "      <td>6.237500</td>\n",
       "    </tr>\n",
       "    <tr>\n",
       "      <th>25%</th>\n",
       "      <td>6.621875</td>\n",
       "    </tr>\n",
       "    <tr>\n",
       "      <th>50%</th>\n",
       "      <td>7.006250</td>\n",
       "    </tr>\n",
       "    <tr>\n",
       "      <th>75%</th>\n",
       "      <td>7.390625</td>\n",
       "    </tr>\n",
       "    <tr>\n",
       "      <th>max</th>\n",
       "      <td>7.775000</td>\n",
       "    </tr>\n",
       "  </tbody>\n",
       "</table>\n",
       "</div>"
      ],
      "text/plain": [
       "           Fare\n",
       "count  2.000000\n",
       "mean   7.006250\n",
       "std    1.087177\n",
       "min    6.237500\n",
       "25%    6.621875\n",
       "50%    7.006250\n",
       "75%    7.390625\n",
       "max    7.775000"
      ]
     },
     "execution_count": 28,
     "metadata": {},
     "output_type": "execute_result"
    }
   ],
   "source": [
    "combine[(combine['Embarked']=='S')&(combine['Sex']=='male')&(combine['Pclass']==3)&\n",
    "        (combine['Age']>60)&(combine['Fsize']=='Single')][['Fare']].describe()"
   ]
  },
  {
   "cell_type": "markdown",
   "metadata": {
    "_cell_guid": "8880040a-4432-4d08-b7ad-d654d6208112",
    "_uuid": "045c72d46a7ba13cc1af05663cd3ac2b292410fe"
   },
   "source": [
    "- We could reasonable fill the Fare NaN with median value **7.775** and  use `fillna()` method in Panda's Dataframe to fill missing values"
   ]
  },
  {
   "cell_type": "code",
   "execution_count": 29,
   "metadata": {
    "_cell_guid": "6b5b5acb-7f03-4798-a3ed-be74e514d99e",
    "_uuid": "e7bac00798c59a97094023cab34aa9d82d1816be",
    "collapsed": true
   },
   "outputs": [],
   "source": [
    "combine['Fare'].fillna(7.775, inplace=True)"
   ]
  },
  {
   "cell_type": "markdown",
   "metadata": {
    "_cell_guid": "704e8a17-e855-4a7c-adba-df66f27d58ec",
    "_uuid": "97c3cb4a8a2d389bc5a16a98d1dbb1172cd6c002"
   },
   "source": [
    "## 4.2 Handle Embarked Missing Value\n",
    "\n",
    "```\n",
    "combine[combine['Embarked'].isnull()]['Fsize'],\n",
    "combine[combine['Embarked'].isnull()]['Age'],\n",
    "combine[combine['Embarked'].isnull()]['Sex'],\n",
    "combine[combine['Embarked'].isnull()]['Pclass'],\n",
    "combine[combine['Embarked'].isnull()]['Fare'],\n",
    "combine[combine['Embarked'].isnull()][['Title']]\n",
    "```\n",
    "- Two single **women** aged 38, 62 with Title **Miss, Mrs**, respectly, and both lived in **Noble Class** paid the same **Fare** 80.\n",
    "- Recall **in[9]: ** Fare Over 70 get very high suvival rate"
   ]
  },
  {
   "cell_type": "code",
   "execution_count": 30,
   "metadata": {
    "_cell_guid": "6c434173-13a9-4bc1-a99d-588580cae7ea",
    "_uuid": "e613c94cd3e29c9b42e5841d3532194918ad1502",
    "collapsed": false
   },
   "outputs": [
    {
     "data": {
      "text/plain": [
       "Embarked\n",
       "C    47\n",
       "Q     2\n",
       "S    40\n",
       "dtype: int64"
      ]
     },
     "execution_count": 30,
     "metadata": {},
     "output_type": "execute_result"
    }
   ],
   "source": [
    "# Remember that must relax the condition to find the values\n",
    "combine[(combine['Fare']>70)&(combine['Sex']=='female')&(combine['Pclass']==1)].groupby(['Embarked']).size()"
   ]
  },
  {
   "cell_type": "markdown",
   "metadata": {
    "_cell_guid": "c001f6a7-9244-4ba2-b1ad-30e9e2154bf5",
    "_uuid": "43f1e60cd3d05a48e86551af97248ecc7b9864b0"
   },
   "source": [
    "- Under the condition, we got two possible values\n",
    "    - How to choose ? **C** or **S**\n",
    "    - Should we cast the dice ? \n",
    "    - No more clue ?\n",
    "\n",
    "### History\n",
    "- Titanic leaves the dock at **Southhampton** for its maiden voyage. First stop is in **Cherbourg**, France, where the Titanic arrives at 6:30 p.m. and leaves at 8:10 p.m, heading to **Queenstown**, Ireland (now known as Cobh).\n",
    "\n",
    "**C = Cherbourg, Q = Queenstown, S = Southampton**"
   ]
  },
  {
   "cell_type": "code",
   "execution_count": 31,
   "metadata": {
    "_cell_guid": "944bcb5b-fe31-48f4-a83d-cc96300ef53e",
    "_uuid": "42709a32ef2df82493806707763b37c1c218ee46",
    "collapsed": false
   },
   "outputs": [
    {
     "data": {
      "text/html": [
       "<div>\n",
       "<table border=\"1\" class=\"dataframe\">\n",
       "  <thead>\n",
       "    <tr style=\"text-align: right;\">\n",
       "      <th></th>\n",
       "      <th>Name</th>\n",
       "    </tr>\n",
       "  </thead>\n",
       "  <tbody>\n",
       "    <tr>\n",
       "      <th>61</th>\n",
       "      <td>Icard, Miss. Amelie</td>\n",
       "    </tr>\n",
       "    <tr>\n",
       "      <th>829</th>\n",
       "      <td>Stone, Mrs. George Nelson (Martha Evelyn)</td>\n",
       "    </tr>\n",
       "  </tbody>\n",
       "</table>\n",
       "</div>"
      ],
      "text/plain": [
       "                                          Name\n",
       "61                         Icard, Miss. Amelie\n",
       "829  Stone, Mrs. George Nelson (Martha Evelyn)"
      ]
     },
     "execution_count": 31,
     "metadata": {},
     "output_type": "execute_result"
    }
   ],
   "source": [
    "combine[combine['Embarked'].isnull()][['Name']]"
   ]
  },
  {
   "cell_type": "markdown",
   "metadata": {
    "_cell_guid": "3488e210-dceb-4017-8cce-85438baded2f",
    "_uuid": "4e8528a1027246f2d348ef14af7f0c79e942a26c"
   },
   "source": [
    "- Big Suprise, Amelie a French feminine given name, instead of casting the dice or filling with median, I'd like to fill Icard, Miss. Amelie's ___Embarked___  with **C**.\n",
    "\n",
    "    1. C is the most frequent value.\n",
    "    2. Given name is highly relevant to French.\n",
    "\n",
    "    \n",
    " - In order to prove it, we check the people's name who left the deck at **C**\n"
   ]
  },
  {
   "cell_type": "code",
   "execution_count": 32,
   "metadata": {
    "_cell_guid": "6896e041-defe-4853-b666-0d670fa55e29",
    "_uuid": "53c1dc5cd443f3c310ea3db5b05b4e78e4f7708f",
    "collapsed": false
   },
   "outputs": [
    {
     "data": {
      "text/html": [
       "<div>\n",
       "<table border=\"1\" class=\"dataframe\">\n",
       "  <thead>\n",
       "    <tr style=\"text-align: right;\">\n",
       "      <th></th>\n",
       "      <th>Name</th>\n",
       "    </tr>\n",
       "  </thead>\n",
       "  <tbody>\n",
       "    <tr>\n",
       "      <th>1</th>\n",
       "      <td>Cumings, Mrs. John Bradley (Florence Briggs Th...</td>\n",
       "    </tr>\n",
       "    <tr>\n",
       "      <th>9</th>\n",
       "      <td>Nasser, Mrs. Nicholas (Adele Achem)</td>\n",
       "    </tr>\n",
       "    <tr>\n",
       "      <th>19</th>\n",
       "      <td>Masselmani, Mrs. Fatima</td>\n",
       "    </tr>\n",
       "    <tr>\n",
       "      <th>26</th>\n",
       "      <td>Emir, Mr. Farred Chehab</td>\n",
       "    </tr>\n",
       "    <tr>\n",
       "      <th>30</th>\n",
       "      <td>Uruchurtu, Don. Manuel E</td>\n",
       "    </tr>\n",
       "    <tr>\n",
       "      <th>31</th>\n",
       "      <td>Spencer, Mrs. William Augustus (Marie Eugenie)</td>\n",
       "    </tr>\n",
       "    <tr>\n",
       "      <th>34</th>\n",
       "      <td>Meyer, Mr. Edgar Joseph</td>\n",
       "    </tr>\n",
       "    <tr>\n",
       "      <th>36</th>\n",
       "      <td>Mamee, Mr. Hanna</td>\n",
       "    </tr>\n",
       "    <tr>\n",
       "      <th>39</th>\n",
       "      <td>Nicola-Yarred, Miss. Jamila</td>\n",
       "    </tr>\n",
       "    <tr>\n",
       "      <th>42</th>\n",
       "      <td>Kraeff, Mr. Theodor</td>\n",
       "    </tr>\n",
       "  </tbody>\n",
       "</table>\n",
       "</div>"
      ],
      "text/plain": [
       "                                                 Name\n",
       "1   Cumings, Mrs. John Bradley (Florence Briggs Th...\n",
       "9                 Nasser, Mrs. Nicholas (Adele Achem)\n",
       "19                            Masselmani, Mrs. Fatima\n",
       "26                            Emir, Mr. Farred Chehab\n",
       "30                           Uruchurtu, Don. Manuel E\n",
       "31     Spencer, Mrs. William Augustus (Marie Eugenie)\n",
       "34                            Meyer, Mr. Edgar Joseph\n",
       "36                                   Mamee, Mr. Hanna\n",
       "39                        Nicola-Yarred, Miss. Jamila\n",
       "42                                Kraeff, Mr. Theodor"
      ]
     },
     "execution_count": 32,
     "metadata": {},
     "output_type": "execute_result"
    }
   ],
   "source": [
    "combine[combine['Embarked']=='C'][['Name']].head(10)\n",
    "# Yes, almost French name"
   ]
  },
  {
   "cell_type": "code",
   "execution_count": 33,
   "metadata": {
    "_cell_guid": "f1e3c7cc-fe9e-42a6-acb4-aacd0b679ea5",
    "_uuid": "4edf844a1a884e73c8b94ef2fc14ff18db0cb69f",
    "collapsed": false
   },
   "outputs": [
    {
     "data": {
      "application/vnd.plotly.v1+json": {
       "data": [
        {
         "marker": {
          "color": "rgb(214, 12, 140)"
         },
         "name": "C",
         "type": "box",
         "y": [
          71.2833,
          27.7208,
          146.5208,
          82.1708,
          76.7292,
          61.9792,
          27.7208,
          34.6542,
          63.3583,
          247.5208,
          79.2,
          61.3792,
          30.6958,
          28.7125,
          27.7208,
          146.5208,
          31,
          113.275,
          76.2917,
          79.2,
          512.3292,
          29.7,
          91.0792,
          27.7208,
          247.5208,
          110.8833,
          108.9,
          56.9292,
          83.1583,
          262.375,
          134.5,
          135.6333,
          57.9792,
          134.5,
          75.25,
          69.3,
          55.4417,
          135.6333,
          82.1708,
          211.5,
          227.525,
          113.275,
          27.75,
          89.1042,
          91.0792,
          29.7,
          49.5042,
          78.2667,
          108.9,
          59.4,
          57.9792,
          106.425,
          49.5,
          106.425,
          110.8833,
          39.6,
          227.525,
          110.8833,
          40.125,
          79.2,
          78.2667,
          56.9292,
          26.55,
          30.5,
          69.3,
          76.7292,
          35.5,
          113.275,
          512.3292,
          76.7292,
          110.8833,
          227.525,
          49.5042,
          227.525,
          512.3292,
          262.375,
          39.6,
          79.2,
          30.6958,
          83.1583,
          29.7,
          31,
          89.1042,
          83.1583,
          30,
          59.4,
          61.3792,
          262.375,
          61.9792,
          57.75,
          29.7,
          76.2917,
          262.375,
          262.375,
          28.5375,
          27.7208,
          211.5,
          211.5,
          26,
          55.4417,
          31.6792,
          75.2417,
          57.75,
          28.5,
          262.375,
          83.1583,
          50.4958,
          27.7208,
          55.4417,
          83.1583,
          83.1583,
          247.5208,
          134.5,
          227.525,
          25.7417,
          27.7208,
          211.5,
          27.4458,
          71.2833,
          75.25,
          106.425,
          27.7208,
          134.5,
          136.7792,
          75.2417,
          136.7792,
          135.6333,
          146.5208,
          79.2,
          29.7,
          512.3292,
          63.3583,
          55.4417,
          59.4,
          134.5,
          262.375,
          79.2,
          59.4,
          27.7208,
          211.5,
          108.9
         ]
        },
        {
         "marker": {
          "color": "rgb(0, 128, 128)"
         },
         "name": "Q",
         "type": "box",
         "y": [
          90,
          90,
          90
         ]
        },
        {
         "marker": {
          "color": "rgb(107,174,214)"
         },
         "name": "S",
         "type": "box",
         "y": [
          53.1,
          51.8625,
          26.55,
          35.5,
          263,
          52,
          35.5,
          83.475,
          47.1,
          263,
          61.175,
          77.2875,
          52,
          77.2875,
          26.2833,
          53.1,
          66.6,
          55,
          25.925,
          33.5,
          50,
          26.55,
          90,
          83.475,
          52.5542,
          26.55,
          86.5,
          79.65,
          0,
          153.4625,
          135.6333,
          31,
          77.9583,
          26,
          78.85,
          151.55,
          30.5,
          151.55,
          164.8667,
          28.5,
          153.4625,
          133.65,
          66.6,
          35.5,
          263,
          35,
          55,
          52,
          120,
          26.55,
          55.9,
          120,
          263,
          81.8583,
          26.55,
          30.5,
          26.55,
          51.8625,
          26.55,
          38.5,
          26.55,
          52,
          90,
          30.5,
          151.55,
          86.5,
          26.55,
          26.2875,
          34.0208,
          93.5,
          221.7792,
          26.55,
          71,
          26,
          26.55,
          79.65,
          51.4792,
          26.3875,
          55.9,
          79.65,
          42.4,
          30.5,
          153.4625,
          52.5542,
          32.3208,
          77.9583,
          30,
          0,
          133.65,
          25.5875,
          52,
          52,
          211.3375,
          57,
          26.55,
          26.2875,
          26.2875,
          151.55,
          26.55,
          52,
          53.1,
          211.3375,
          30,
          78.85,
          71,
          53.1,
          86.5,
          120,
          77.9583,
          211.3375,
          57,
          30,
          25.9292,
          120,
          0,
          53.1,
          0,
          93.5,
          0,
          39.4,
          164.8667,
          26.55,
          25.9292,
          50.4958,
          52.5542,
          5,
          30,
          26,
          82.2667,
          61.175,
          31.6833,
          30.5,
          26.55,
          52.5542,
          60,
          263,
          42.4,
          263,
          25.7,
          221.7792,
          26,
          52,
          78.85,
          221.7792,
          151.55,
          26.55,
          51.8625,
          26.55,
          221.7792,
          26.55,
          53.1,
          26,
          42.5,
          164.8667,
          26.55,
          51.8625,
          0,
          82.2667,
          39.6,
          81.8583,
          45.5,
          26.55,
          151.55,
          93.5,
          26.55,
          211.3375,
          26,
          26,
          51.4792,
          0,
          81.8583,
          50,
          93.5,
          39.4,
          60,
          164.8667,
          47.1
         ]
        }
       ],
       "layout": {}
      },
      "text/html": [
       "<div id=\"9a9d2b4a-d581-4259-bff5-03925f8b5f3c\" style=\"height: 525px; width: 100%;\" class=\"plotly-graph-div\"></div><script type=\"text/javascript\">require([\"plotly\"], function(Plotly) { window.PLOTLYENV=window.PLOTLYENV || {};window.PLOTLYENV.BASE_URL=\"https://plot.ly\";Plotly.newPlot(\"9a9d2b4a-d581-4259-bff5-03925f8b5f3c\", [{\"type\": \"box\", \"y\": [71.2833, 27.7208, 146.5208, 82.1708, 76.7292, 61.9792, 27.7208, 34.6542, 63.3583, 247.5208, 79.2, 61.3792, 30.6958, 28.7125, 27.7208, 146.5208, 31.0, 113.275, 76.2917, 79.2, 512.3292, 29.7, 91.0792, 27.7208, 247.5208, 110.8833, 108.9, 56.9292, 83.1583, 262.375, 134.5, 135.6333, 57.9792, 134.5, 75.25, 69.3, 55.4417, 135.6333, 82.1708, 211.5, 227.525, 113.275, 27.75, 89.1042, 91.0792, 29.7, 49.5042, 78.2667, 108.9, 59.4, 57.9792, 106.425, 49.5, 106.425, 110.8833, 39.6, 227.525, 110.8833, 40.125, 79.2, 78.2667, 56.9292, 26.55, 30.5, 69.3, 76.7292, 35.5, 113.275, 512.3292, 76.7292, 110.8833, 227.525, 49.5042, 227.525, 512.3292, 262.375, 39.6, 79.2, 30.6958, 83.1583, 29.7, 31.0, 89.1042, 83.1583, 30.0, 59.4, 61.3792, 262.375, 61.9792, 57.75, 29.7, 76.2917, 262.375, 262.375, 28.5375, 27.7208, 211.5, 211.5, 26.0, 55.4417, 31.6792, 75.2417, 57.75, 28.5, 262.375, 83.1583, 50.4958, 27.7208, 55.4417, 83.1583, 83.1583, 247.5208, 134.5, 227.525, 25.7417, 27.7208, 211.5, 27.4458, 71.2833, 75.25, 106.425, 27.7208, 134.5, 136.7792, 75.2417, 136.7792, 135.6333, 146.5208, 79.2, 29.7, 512.3292, 63.3583, 55.4417, 59.4, 134.5, 262.375, 79.2, 59.4, 27.7208, 211.5, 108.9], \"name\": \"C\", \"marker\": {\"color\": \"rgb(214, 12, 140)\"}}, {\"type\": \"box\", \"y\": [90.0, 90.0, 90.0], \"name\": \"Q\", \"marker\": {\"color\": \"rgb(0, 128, 128)\"}}, {\"type\": \"box\", \"y\": [53.1, 51.8625, 26.55, 35.5, 263.0, 52.0, 35.5, 83.475, 47.1, 263.0, 61.175, 77.2875, 52.0, 77.2875, 26.2833, 53.1, 66.6, 55.0, 25.925, 33.5, 50.0, 26.55, 90.0, 83.475, 52.5542, 26.55, 86.5, 79.65, 0.0, 153.4625, 135.6333, 31.0, 77.9583, 26.0, 78.85, 151.55, 30.5, 151.55, 164.8667, 28.5, 153.4625, 133.65, 66.6, 35.5, 263.0, 35.0, 55.0, 52.0, 120.0, 26.55, 55.9, 120.0, 263.0, 81.8583, 26.55, 30.5, 26.55, 51.8625, 26.55, 38.5, 26.55, 52.0, 90.0, 30.5, 151.55, 86.5, 26.55, 26.2875, 34.0208, 93.5, 221.7792, 26.55, 71.0, 26.0, 26.55, 79.65, 51.4792, 26.3875, 55.9, 79.65, 42.4, 30.5, 153.4625, 52.5542, 32.3208, 77.9583, 30.0, 0.0, 133.65, 25.5875, 52.0, 52.0, 211.3375, 57.0, 26.55, 26.2875, 26.2875, 151.55, 26.55, 52.0, 53.1, 211.3375, 30.0, 78.85, 71.0, 53.1, 86.5, 120.0, 77.9583, 211.3375, 57.0, 30.0, 25.9292, 120.0, 0.0, 53.1, 0.0, 93.5, 0.0, 39.4, 164.8667, 26.55, 25.9292, 50.4958, 52.5542, 5.0, 30.0, 26.0, 82.2667, 61.175, 31.6833, 30.5, 26.55, 52.5542, 60.0, 263.0, 42.4, 263.0, 25.7, 221.7792, 26.0, 52.0, 78.85, 221.7792, 151.55, 26.55, 51.8625, 26.55, 221.7792, 26.55, 53.1, 26.0, 42.5, 164.8667, 26.55, 51.8625, 0.0, 82.2667, 39.6, 81.8583, 45.5, 26.55, 151.55, 93.5, 26.55, 211.3375, 26.0, 26.0, 51.4792, 0.0, 81.8583, 50.0, 93.5, 39.4, 60.0, 164.8667, 47.1], \"name\": \"S\", \"marker\": {\"color\": \"rgb(107,174,214)\"}}], {}, {\"showLink\": true, \"linkText\": \"Export to plot.ly\"})});</script>"
      ],
      "text/vnd.plotly.v1+html": [
       "<div id=\"9a9d2b4a-d581-4259-bff5-03925f8b5f3c\" style=\"height: 525px; width: 100%;\" class=\"plotly-graph-div\"></div><script type=\"text/javascript\">require([\"plotly\"], function(Plotly) { window.PLOTLYENV=window.PLOTLYENV || {};window.PLOTLYENV.BASE_URL=\"https://plot.ly\";Plotly.newPlot(\"9a9d2b4a-d581-4259-bff5-03925f8b5f3c\", [{\"type\": \"box\", \"y\": [71.2833, 27.7208, 146.5208, 82.1708, 76.7292, 61.9792, 27.7208, 34.6542, 63.3583, 247.5208, 79.2, 61.3792, 30.6958, 28.7125, 27.7208, 146.5208, 31.0, 113.275, 76.2917, 79.2, 512.3292, 29.7, 91.0792, 27.7208, 247.5208, 110.8833, 108.9, 56.9292, 83.1583, 262.375, 134.5, 135.6333, 57.9792, 134.5, 75.25, 69.3, 55.4417, 135.6333, 82.1708, 211.5, 227.525, 113.275, 27.75, 89.1042, 91.0792, 29.7, 49.5042, 78.2667, 108.9, 59.4, 57.9792, 106.425, 49.5, 106.425, 110.8833, 39.6, 227.525, 110.8833, 40.125, 79.2, 78.2667, 56.9292, 26.55, 30.5, 69.3, 76.7292, 35.5, 113.275, 512.3292, 76.7292, 110.8833, 227.525, 49.5042, 227.525, 512.3292, 262.375, 39.6, 79.2, 30.6958, 83.1583, 29.7, 31.0, 89.1042, 83.1583, 30.0, 59.4, 61.3792, 262.375, 61.9792, 57.75, 29.7, 76.2917, 262.375, 262.375, 28.5375, 27.7208, 211.5, 211.5, 26.0, 55.4417, 31.6792, 75.2417, 57.75, 28.5, 262.375, 83.1583, 50.4958, 27.7208, 55.4417, 83.1583, 83.1583, 247.5208, 134.5, 227.525, 25.7417, 27.7208, 211.5, 27.4458, 71.2833, 75.25, 106.425, 27.7208, 134.5, 136.7792, 75.2417, 136.7792, 135.6333, 146.5208, 79.2, 29.7, 512.3292, 63.3583, 55.4417, 59.4, 134.5, 262.375, 79.2, 59.4, 27.7208, 211.5, 108.9], \"name\": \"C\", \"marker\": {\"color\": \"rgb(214, 12, 140)\"}}, {\"type\": \"box\", \"y\": [90.0, 90.0, 90.0], \"name\": \"Q\", \"marker\": {\"color\": \"rgb(0, 128, 128)\"}}, {\"type\": \"box\", \"y\": [53.1, 51.8625, 26.55, 35.5, 263.0, 52.0, 35.5, 83.475, 47.1, 263.0, 61.175, 77.2875, 52.0, 77.2875, 26.2833, 53.1, 66.6, 55.0, 25.925, 33.5, 50.0, 26.55, 90.0, 83.475, 52.5542, 26.55, 86.5, 79.65, 0.0, 153.4625, 135.6333, 31.0, 77.9583, 26.0, 78.85, 151.55, 30.5, 151.55, 164.8667, 28.5, 153.4625, 133.65, 66.6, 35.5, 263.0, 35.0, 55.0, 52.0, 120.0, 26.55, 55.9, 120.0, 263.0, 81.8583, 26.55, 30.5, 26.55, 51.8625, 26.55, 38.5, 26.55, 52.0, 90.0, 30.5, 151.55, 86.5, 26.55, 26.2875, 34.0208, 93.5, 221.7792, 26.55, 71.0, 26.0, 26.55, 79.65, 51.4792, 26.3875, 55.9, 79.65, 42.4, 30.5, 153.4625, 52.5542, 32.3208, 77.9583, 30.0, 0.0, 133.65, 25.5875, 52.0, 52.0, 211.3375, 57.0, 26.55, 26.2875, 26.2875, 151.55, 26.55, 52.0, 53.1, 211.3375, 30.0, 78.85, 71.0, 53.1, 86.5, 120.0, 77.9583, 211.3375, 57.0, 30.0, 25.9292, 120.0, 0.0, 53.1, 0.0, 93.5, 0.0, 39.4, 164.8667, 26.55, 25.9292, 50.4958, 52.5542, 5.0, 30.0, 26.0, 82.2667, 61.175, 31.6833, 30.5, 26.55, 52.5542, 60.0, 263.0, 42.4, 263.0, 25.7, 221.7792, 26.0, 52.0, 78.85, 221.7792, 151.55, 26.55, 51.8625, 26.55, 221.7792, 26.55, 53.1, 26.0, 42.5, 164.8667, 26.55, 51.8625, 0.0, 82.2667, 39.6, 81.8583, 45.5, 26.55, 151.55, 93.5, 26.55, 211.3375, 26.0, 26.0, 51.4792, 0.0, 81.8583, 50.0, 93.5, 39.4, 60.0, 164.8667, 47.1], \"name\": \"S\", \"marker\": {\"color\": \"rgb(107,174,214)\"}}], {}, {\"showLink\": true, \"linkText\": \"Export to plot.ly\"})});</script>"
      ]
     },
     "metadata": {},
     "output_type": "display_data"
    }
   ],
   "source": [
    "c = combine[(combine['Embarked']=='C')&(combine['Pclass']==1)]['Fare']\n",
    "q = combine[(combine['Embarked']=='Q')&(combine['Pclass']==1)]['Fare']\n",
    "s = combine[(combine['Embarked']=='S')&(combine['Pclass']==1)]['Fare']\n",
    "\n",
    "trace0 = go.Box(\n",
    "    y=c,\n",
    "    name = 'C',\n",
    "    marker = dict(\n",
    "        color = 'rgb(214, 12, 140)',\n",
    "    )\n",
    ")\n",
    "trace1 = go.Box(\n",
    "    y=q,\n",
    "    name = 'Q',\n",
    "    marker = dict(\n",
    "        color = 'rgb(0, 128, 128)',\n",
    "    )\n",
    ")\n",
    "trace2 = go.Box(\n",
    "    y=s,\n",
    "    name = 'S',\n",
    "    marker = dict(\n",
    "        color = 'rgb(107,174,214)',\n",
    "    )\n",
    ")\n",
    "data = [trace0, trace1,trace2 ]\n",
    "plotly.offline.iplot(data)"
   ]
  },
  {
   "cell_type": "markdown",
   "metadata": {
    "_cell_guid": "fb8f50e3-5d24-42ff-811b-24463aa0d54e",
    "_uuid": "d308caca9218d388f191f53efb7df38ecaf0d81c"
   },
   "source": [
    "- The median fare for a 1st class who departing from Charbourg coincides is $76.72, we have more confident replace the NaN with C."
   ]
  },
  {
   "cell_type": "code",
   "execution_count": 34,
   "metadata": {
    "_cell_guid": "93ae726b-661f-498e-9b82-c2f1b5cc1066",
    "_uuid": "d881c9a0620397a8817ec543b8e847e1b022a47f",
    "collapsed": true
   },
   "outputs": [],
   "source": [
    "combine['Embarked'].fillna('C', inplace=True)"
   ]
  },
  {
   "cell_type": "markdown",
   "metadata": {
    "_cell_guid": "fee11d52-2461-49de-a233-609168798179",
    "_uuid": "c3008ed475ad0357d5f3e83f54fbcabc78278709"
   },
   "source": [
    "## 4.3 Handle Age Missing Value\n",
    "- Over 20 % Missing, we cant do analysis one by one\n",
    "\n",
    "`combine['Age'].isnull().sum()/combine.shape[0]`\n",
    "\n",
    "### Statistic Note:\n",
    "- The Age Statstic of Single **_Female_** who took the **First Class**: \n",
    "\n",
    "|      | count | mean      | std       | min  | 25%   | 50%  | 75%  | max  |\n",
    "| ---- | ----- | --------- | --------- | ---- | ----- | ---- | ---- | ---- |\n",
    "| Age  | 48.0  | 36.416667 | 11.646995 | 16.0 | 29.75 | 35.0 | 42.5 | 62.0 |\n",
    "\n",
    "- The Age Statstic of Single **_Feale_**  who took the **Third Class**: \n",
    "\n",
    "|      | count | mean     | std      | min  | 25%  | 50%  | 75%  | max  |\n",
    "| ---- | ----- | -------- | -------- | ---- | ---- | ---- | ---- | ---- |\n",
    "| Age  | 64.0  | 24.09375 | 8.821814 | 5.0  | 18.0 | 22.0 | 28.0 | 63.0 |\n",
    "\n",
    "- The Age Statstic of Single **_Male_** who took the **First Class**: \n",
    "\n",
    "|      | count | mean     | std       | min  | 25%    | 50%  | 75%   | max  |\n",
    "| ---- | ----- | -------- | --------- | ---- | ------ | ---- | ----- | ---- |\n",
    "| Age  | 80.0  | 42.93125 | 12.871011 | 17.0 | 32.875 | 42.0 | 50.25 | 80.0 |\n",
    "\n",
    "- The Age Statstic of Single **_Male_** who took the **Third Class**: \n",
    "\n",
    "|      | count | mean      | std       | min  | 25%  | 50%  | 75%    | max  |\n",
    "| ---- | ----- | --------- | --------- | ---- | ---- | ---- | ------ | ---- |\n",
    "| Age  | 256.0 | 28.486328 | 10.012581 | 11.0 | 21.0 | 26.0 | 32.625 | 74.0 |\n",
    "\n",
    "### Important Note:\n",
    "- In Tatanic Rich People are older than low income  people by 12 years. (mean value)\n",
    "- Low income people look for new dream in America.\n",
    "- The rich youngest still older than the low income youngest, no matter male or femal.\n"
   ]
  },
  {
   "cell_type": "code",
   "execution_count": 35,
   "metadata": {
    "_cell_guid": "75b35f38-a363-4179-8101-d6c83341a890",
    "_uuid": "ef3cfd6d1914f8dc707f825da130a0d831c6f6a9",
    "collapsed": false
   },
   "outputs": [
    {
     "name": "stdout",
     "output_type": "stream",
     "text": [
      "Done, Age Missing Value accomplished!! 乁( ◔ ౪◔)「\n"
     ]
    }
   ],
   "source": [
    "# Fill NaN for First Class single male/female\n",
    "combine.ix[(combine['Age'].isnull())&(combine['Pclass']==1)&(combine['Sex']=='female'),'Age'] = 35\n",
    "combine.ix[(combine['Age'].isnull())&(combine['Pclass']==1)&(combine['Sex']=='male'),'Age'] = 42\n",
    "\n",
    "# Fill NaN for Second Class single male/female\n",
    "combine.ix[(combine['Age'].isnull())&(combine['Pclass']==2)&(combine['Sex']=='female'),'Age'] = 30\n",
    "combine.ix[(combine['Age'].isnull())&(combine['Pclass']==2)&(combine['Sex']=='male'),'Age'] = 30\n",
    "\n",
    "# Fill NaN for Third Class single male/female\n",
    "combine.ix[(combine['Age'].isnull())&(combine['Pclass']==3)&(combine['Sex']=='female'),'Age'] = 22\n",
    "combine.ix[(combine['Age'].isnull())&(combine['Pclass']==3)&(combine['Sex']=='male'),'Age'] = 26\n",
    "\n",
    "if combine['Age'].isnull().sum() == 0:\n",
    "    print('Done, Age Missing Value accomplished!! 乁( ◔ ౪◔)「')"
   ]
  },
  {
   "cell_type": "markdown",
   "metadata": {
    "_cell_guid": "766f2299-3617-414a-a9b3-a0a0e4f4c0d0",
    "_uuid": "f452332b942ea16df48ea7d6134f6c97f23e0e6b"
   },
   "source": [
    "## 4.4 Handle Cabin Missing Value\n",
    "- Over 70 % Missing\n"
   ]
  },
  {
   "cell_type": "code",
   "execution_count": 36,
   "metadata": {
    "_cell_guid": "3d994dcd-259d-4651-af65-6184e0a1ca09",
    "_uuid": "cfa60dbecb96a1080a2cf4d27c077dcd05ac07f9",
    "collapsed": false
   },
   "outputs": [
    {
     "data": {
      "text/plain": [
       "array([nan, 'C85', 'C123', 'E46', 'G6', 'C103', 'D56', 'A6', 'C23 C25 C27',\n",
       "       'B78', 'D33', 'B30', 'C52', 'B28', 'C83', 'F33', 'F G73', 'E31',\n",
       "       'A5', 'D10 D12', 'D26', 'C110', 'B58 B60', 'E101', 'F E69', 'D47',\n",
       "       'B86', 'F2', 'C2', 'E33', 'B19', 'A7', 'C49', 'F4', 'A32', 'B4',\n",
       "       'B80', 'A31', 'D36', 'D15', 'C93', 'C78', 'D35', 'C87', 'B77',\n",
       "       'E67', 'B94', 'C125', 'C99', 'C118', 'D7', 'A19', 'B49', 'D',\n",
       "       'C22 C26', 'C106', 'C65', 'E36', 'C54', 'B57 B59 B63 B66', 'C7',\n",
       "       'E34', 'C32', 'B18', 'C124', 'C91', 'E40', 'T', 'C128', 'D37',\n",
       "       'B35', 'E50', 'C82', 'B96 B98', 'E10', 'E44', 'A34', 'C104', 'C111',\n",
       "       'C92', 'E38', 'D21', 'E12', 'E63', 'A14', 'B37', 'C30', 'D20',\n",
       "       'B79', 'E25', 'D46', 'B73', 'C95', 'B38', 'B39', 'B22', 'C86',\n",
       "       'C70', 'A16', 'C101', 'C68', 'A10', 'E68', 'B41', 'A20', 'D19',\n",
       "       'D50', 'D9', 'A23', 'B50', 'A26', 'D48', 'E58', 'C126', 'B71',\n",
       "       'B51 B53 B55', 'D49', 'B5', 'B20', 'F G63', 'C62 C64', 'E24', 'C90',\n",
       "       'C45', 'E8', 'B101', 'D45', 'C46', 'D30', 'E121', 'D11', 'E77',\n",
       "       'F38', 'B3', 'D6', 'B82 B84', 'D17', 'A36', 'B102', 'B69', 'E49',\n",
       "       'C47', 'D28', 'E17', 'A24', 'C50', 'B42', 'C148', 'B45', 'B36',\n",
       "       'A21', 'D34', 'A9', 'C31', 'B61', 'C53', 'D43', 'C130', 'C132',\n",
       "       'C55 C57', 'C116', 'F', 'A29', 'C6', 'C28', 'C51', 'C97', 'D22',\n",
       "       'B10', 'E45', 'E52', 'A11', 'B11', 'C80', 'C89', 'F E46', 'B26',\n",
       "       'F E57', 'A18', 'E60', 'E39 E41', 'B52 B54 B56', 'C39', 'B24',\n",
       "       'D40', 'D38', 'C105'], dtype=object)"
      ]
     },
     "execution_count": 36,
     "metadata": {},
     "output_type": "execute_result"
    }
   ],
   "source": [
    "# Let's see the Cabin Number\n",
    "combine['Cabin'].unique()"
   ]
  },
  {
   "cell_type": "markdown",
   "metadata": {
    "_cell_guid": "fe793322-0105-4e63-bed7-c9256abaebed",
    "_uuid": "b3b5f5117f464f6f0e9c8cfd3d7f8c9be88a613e"
   },
   "source": [
    "From external data [Cabin Allocations](https://www.encyclopedia-titanica.org/cabins.html)\n",
    "\n",
    "1. __A - E : First Class__\n",
    "2. __D - F : Second Class__\n",
    "3. __F - G : Third Class__\n",
    "\n",
    "We also can prove the external data by checking kaggle titanic dataset.\n",
    "```\n",
    "combine[combine['Pclass']==1]['Cabin'].str.extract('(^.{0,1})', expand=False).unique()\n",
    "combine[combine['Pclass']==2]['Cabin'].str.extract('(^.{0,1})', expand=False).unique()\n",
    "combine[combine['Pclass']==3]['Cabin'].str.extract('(^.{0,1})', expand=False).unique()\n",
    "```"
   ]
  },
  {
   "cell_type": "code",
   "execution_count": 37,
   "metadata": {
    "_cell_guid": "19afd113-6d17-417c-9bb4-13ec8f1d4b1f",
    "_uuid": "aa23df64113a0cd133aa78dc9edc679ebe936d8a",
    "collapsed": false
   },
   "outputs": [
    {
     "data": {
      "text/plain": [
       "Pclass\n",
       "1     67\n",
       "2    254\n",
       "3    693\n",
       "dtype: int64"
      ]
     },
     "execution_count": 37,
     "metadata": {},
     "output_type": "execute_result"
    }
   ],
   "source": [
    "combine[combine['Cabin'].isnull()][['Pclass']].groupby(['Pclass']).size()"
   ]
  },
  {
   "cell_type": "markdown",
   "metadata": {
    "_cell_guid": "524159ff-2ab9-459e-a691-6e4a2d7939b6",
    "_uuid": "f8c6f775e4963822dbdcc02d0417247aad251af7"
   },
   "source": [
    "- 67 First Class people without Cabin information.\n",
    "- 254 Second Class without Cabin information.\n",
    "- 693 Poor Class  without Cabin information.\n",
    "\n",
    "### My Strategy is impute the NaN depend on what Plcass they live, by using\n",
    "`np.random.choice`\n"
   ]
  },
  {
   "cell_type": "code",
   "execution_count": 38,
   "metadata": {
    "_cell_guid": "d45ac7e9-de55-4d9f-a06e-9ffbeb3b2a8a",
    "_uuid": "ab7cfbab443d58725776d430335d0a8177067bde",
    "collapsed": false
   },
   "outputs": [
    {
     "name": "stdout",
     "output_type": "stream",
     "text": [
      "Beautiful, no more Cabin NaN. ლ(＾ω＾ლ)\n"
     ]
    }
   ],
   "source": [
    "combine.ix[(combine.Pclass==1)&(combine.Cabin.isnull()),'Cabin'] = np.random.choice(['A','B','C','D'])\n",
    "combine.ix[(combine.Pclass==2)&(combine.Cabin.isnull()),'Cabin'] = np.random.choice(['D','E','F'])\n",
    "combine.ix[(combine.Pclass==3)&(combine.Cabin.isnull()),'Cabin'] = np.random.choice(['E','F','G'])\n",
    "\n",
    "if combine['Cabin'].isnull().sum() == 0:\n",
    "    print('Beautiful, no more Cabin NaN. ლ(＾ω＾ლ)')"
   ]
  },
  {
   "cell_type": "code",
   "execution_count": 39,
   "metadata": {
    "_cell_guid": "eea014eb-e631-41ba-848e-f453b4dae1ab",
    "_uuid": "fa75a35f3c8aea9297a93aa1b0f9190410566bdd",
    "collapsed": false
   },
   "outputs": [
    {
     "data": {
      "text/plain": [
       "array(['F', 'C', 'E', 'D', 'G', 'A', 'B', 'T'], dtype=object)"
      ]
     },
     "execution_count": 39,
     "metadata": {},
     "output_type": "execute_result"
    }
   ],
   "source": [
    "combine['Cabin_Lv'] = combine.Cabin.str.extract('(^.{0,1})', expand=False)\n",
    "combine['Cabin_Lv'].unique()\n",
    "# Beautiful no more NaN"
   ]
  },
  {
   "cell_type": "markdown",
   "metadata": {
    "_cell_guid": "0b4644ac-2088-424c-916c-2c8694e0a1f0",
    "_uuid": "b433f76b3cf80f85ed6f8cf410e5674a4943b010"
   },
   "source": [
    "# 5 Data Analysis"
   ]
  },
  {
   "cell_type": "markdown",
   "metadata": {
    "_cell_guid": "cd820acc-8347-4017-82a4-ceffa093b9d4",
    "_uuid": "f662cff7b766962887ceb6f7fc6c3f3a2c7877ae"
   },
   "source": [
    "## 5.1 Categorical Encoding\n",
    "\n",
    "__Q__: What's categorical ?\n",
    "__A__: Not numeric\n",
    "\n",
    "Real-world datasets usually contain categorical features. \n",
    "When we are talking about categorical data, further distinguish between nominal and ordinal features. \n",
    "Ordinal features can be understood as categorical values that can be sorted or ordered.\n",
    "We can use the __LabelEncoder__ in __scikit-learn__ to help us encode categorical values into numerical values.\n",
    "\n",
    "Here we have some Nominal  variables like Embarked, Title, in Geometric space,  you can't exactly tell the Hyperdimension distance between **Nominal Feature**.\n",
    "If you try to  include these in your model, you'll need to make binary dummy variables. \n",
    "An alternative way is simple to do with Pandas thanks to `get_dummies()`.\n",
    "\n",
    "\n",
    "How do I  find categorical column names ?\n",
    "\n",
    "`pandas.DataFrame.select_dtypes`"
   ]
  },
  {
   "cell_type": "code",
   "execution_count": 40,
   "metadata": {
    "_cell_guid": "d727a4d4-89ad-468d-9e32-590ef36f9cc9",
    "_uuid": "0a5a3aae0c9b78e43b7608f659b233881892bee4",
    "collapsed": false
   },
   "outputs": [
    {
     "data": {
      "text/plain": [
       "Index(['PassengerId', 'Pclass', 'Name', 'Sex', 'Age', 'SibSp', 'Parch',\n",
       "       'Ticket', 'Fare', 'Cabin', 'Embarked', 'Title', 'Name_length',\n",
       "       'FirstName', 'LuckyElizabeth', 'LuckyAnna', 'LuckyMary', 'Family',\n",
       "       'Alone', 'Fsize', 'Cabin_Lv'],\n",
       "      dtype='object')"
      ]
     },
     "execution_count": 40,
     "metadata": {},
     "output_type": "execute_result"
    }
   ],
   "source": [
    "combine.columns"
   ]
  },
  {
   "cell_type": "code",
   "execution_count": 41,
   "metadata": {
    "_cell_guid": "0cbed1d8-9c0a-46f3-8091-48ac936bdd10",
    "_uuid": "6cc1a5428afdf60ebb275831c7a4459e84322c9b",
    "collapsed": false
   },
   "outputs": [
    {
     "data": {
      "text/plain": [
       "Index(['Name', 'Sex', 'Ticket', 'Cabin', 'Embarked', 'Title', 'FirstName',\n",
       "       'Fsize', 'Cabin_Lv'],\n",
       "      dtype='object')"
      ]
     },
     "execution_count": 41,
     "metadata": {},
     "output_type": "execute_result"
    }
   ],
   "source": [
    "# Check categorical column names\n",
    "combine.select_dtypes(include=['object']).columns"
   ]
  },
  {
   "cell_type": "code",
   "execution_count": 42,
   "metadata": {
    "_cell_guid": "e5b493f1-def2-4dc1-8e0e-17df431ab0e9",
    "_uuid": "6269a4f25518b2a89a2dd028a4472d7db8698b91",
    "collapsed": true
   },
   "outputs": [],
   "source": [
    "combine.drop(['Name','Ticket','Cabin', 'SibSp', 'Parch','FirstName'], axis = 1, inplace = True)\n",
    "\n",
    "# encode categorical features\n",
    "catego_features = ['Sex', 'Embarked', 'Title', 'Fsize', 'Cabin_Lv']\n",
    "catego_le = LabelEncoder()\n",
    "\n",
    "for i in catego_features:\n",
    "    combine[i] = catego_le.fit_transform(combine[i])"
   ]
  },
  {
   "cell_type": "markdown",
   "metadata": {
    "_cell_guid": "6c8cf6ff-761f-449a-800f-fa6577c730a6",
    "_uuid": "0751632b3580566b82ddac5cbe38f92f95825f4c"
   },
   "source": [
    "## 5.2 Correlation Heatmap\n",
    "\n",
    "let us generate some correlation plots of the features to see how related one feature is to the next. To do so, we will utilise the Seaborn plotting package which allows us to plot heatmaps very conveniently as follows"
   ]
  },
  {
   "cell_type": "code",
   "execution_count": 43,
   "metadata": {
    "_cell_guid": "ae8ee376-79dd-4dd3-8be8-660acf89bdea",
    "_uuid": "a3cdbca4a122e6594b0c74b348ac2b872e481a2b",
    "collapsed": false
   },
   "outputs": [
    {
     "data": {
      "image/png": "[encoded data removed]",
      "text/plain": [
       "<matplotlib.figure.Figure at 0x7ff453104fd0>"
      ]
     },
     "metadata": {},
     "output_type": "display_data"
    }
   ],
   "source": [
    "corrmat = combine.drop('PassengerId',axis=1).corr()\n",
    "f, ax = plt.subplots(figsize=(12, 9))\n",
    "plt.title(\"Features' Correlation\",size=15)\n",
    "sns.heatmap(corrmat, cbar=True, annot=True, square=True, vmax=.8, fmt='.2f');"
   ]
  },
  {
   "cell_type": "markdown",
   "metadata": {
    "_cell_guid": "3d54a97c-8f3a-48a6-8fdb-18e5c087f1bb",
    "_uuid": "b2e50073fd5e4b1940113c576c4fcaa2f18098fd"
   },
   "source": [
    "## 5.3 Split into training & test sets"
   ]
  },
  {
   "cell_type": "code",
   "execution_count": 44,
   "metadata": {
    "_cell_guid": "a4e34b5e-525b-4378-a606-715a9c6f1fb0",
    "_uuid": "1e336b77cc77479d875bbd7ae82ac9e53ee51865",
    "collapsed": false
   },
   "outputs": [
    {
     "name": "stderr",
     "output_type": "stream",
     "text": [
      "/home/knolly/anaconda3/lib/python3.6/site-packages/ipykernel/__main__.py:2: SettingWithCopyWarning:\n",
      "\n",
      "\n",
      "A value is trying to be set on a copy of a slice from a DataFrame.\n",
      "Try using .loc[row_indexer,col_indexer] = value instead\n",
      "\n",
      "See the caveats in the documentation: http://pandas.pydata.org/pandas-docs/stable/indexing.html#indexing-view-versus-copy\n",
      "\n"
     ]
    }
   ],
   "source": [
    "train_df = combine.iloc[:train.shape[0],:]\n",
    "train_df['Survived'] = train['Survived']\n",
    "test_df = combine.iloc[train.shape[0]: ,:]"
   ]
  },
  {
   "cell_type": "code",
   "execution_count": 45,
   "metadata": {
    "_cell_guid": "0f81dd81-520a-4f95-bae7-9ac98b080e84",
    "_uuid": "447e5dfbf109837d6003722d93d9f192e4517e89",
    "collapsed": false
   },
   "outputs": [
    {
     "data": {
      "text/html": [
       "<div>\n",
       "<table border=\"1\" class=\"dataframe\">\n",
       "  <thead>\n",
       "    <tr style=\"text-align: right;\">\n",
       "      <th></th>\n",
       "      <th>PassengerId</th>\n",
       "      <th>Pclass</th>\n",
       "      <th>Sex</th>\n",
       "      <th>Age</th>\n",
       "      <th>Fare</th>\n",
       "      <th>Embarked</th>\n",
       "      <th>Title</th>\n",
       "      <th>Name_length</th>\n",
       "      <th>LuckyElizabeth</th>\n",
       "      <th>LuckyAnna</th>\n",
       "      <th>LuckyMary</th>\n",
       "      <th>Family</th>\n",
       "      <th>Alone</th>\n",
       "      <th>Fsize</th>\n",
       "      <th>Cabin_Lv</th>\n",
       "      <th>Survived</th>\n",
       "    </tr>\n",
       "  </thead>\n",
       "  <tbody>\n",
       "    <tr>\n",
       "      <th>0</th>\n",
       "      <td>1</td>\n",
       "      <td>3</td>\n",
       "      <td>1</td>\n",
       "      <td>22.0</td>\n",
       "      <td>7.2500</td>\n",
       "      <td>2</td>\n",
       "      <td>2</td>\n",
       "      <td>21</td>\n",
       "      <td>0</td>\n",
       "      <td>0</td>\n",
       "      <td>0</td>\n",
       "      <td>1</td>\n",
       "      <td>0</td>\n",
       "      <td>2</td>\n",
       "      <td>5</td>\n",
       "      <td>0</td>\n",
       "    </tr>\n",
       "    <tr>\n",
       "      <th>1</th>\n",
       "      <td>2</td>\n",
       "      <td>1</td>\n",
       "      <td>0</td>\n",
       "      <td>38.0</td>\n",
       "      <td>71.2833</td>\n",
       "      <td>0</td>\n",
       "      <td>3</td>\n",
       "      <td>48</td>\n",
       "      <td>0</td>\n",
       "      <td>0</td>\n",
       "      <td>0</td>\n",
       "      <td>1</td>\n",
       "      <td>0</td>\n",
       "      <td>2</td>\n",
       "      <td>2</td>\n",
       "      <td>1</td>\n",
       "    </tr>\n",
       "    <tr>\n",
       "      <th>2</th>\n",
       "      <td>3</td>\n",
       "      <td>3</td>\n",
       "      <td>0</td>\n",
       "      <td>26.0</td>\n",
       "      <td>7.9250</td>\n",
       "      <td>2</td>\n",
       "      <td>1</td>\n",
       "      <td>18</td>\n",
       "      <td>0</td>\n",
       "      <td>0</td>\n",
       "      <td>0</td>\n",
       "      <td>0</td>\n",
       "      <td>1</td>\n",
       "      <td>0</td>\n",
       "      <td>5</td>\n",
       "      <td>1</td>\n",
       "    </tr>\n",
       "    <tr>\n",
       "      <th>3</th>\n",
       "      <td>4</td>\n",
       "      <td>1</td>\n",
       "      <td>0</td>\n",
       "      <td>35.0</td>\n",
       "      <td>53.1000</td>\n",
       "      <td>2</td>\n",
       "      <td>3</td>\n",
       "      <td>41</td>\n",
       "      <td>0</td>\n",
       "      <td>0</td>\n",
       "      <td>0</td>\n",
       "      <td>1</td>\n",
       "      <td>0</td>\n",
       "      <td>2</td>\n",
       "      <td>2</td>\n",
       "      <td>1</td>\n",
       "    </tr>\n",
       "    <tr>\n",
       "      <th>4</th>\n",
       "      <td>5</td>\n",
       "      <td>3</td>\n",
       "      <td>1</td>\n",
       "      <td>35.0</td>\n",
       "      <td>8.0500</td>\n",
       "      <td>2</td>\n",
       "      <td>2</td>\n",
       "      <td>22</td>\n",
       "      <td>0</td>\n",
       "      <td>0</td>\n",
       "      <td>0</td>\n",
       "      <td>0</td>\n",
       "      <td>1</td>\n",
       "      <td>0</td>\n",
       "      <td>5</td>\n",
       "      <td>0</td>\n",
       "    </tr>\n",
       "  </tbody>\n",
       "</table>\n",
       "</div>"
      ],
      "text/plain": [
       "   PassengerId  Pclass  Sex   Age     Fare  Embarked  Title  Name_length  \\\n",
       "0            1       3    1  22.0   7.2500         2      2           21   \n",
       "1            2       1    0  38.0  71.2833         0      3           48   \n",
       "2            3       3    0  26.0   7.9250         2      1           18   \n",
       "3            4       1    0  35.0  53.1000         2      3           41   \n",
       "4            5       3    1  35.0   8.0500         2      2           22   \n",
       "\n",
       "   LuckyElizabeth  LuckyAnna  LuckyMary  Family  Alone  Fsize  Cabin_Lv  \\\n",
       "0               0          0          0       1      0      2         5   \n",
       "1               0          0          0       1      0      2         2   \n",
       "2               0          0          0       0      1      0         5   \n",
       "3               0          0          0       1      0      2         2   \n",
       "4               0          0          0       0      1      0         5   \n",
       "\n",
       "   Survived  \n",
       "0         0  \n",
       "1         1  \n",
       "2         1  \n",
       "3         1  \n",
       "4         0  "
      ]
     },
     "execution_count": 45,
     "metadata": {},
     "output_type": "execute_result"
    }
   ],
   "source": [
    "train_df.head()"
   ]
  },
  {
   "cell_type": "code",
   "execution_count": 46,
   "metadata": {
    "_cell_guid": "b58f9dc4-804b-4669-a9a1-da9a0991277e",
    "_uuid": "55894c4e1b5bd49be967cd0db830e70b0da33cf8",
    "collapsed": true
   },
   "outputs": [],
   "source": [
    "X = train_df.drop(['PassengerId','Survived','Fsize'], axis=1)\n",
    "y = train_df.Survived.values\n",
    "X_train, X_test, y_train, y_test = train_test_split(X, y, test_size=0.2, random_state = 0)"
   ]
  },
  {
   "cell_type": "markdown",
   "metadata": {
    "_cell_guid": "46419c88-70ce-40ff-b6fb-9b688de37441",
    "_uuid": "10a422cd9337f76ba074ce9b683cd56c782fe7ba"
   },
   "source": [
    "## 5.4 Feature Important"
   ]
  },
  {
   "cell_type": "markdown",
   "metadata": {
    "_cell_guid": "8d5e4f3e-9bab-46c9-ac38-59f23af6411c",
    "_uuid": "c2882816a79fd9c62b45802432d8e8eeb9fb04ef"
   },
   "source": [
    "- __Decision Tree Classifier__\n",
    "\n",
    "A decision tree is a flowchart-like structure in which each internal node represents a \"test\" on an attribute (e.g. whether a coin flip comes up heads or tails), each branch represents the outcome of the test, and each leaf node represents a class label (decision taken after computing all attributes). The paths from root to leaf represent classification rules."
   ]
  },
  {
   "cell_type": "code",
   "execution_count": 47,
   "metadata": {
    "_cell_guid": "563650ce-fe65-4fb7-9978-0dceb475d52e",
    "_uuid": "71e10fc2b3bca95ee15f81680cf2ee5a052bd5c3",
    "collapsed": false
   },
   "outputs": [
    {
     "data": {
      "image/png": "[encoded data removed]",
      "text/plain": [
       "<matplotlib.figure.Figure at 0x7ff453124320>"
      ]
     },
     "metadata": {},
     "output_type": "display_data"
    }
   ],
   "source": [
    "matplotlib.style.use('fivethirtyeight')\n",
    "matplotlib.rcParams['figure.figsize'] = (12,6)\n",
    "model = DecisionTreeClassifier(max_depth=6 ,random_state=87)\n",
    "model.fit(X, y)\n",
    "feat_names = X.columns.values\n",
    "## plot the importances ##\n",
    "importances = model.feature_importances_\n",
    "indices = np.argsort(importances)[::-1]\n",
    "\n",
    "plt.figure(figsize=(12,6))\n",
    "plt.title(\"Feature importances by DecisionTreeClassifier\")\n",
    "plt.bar(range(len(indices)), importances[indices], color='lightblue',  align=\"center\")\n",
    "plt.step(range(len(indices)), np.cumsum(importances[indices]), where='mid', label='Cumulative')\n",
    "plt.xticks(range(len(indices)), feat_names[indices], rotation='vertical',fontsize=14)\n",
    "plt.xlim([-1, len(indices)])\n",
    "plt.show()"
   ]
  },
  {
   "cell_type": "markdown",
   "metadata": {
    "_cell_guid": "bd763696-f3b2-4189-8e1f-7f1c92827d39",
    "_uuid": "fd37b93309e2f50559ecdf582fb6072514a63410"
   },
   "source": [
    "- __RandomForest Classifier__\n",
    "\n",
    "A random forest is a meta estimator that fits a number of decision tree classifiers on various sub-samples of the dataset and use averaging to improve the predictive accuracy and control over-fitting. "
   ]
  },
  {
   "cell_type": "code",
   "execution_count": 48,
   "metadata": {
    "_cell_guid": "bee6930b-78d1-42c8-b490-02b522f7f14a",
    "_uuid": "53b25692edce9be44ea35a516b333565be853611",
    "collapsed": false
   },
   "outputs": [
    {
     "data": {
      "image/png": "[encoded data removed]",
      "text/plain": [
       "<matplotlib.figure.Figure at 0x7ff4531fa5c0>"
      ]
     },
     "metadata": {},
     "output_type": "display_data"
    }
   ],
   "source": [
    "model = RandomForestClassifier(n_estimators = 100 ,max_depth=8, random_state=87)\n",
    "model.fit(X, y)\n",
    "feat_names = X.columns.values\n",
    "## plot the importances ##\n",
    "importances = model.feature_importances_\n",
    "std = np.std([tree.feature_importances_ for tree in model.estimators_], axis=0)\n",
    "indices = np.argsort(importances)[::-1]\n",
    "\n",
    "plt.figure(figsize=(12,6))\n",
    "plt.title(\"Feature importances by RandomForest\")\n",
    "plt.bar(range(len(indices)), importances[indices], color='lightblue', yerr=std[indices], align=\"center\")\n",
    "plt.step(range(len(indices)), np.cumsum(importances[indices]), where='mid', label='Cumulative')\n",
    "plt.xticks(range(len(indices)), feat_names[indices], rotation='vertical',fontsize=14)\n",
    "plt.xlim([-1, len(indices)])\n",
    "plt.show()"
   ]
  },
  {
   "cell_type": "markdown",
   "metadata": {
    "_cell_guid": "00223cdd-83cf-40d0-a606-b891b5893bd4",
    "_uuid": "7557e99234f9ede2ef10be937e13178bb93808bb"
   },
   "source": [
    "- __XGB Classifier__\n",
    "\n",
    "XGBoost is an optimized distributed gradient boosting library designed to be highly efficient, flexible and portable. It implements machine learning algorithms under the Gradient Boosting framework"
   ]
  },
  {
   "cell_type": "code",
   "execution_count": 49,
   "metadata": {
    "_cell_guid": "f501eec6-744a-4c18-a8d4-aa7fef6f24ec",
    "_uuid": "3ffdff8fc90a835b7771e0994c1439a3ea407525",
    "collapsed": false
   },
   "outputs": [
    {
     "ename": "NameError",
     "evalue": "name 'XGBClassifier' is not defined",
     "output_type": "error",
     "traceback": [
      "\u001b[0;31m---------------------------------------------------------------------------\u001b[0m",
      "\u001b[0;31mNameError\u001b[0m                                 Traceback (most recent call last)",
      "\u001b[0;32m<ipython-input-49-fde6f479d9d1>\u001b[0m in \u001b[0;36m<module>\u001b[0;34m()\u001b[0m\n\u001b[0;32m----> 1\u001b[0;31m model = XGBClassifier(eta = 0.01, max_depth = 8, subsample = 0.8, colsample_bytree= 0.75,\n\u001b[0m\u001b[1;32m      2\u001b[0m                      num_iterations= 5000)\n\u001b[1;32m      3\u001b[0m \u001b[0mmodel\u001b[0m\u001b[0;34m.\u001b[0m\u001b[0mfit\u001b[0m\u001b[0;34m(\u001b[0m\u001b[0mX\u001b[0m\u001b[0;34m,\u001b[0m \u001b[0my\u001b[0m\u001b[0;34m)\u001b[0m\u001b[0;34m\u001b[0m\u001b[0m\n\u001b[1;32m      4\u001b[0m \u001b[0mimportances\u001b[0m \u001b[0;34m=\u001b[0m \u001b[0mmodel\u001b[0m\u001b[0;34m.\u001b[0m\u001b[0mfeature_importances_\u001b[0m\u001b[0;34m\u001b[0m\u001b[0m\n\u001b[1;32m      5\u001b[0m \u001b[0mindices\u001b[0m \u001b[0;34m=\u001b[0m \u001b[0mnp\u001b[0m\u001b[0;34m.\u001b[0m\u001b[0margsort\u001b[0m\u001b[0;34m(\u001b[0m\u001b[0mimportances\u001b[0m\u001b[0;34m)\u001b[0m\u001b[0;34m[\u001b[0m\u001b[0;34m:\u001b[0m\u001b[0;34m:\u001b[0m\u001b[0;34m-\u001b[0m\u001b[0;36m1\u001b[0m\u001b[0;34m]\u001b[0m\u001b[0;34m\u001b[0m\u001b[0m\n",
      "\u001b[0;31mNameError\u001b[0m: name 'XGBClassifier' is not defined"
     ]
    }
   ],
   "source": [
    "model = XGBClassifier(eta = 0.01, max_depth = 8, subsample = 0.8, colsample_bytree= 0.75,\n",
    "                     num_iterations= 5000)\n",
    "model.fit(X, y)\n",
    "importances = model.feature_importances_\n",
    "indices = np.argsort(importances)[::-1]\n",
    "plt.figure(figsize=(12,6))\n",
    "plt.title(\"Feature importances by XGB\") # Thanks Oscar Takeshita's kindly remind\n",
    "plt.bar(range(len(indices)), importances[indices], color='lightblue', align=\"center\")\n",
    "plt.step(range(len(indices)), np.cumsum(importances[indices]), where='mid', label='Cumulative')\n",
    "plt.xticks(range(len(indices)), feat_names[indices], rotation='vertical',fontsize=14)\n",
    "plt.xlim([-1, len(indices)])\n",
    "plt.show()"
   ]
  },
  {
   "cell_type": "markdown",
   "metadata": {
    "_cell_guid": "72ee4af8-9c9c-4c1e-90b6-8e381074ce77",
    "_uuid": "3faaae4ce8d6415e2299cde1e5a1628b4111b049"
   },
   "source": [
    "- __LightGBM  Classifier__\n",
    "\n",
    "LightGBM is a gradient boosting framework that uses tree based learning algorithms. It is designed to be distributed and efficient with the following advantages"
   ]
  },
  {
   "cell_type": "code",
   "execution_count": null,
   "metadata": {
    "_cell_guid": "b3bf6617-03c3-40fb-913e-596ff9fbe31f",
    "_uuid": "1f69f33d96b52795c795ae614c3dc0228304125e",
    "collapsed": true
   },
   "outputs": [],
   "source": [
    "lgb_params = {}\n",
    "lgb_params['objective'] = 'binary'\n",
    "lgb_params['metric'] = 'auc'\n",
    "lgb_params['sub_feature'] = 0.80 \n",
    "lgb_params['max_depth'] = 8\n",
    "lgb_params['feature_fraction'] = 0.7\n",
    "lgb_params['bagging_fraction'] = 0.7\n",
    "lgb_params['bagging_freq'] = 50\n",
    "lgb_params['learning_rate'] = 0.01\n",
    "lgb_params['num_iterations'] = 5000\n",
    "\n",
    "lgb_train = lgb.Dataset(X, y)\n",
    "lightgbm = lgb.train(lgb_params, lgb_train)\n",
    "\n",
    "lgb.plot_importance(lightgbm)\n",
    "plt.title(\"Feature importances by LightGBM\")\n",
    "plt.yticks(fontsize=14)\n",
    "plt.xticks(fontsize=14)\n",
    "plt.show()"
   ]
  },
  {
   "cell_type": "markdown",
   "metadata": {
    "_cell_guid": "964c6f39-d509-4cb2-ba1a-5f604b694747",
    "_uuid": "0c168a2677af05dcbf914f2c6a8b02e68e1c6535"
   },
   "source": [
    "- Contradiction\n",
    "\n",
    "    1. From EDA showed above, the feature __Alone__ play an important rule because it's highly correlate to death.\n",
    "    2. Gender should be important, also.\n",
    "\n",
    "- The important features from __whole dataset__ are total different than stack method refer to [Anisotropic](https://www.kaggle.com/arthurtok/introduction-to-ensembling-stacking-in-python)\n",
    "    1. From [Faron's](https://www.kaggle.com/mmueller/allstate-claims-severity/stacking-starter/run/390867) script, he did k-fold training, and I just use entire dataset.\n",
    "\n",
    "\n",
    "\n",
    "## New content coming Soon"
   ]
  },
  {
   "cell_type": "markdown",
   "metadata": {
    "_cell_guid": "dd82bcda-6e35-4f8b-b63d-10e550285526",
    "_uuid": "ab33ba3fec975b7b6add1d63272b49d465ac5054"
   },
   "source": [
    "# Acknowledgements\n",
    "1. [Oscar Takeshita](https://www.kaggle.com/pliptor) for pointing my XGB feature importance typo."
   ]
  }
 ],
 "metadata": {
  "kernelspec": {
   "display_name": "Python 3",
   "language": "python",
   "name": "python3"
  },
  "language_info": {
   "codemirror_mode": {
    "name": "ipython",
    "version": 3
   },
   "file_extension": ".py",
   "mimetype": "text/x-python",
   "name": "python",
   "nbconvert_exporter": "python",
   "pygments_lexer": "ipython3",
   "version": "3.6.0"
  }
 },
 "nbformat": 4,
 "nbformat_minor": 1
}
